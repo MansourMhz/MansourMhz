{
  "nbformat": 4,
  "nbformat_minor": 0,
  "metadata": {
    "colab": {
      "name": "Copy of Untitled18.ipynb",
      "provenance": [],
      "collapsed_sections": [],
      "mount_file_id": "1XA90Dfu2LsGQ0UKvwfMkSfgrvGvDool5",
      "authorship_tag": "ABX9TyMpZcoJXgyN7S4Lu3emnOyQ",
      "include_colab_link": true
    },
    "kernelspec": {
      "name": "python3",
      "display_name": "Python 3"
    },
    "language_info": {
      "name": "python"
    }
  },
  "cells": [
    {
      "cell_type": "markdown",
      "metadata": {
        "id": "view-in-github",
        "colab_type": "text"
      },
      "source": [
        "<a href=\"https://colab.research.google.com/github/MansourMhz/MansourMhz/blob/main/Copy_of_Untitled18.ipynb\" target=\"_parent\"><img src=\"https://colab.research.google.com/assets/colab-badge.svg\" alt=\"Open In Colab\"/></a>"
      ]
    },
    {
      "cell_type": "code",
      "metadata": {
        "colab": {
          "base_uri": "https://localhost:8080/",
          "height": 36
        },
        "id": "96XTtBzmZFng",
        "outputId": "7245cc2c-000f-4d0a-dd42-99c737990844"
      },
      "source": [
        "pwd"
      ],
      "execution_count": 2,
      "outputs": [
        {
          "output_type": "execute_result",
          "data": {
            "application/vnd.google.colaboratory.intrinsic+json": {
              "type": "string"
            },
            "text/plain": [
              "'/content'"
            ]
          },
          "metadata": {},
          "execution_count": 2
        }
      ]
    },
    {
      "cell_type": "code",
      "metadata": {
        "id": "66ysGMw1ZsVf"
      },
      "source": [
        "import pandas as pd\n",
        "import numpy as np\n",
        "import matplotlib.pyplot as plt\n",
        "\n",
        "import torch"
      ],
      "execution_count": 3,
      "outputs": []
    },
    {
      "cell_type": "code",
      "metadata": {
        "colab": {
          "base_uri": "https://localhost:8080/",
          "height": 36
        },
        "id": "iwngPe3AZ0E3",
        "outputId": "83110d56-5aeb-4a31-dc1f-c5fecc9c5dad"
      },
      "source": [
        "pwd"
      ],
      "execution_count": 4,
      "outputs": [
        {
          "output_type": "execute_result",
          "data": {
            "application/vnd.google.colaboratory.intrinsic+json": {
              "type": "string"
            },
            "text/plain": [
              "'/content'"
            ]
          },
          "metadata": {},
          "execution_count": 4
        }
      ]
    },
    {
      "cell_type": "code",
      "metadata": {
        "id": "EHQKgxxtaDf0"
      },
      "source": [
        "dataset = pd.read_csv('/content/drive/MyDrive/MasterThesis/xauusd.csv')"
      ],
      "execution_count": 6,
      "outputs": []
    },
    {
      "cell_type": "code",
      "metadata": {
        "colab": {
          "base_uri": "https://localhost:8080/"
        },
        "id": "y6lSo8w7apSh",
        "outputId": "1a5d22c2-bf39-42c6-a311-aa06f5549eb9"
      },
      "source": [
        "type(dataset)"
      ],
      "execution_count": 7,
      "outputs": [
        {
          "output_type": "execute_result",
          "data": {
            "text/plain": [
              "pandas.core.frame.DataFrame"
            ]
          },
          "metadata": {},
          "execution_count": 7
        }
      ]
    },
    {
      "cell_type": "code",
      "metadata": {
        "colab": {
          "base_uri": "https://localhost:8080/",
          "height": 206
        },
        "id": "lVDK-m5JavkY",
        "outputId": "2249fc9d-984c-449f-d1e8-296eb05f7c96"
      },
      "source": [
        "dataset.head(5)"
      ],
      "execution_count": 8,
      "outputs": [
        {
          "output_type": "execute_result",
          "data": {
            "text/html": [
              "<div>\n",
              "<style scoped>\n",
              "    .dataframe tbody tr th:only-of-type {\n",
              "        vertical-align: middle;\n",
              "    }\n",
              "\n",
              "    .dataframe tbody tr th {\n",
              "        vertical-align: top;\n",
              "    }\n",
              "\n",
              "    .dataframe thead th {\n",
              "        text-align: right;\n",
              "    }\n",
              "</style>\n",
              "<table border=\"1\" class=\"dataframe\">\n",
              "  <thead>\n",
              "    <tr style=\"text-align: right;\">\n",
              "      <th></th>\n",
              "      <th>Date</th>\n",
              "      <th>Open</th>\n",
              "      <th>High</th>\n",
              "      <th>Low</th>\n",
              "      <th>Close</th>\n",
              "    </tr>\n",
              "  </thead>\n",
              "  <tbody>\n",
              "    <tr>\n",
              "      <th>0</th>\n",
              "      <td>2016-03-01</td>\n",
              "      <td>1240.49</td>\n",
              "      <td>1248.77</td>\n",
              "      <td>1227.48</td>\n",
              "      <td>1232.66</td>\n",
              "    </tr>\n",
              "    <tr>\n",
              "      <th>1</th>\n",
              "      <td>2016-03-02</td>\n",
              "      <td>1231.44</td>\n",
              "      <td>1244.23</td>\n",
              "      <td>1225.02</td>\n",
              "      <td>1239.83</td>\n",
              "    </tr>\n",
              "    <tr>\n",
              "      <th>2</th>\n",
              "      <td>2016-03-03</td>\n",
              "      <td>1239.49</td>\n",
              "      <td>1268.55</td>\n",
              "      <td>1237.72</td>\n",
              "      <td>1264.87</td>\n",
              "    </tr>\n",
              "    <tr>\n",
              "      <th>3</th>\n",
              "      <td>2016-03-04</td>\n",
              "      <td>1260.20</td>\n",
              "      <td>1279.97</td>\n",
              "      <td>1250.78</td>\n",
              "      <td>1261.55</td>\n",
              "    </tr>\n",
              "    <tr>\n",
              "      <th>4</th>\n",
              "      <td>2016-03-07</td>\n",
              "      <td>1264.23</td>\n",
              "      <td>1273.43</td>\n",
              "      <td>1257.12</td>\n",
              "      <td>1267.54</td>\n",
              "    </tr>\n",
              "  </tbody>\n",
              "</table>\n",
              "</div>"
            ],
            "text/plain": [
              "         Date     Open     High      Low    Close\n",
              "0  2016-03-01  1240.49  1248.77  1227.48  1232.66\n",
              "1  2016-03-02  1231.44  1244.23  1225.02  1239.83\n",
              "2  2016-03-03  1239.49  1268.55  1237.72  1264.87\n",
              "3  2016-03-04  1260.20  1279.97  1250.78  1261.55\n",
              "4  2016-03-07  1264.23  1273.43  1257.12  1267.54"
            ]
          },
          "metadata": {},
          "execution_count": 8
        }
      ]
    },
    {
      "cell_type": "code",
      "metadata": {
        "colab": {
          "base_uri": "https://localhost:8080/"
        },
        "id": "R4Y89UXxazog",
        "outputId": "4da9dd47-8fbf-4e32-b1cb-787825b184a1"
      },
      "source": [
        "dataset.shape"
      ],
      "execution_count": 9,
      "outputs": [
        {
          "output_type": "execute_result",
          "data": {
            "text/plain": [
              "(1451, 5)"
            ]
          },
          "metadata": {},
          "execution_count": 9
        }
      ]
    },
    {
      "cell_type": "code",
      "metadata": {
        "colab": {
          "base_uri": "https://localhost:8080/"
        },
        "id": "0hG6HHFMa1gp",
        "outputId": "0f118ea9-3337-41ba-b18e-aaa9e8a43b18"
      },
      "source": [
        "dataset.shape[0]"
      ],
      "execution_count": 10,
      "outputs": [
        {
          "output_type": "execute_result",
          "data": {
            "text/plain": [
              "1451"
            ]
          },
          "metadata": {},
          "execution_count": 10
        }
      ]
    },
    {
      "cell_type": "code",
      "metadata": {
        "id": "QhydkWEra319",
        "colab": {
          "base_uri": "https://localhost:8080/"
        },
        "outputId": "8e916718-468f-466d-be28-0ba6627459f9"
      },
      "source": [
        "dataset.shape[1]"
      ],
      "execution_count": 11,
      "outputs": [
        {
          "output_type": "execute_result",
          "data": {
            "text/plain": [
              "5"
            ]
          },
          "metadata": {},
          "execution_count": 11
        }
      ]
    },
    {
      "cell_type": "code",
      "metadata": {
        "id": "UhWXERB1ryrR"
      },
      "source": [
        "num_train = int(dataset.shape[0]*0.70)"
      ],
      "execution_count": 12,
      "outputs": []
    },
    {
      "cell_type": "code",
      "metadata": {
        "id": "Ql0I0C2PsVfs"
      },
      "source": [
        "training_set = dataset.iloc[0:num_train,1].values #open"
      ],
      "execution_count": 13,
      "outputs": []
    },
    {
      "cell_type": "code",
      "metadata": {
        "colab": {
          "base_uri": "https://localhost:8080/"
        },
        "id": "znslrYobsYun",
        "outputId": "f287de4c-b1ef-4446-aae9-ceb49b53337e"
      },
      "source": [
        "training_set.shape"
      ],
      "execution_count": 14,
      "outputs": [
        {
          "output_type": "execute_result",
          "data": {
            "text/plain": [
              "(1015,)"
            ]
          },
          "metadata": {},
          "execution_count": 14
        }
      ]
    },
    {
      "cell_type": "code",
      "metadata": {
        "id": "y5lTzVMCsbcy"
      },
      "source": [
        "testing_set = dataset.iloc[num_train:,1].values"
      ],
      "execution_count": 15,
      "outputs": []
    },
    {
      "cell_type": "code",
      "metadata": {
        "colab": {
          "base_uri": "https://localhost:8080/"
        },
        "id": "L9gPoDe8sdLz",
        "outputId": "d6187e65-e352-4b66-fcd5-5be340570574"
      },
      "source": [
        "testing_set.shape"
      ],
      "execution_count": 16,
      "outputs": [
        {
          "output_type": "execute_result",
          "data": {
            "text/plain": [
              "(436,)"
            ]
          },
          "metadata": {},
          "execution_count": 16
        }
      ]
    },
    {
      "cell_type": "code",
      "metadata": {
        "id": "gq509gSMsjFC"
      },
      "source": [
        "from sklearn.preprocessing import MinMaxScaler"
      ],
      "execution_count": 17,
      "outputs": []
    },
    {
      "cell_type": "code",
      "metadata": {
        "colab": {
          "base_uri": "https://localhost:8080/"
        },
        "id": "ToJZSBK6slVE",
        "outputId": "121f15c5-6a85-432a-c766-d4bae49f386d"
      },
      "source": [
        "type(training_set)"
      ],
      "execution_count": 18,
      "outputs": [
        {
          "output_type": "execute_result",
          "data": {
            "text/plain": [
              "numpy.ndarray"
            ]
          },
          "metadata": {},
          "execution_count": 18
        }
      ]
    },
    {
      "cell_type": "code",
      "metadata": {
        "id": "yHcwG3yvsn4J"
      },
      "source": [
        "sc = MinMaxScaler(feature_range=(0,1))"
      ],
      "execution_count": 19,
      "outputs": []
    },
    {
      "cell_type": "code",
      "metadata": {
        "id": "WcMutwisspqm"
      },
      "source": [
        "training_set_scaled = sc.fit_transform(training_set.reshape(-1,1))"
      ],
      "execution_count": 20,
      "outputs": []
    },
    {
      "cell_type": "code",
      "metadata": {
        "id": "z5Diiy0Osu-e"
      },
      "source": [
        "testing_set_scaled = sc.fit_transform(testing_set.reshape(-1,1))"
      ],
      "execution_count": 21,
      "outputs": []
    },
    {
      "cell_type": "code",
      "metadata": {
        "colab": {
          "base_uri": "https://localhost:8080/"
        },
        "id": "WitTLlc-swoJ",
        "outputId": "63167fa7-afe4-4602-d401-872f1bea273a"
      },
      "source": [
        "type(training_set_scaled)"
      ],
      "execution_count": 22,
      "outputs": [
        {
          "output_type": "execute_result",
          "data": {
            "text/plain": [
              "numpy.ndarray"
            ]
          },
          "metadata": {},
          "execution_count": 22
        }
      ]
    },
    {
      "cell_type": "code",
      "metadata": {
        "id": "c0D73yw1sy-q"
      },
      "source": [
        "timestep = 60\n",
        "X_train =[]\n",
        "Y_train =[]"
      ],
      "execution_count": 23,
      "outputs": []
    },
    {
      "cell_type": "code",
      "metadata": {
        "colab": {
          "base_uri": "https://localhost:8080/"
        },
        "id": "Z_LqAPnrs1Lc",
        "outputId": "12e9e56a-3469-4d36-81ea-acc225b9a317"
      },
      "source": [
        "len(training_set)"
      ],
      "execution_count": 24,
      "outputs": [
        {
          "output_type": "execute_result",
          "data": {
            "text/plain": [
              "1015"
            ]
          },
          "metadata": {},
          "execution_count": 24
        }
      ]
    },
    {
      "cell_type": "code",
      "metadata": {
        "id": "IMa2rB4As3MG"
      },
      "source": [
        "for i in range(timestep,len(training_set)):\n",
        "    X_train.append(training_set_scaled[i-timestep:i,0])\n",
        "    Y_train.append(training_set_scaled[i,0])"
      ],
      "execution_count": 25,
      "outputs": []
    },
    {
      "cell_type": "code",
      "metadata": {
        "id": "WcgZsCHis5F5"
      },
      "source": [
        "type(X_train)\n",
        "\n",
        "x_train = np.array(X_train)\n",
        "\n",
        "x_train = np.array(X_train)\n",
        "y_train = np.array(Y_train)"
      ],
      "execution_count": 26,
      "outputs": []
    },
    {
      "cell_type": "code",
      "metadata": {
        "id": "ya2tFujks7Az"
      },
      "source": [
        "type(y_train)\n",
        "\n",
        "y_train.shape\n",
        "\n",
        "x_train.shape\n",
        "\n",
        "X_train = np.reshape(x_train,(x_train.shape[0], x_train.shape[1],1))\n",
        "\n",
        "X_train.shape\n",
        "\n",
        "Y_train = np.reshape(y_train,(y_train.shape[0],1))\n",
        "\n",
        "Y_train.shape\n",
        "\n",
        "X_test = []\n",
        "Y_test =[]"
      ],
      "execution_count": 27,
      "outputs": []
    },
    {
      "cell_type": "code",
      "metadata": {
        "id": "UvDH0Huxs8-V"
      },
      "source": [
        "for i in range(timestep,len(testing_set)):\n",
        "    X_test.append(testing_set_scaled[i-timestep:i,0])\n",
        "    Y_test.append(testing_set_scaled[i,0])"
      ],
      "execution_count": 28,
      "outputs": []
    },
    {
      "cell_type": "code",
      "metadata": {
        "colab": {
          "base_uri": "https://localhost:8080/"
        },
        "id": "S9XwnDGps_KF",
        "outputId": "1e84b7b7-d34b-45b2-b97f-af6256e7da45"
      },
      "source": [
        "x_test = np.array(X_test)\n",
        "y_test = np.array(Y_test)\n",
        "\n",
        "X_test = np.reshape(x_test,(x_test.shape[0], x_test.shape[1],1))\n",
        "\n",
        "Y_test = np.reshape(y_test,(y_test.shape[0],1))\n",
        "\n",
        "#modeling\n",
        "X_train\n",
        "Y_train\n",
        "#testing\n",
        "X_test\n",
        "Y_test"
      ],
      "execution_count": 29,
      "outputs": [
        {
          "output_type": "execute_result",
          "data": {
            "text/plain": [
              "array([[0.36633879],\n",
              "       [0.3914149 ],\n",
              "       [0.38999297],\n",
              "       [0.39830707],\n",
              "       [0.36098565],\n",
              "       [0.41684232],\n",
              "       [0.39159892],\n",
              "       [0.38361939],\n",
              "       [0.39198367],\n",
              "       [0.41583024],\n",
              "       [0.43910803],\n",
              "       [0.46548898],\n",
              "       [0.44263776],\n",
              "       [0.46500385],\n",
              "       [0.46836629],\n",
              "       [0.43390545],\n",
              "       [0.44457827],\n",
              "       [0.43644819],\n",
              "       [0.40618622],\n",
              "       [0.40708956],\n",
              "       [0.42007093],\n",
              "       [0.44924554],\n",
              "       [0.45339423],\n",
              "       [0.43470842],\n",
              "       [0.38890562],\n",
              "       [0.4137308 ],\n",
              "       [0.3618388 ],\n",
              "       [0.38512496],\n",
              "       [0.41145572],\n",
              "       [0.45167118],\n",
              "       [0.43470006],\n",
              "       [0.44407642],\n",
              "       [0.43027535],\n",
              "       [0.43213222],\n",
              "       [0.43224932],\n",
              "       [0.42534043],\n",
              "       [0.47189602],\n",
              "       [0.47995918],\n",
              "       [0.50217471],\n",
              "       [0.49088293],\n",
              "       [0.49747399],\n",
              "       [0.51480478],\n",
              "       [0.51007059],\n",
              "       [0.5265315 ],\n",
              "       [0.50448325],\n",
              "       [0.51552411],\n",
              "       [0.51610124],\n",
              "       [0.53006123],\n",
              "       [0.54806116],\n",
              "       [0.57156479],\n",
              "       [0.55953695],\n",
              "       [0.55378233],\n",
              "       [0.56069122],\n",
              "       [0.57005922],\n",
              "       [0.57285289],\n",
              "       [0.55170799],\n",
              "       [0.57072836],\n",
              "       [0.58600154],\n",
              "       [0.62499582],\n",
              "       [0.67692128],\n",
              "       [0.70167955],\n",
              "       [0.72580213],\n",
              "       [0.79378701],\n",
              "       [0.81859547],\n",
              "       [0.84153033],\n",
              "       [0.81879621],\n",
              "       [0.85593362],\n",
              "       [0.85176821],\n",
              "       [0.92242966],\n",
              "       [0.95805313],\n",
              "       [1.        ],\n",
              "       [0.94551507],\n",
              "       [0.93745191],\n",
              "       [0.74273144],\n",
              "       [0.74811804],\n",
              "       [0.81185386],\n",
              "       [0.80156579],\n",
              "       [0.86530162],\n",
              "       [0.89450969],\n",
              "       [0.77212352],\n",
              "       [0.80201746],\n",
              "       [0.79259928],\n",
              "       [0.77057613],\n",
              "       [0.77518485],\n",
              "       [0.81573489],\n",
              "       [0.77274248],\n",
              "       [0.83231289],\n",
              "       [0.83584262],\n",
              "       [0.83960654],\n",
              "       [0.7945147 ],\n",
              "       [0.77568671],\n",
              "       [0.77570344],\n",
              "       [0.77264211],\n",
              "       [0.77638931],\n",
              "       [0.79999331],\n",
              "       [0.79847101],\n",
              "       [0.78978889],\n",
              "       [0.81924788],\n",
              "       [0.81267356],\n",
              "       [0.82222557],\n",
              "       [0.79410485],\n",
              "       [0.80589849],\n",
              "       [0.74413664],\n",
              "       [0.72305865],\n",
              "       [0.6610626 ],\n",
              "       [0.66992874],\n",
              "       [0.65500686],\n",
              "       [0.69180133],\n",
              "       [0.72064974],\n",
              "       [0.69977249],\n",
              "       [0.73219245],\n",
              "       [0.72724079],\n",
              "       [0.74474723],\n",
              "       [0.68777811],\n",
              "       [0.70226505],\n",
              "       [0.71308843],\n",
              "       [0.77071832],\n",
              "       [0.76076483],\n",
              "       [0.70952524],\n",
              "       [0.72637091],\n",
              "       [0.73777142],\n",
              "       [0.72254006],\n",
              "       [0.73005119],\n",
              "       [0.7377296 ],\n",
              "       [0.76342467],\n",
              "       [0.72983372],\n",
              "       [0.71193416],\n",
              "       [0.72710696],\n",
              "       [0.73078725],\n",
              "       [0.68593797],\n",
              "       [0.66711834],\n",
              "       [0.68448259],\n",
              "       [0.71566463],\n",
              "       [0.73732811],\n",
              "       [0.72796012],\n",
              "       [0.80452675],\n",
              "       [0.81377764],\n",
              "       [0.66382281],\n",
              "       [0.68468333],\n",
              "       [0.6656295 ],\n",
              "       [0.68411456],\n",
              "       [0.70574459],\n",
              "       [0.70443976],\n",
              "       [0.69073907],\n",
              "       [0.67745659],\n",
              "       [0.6661899 ],\n",
              "       [0.67280605],\n",
              "       [0.61915755],\n",
              "       [0.56875439],\n",
              "       [0.56842818],\n",
              "       [0.57404062],\n",
              "       [0.53809094],\n",
              "       [0.51726388],\n",
              "       [0.58112516],\n",
              "       [0.60662786],\n",
              "       [0.62474489],\n",
              "       [0.62049583],\n",
              "       [0.65979123],\n",
              "       [0.67414433],\n",
              "       [0.62213523],\n",
              "       [0.61802001],\n",
              "       [0.62484526],\n",
              "       [0.60197732],\n",
              "       [0.64496972],\n",
              "       [0.66337114],\n",
              "       [0.69915353],\n",
              "       [0.69641005],\n",
              "       [0.68495099],\n",
              "       [0.6575496 ],\n",
              "       [0.67794172],\n",
              "       [0.69467028],\n",
              "       [0.67785807],\n",
              "       [0.6864231 ],\n",
              "       [0.71327244],\n",
              "       [0.72861253],\n",
              "       [0.79370337],\n",
              "       [0.80735388],\n",
              "       [0.75534478],\n",
              "       [0.74743217],\n",
              "       [0.63782663],\n",
              "       [0.62936197],\n",
              "       [0.64819833],\n",
              "       [0.6312523 ],\n",
              "       [0.63419653],\n",
              "       [0.60271337],\n",
              "       [0.61920774],\n",
              "       [0.6232895 ],\n",
              "       [0.67469638],\n",
              "       [0.67273077],\n",
              "       [0.64766302],\n",
              "       [0.64953662],\n",
              "       [0.64120579],\n",
              "       [0.62981364],\n",
              "       [0.62740473],\n",
              "       [0.66037673],\n",
              "       [0.6566128 ],\n",
              "       [0.61912409],\n",
              "       [0.61234902],\n",
              "       [0.54530095],\n",
              "       [0.58106661],\n",
              "       [0.60619291],\n",
              "       [0.61887316],\n",
              "       [0.62800696],\n",
              "       [0.59918365],\n",
              "       [0.59823012],\n",
              "       [0.58754893],\n",
              "       [0.54595336],\n",
              "       [0.51815049],\n",
              "       [0.51641072],\n",
              "       [0.52566161],\n",
              "       [0.57199973],\n",
              "       [0.56579344],\n",
              "       [0.56425441],\n",
              "       [0.50839774],\n",
              "       [0.44477902],\n",
              "       [0.42995751],\n",
              "       [0.45213958],\n",
              "       [0.40657098],\n",
              "       [0.38438891],\n",
              "       [0.39414166],\n",
              "       [0.36056743],\n",
              "       [0.41515273],\n",
              "       [0.43296865],\n",
              "       [0.42557463],\n",
              "       [0.43485898],\n",
              "       [0.4396768 ],\n",
              "       [0.44165077],\n",
              "       [0.46766369],\n",
              "       [0.44685336],\n",
              "       [0.45207267],\n",
              "       [0.45453177],\n",
              "       [0.43340359],\n",
              "       [0.44538124],\n",
              "       [0.43497608],\n",
              "       [0.44123256],\n",
              "       [0.40889625],\n",
              "       [0.36410552],\n",
              "       [0.40158587],\n",
              "       [0.43604671],\n",
              "       [0.43604671],\n",
              "       [0.46021948],\n",
              "       [0.45160427],\n",
              "       [0.48129747],\n",
              "       [0.46013584],\n",
              "       [0.44290542],\n",
              "       [0.4645689 ],\n",
              "       [0.44914517],\n",
              "       [0.4948476 ],\n",
              "       [0.51784938],\n",
              "       [0.50672488],\n",
              "       [0.51987353],\n",
              "       [0.5454515 ],\n",
              "       [0.52944227],\n",
              "       [0.51542373],\n",
              "       [0.52413932],\n",
              "       [0.51651109],\n",
              "       [0.52587909],\n",
              "       [0.51012078],\n",
              "       [0.50607247],\n",
              "       [0.5454766 ],\n",
              "       [0.52037539],\n",
              "       [0.53412627],\n",
              "       [0.58071531],\n",
              "       [0.61032487],\n",
              "       [0.61589548],\n",
              "       [0.61823748],\n",
              "       [0.58212051],\n",
              "       [0.5998026 ],\n",
              "       [0.62641775],\n",
              "       [0.6653953 ],\n",
              "       [0.67193616],\n",
              "       [0.67210345],\n",
              "       [0.68538593],\n",
              "       [0.69264612],\n",
              "       [0.69117401],\n",
              "       [0.72125197],\n",
              "       [0.71678544],\n",
              "       [0.71864231],\n",
              "       [0.72869618],\n",
              "       [0.7351534 ],\n",
              "       [0.72289136],\n",
              "       [0.7360902 ],\n",
              "       [0.6742698 ],\n",
              "       [0.70882264],\n",
              "       [0.72110141],\n",
              "       [0.70962561],\n",
              "       [0.70410519],\n",
              "       [0.72016461],\n",
              "       [0.68567031],\n",
              "       [0.6666834 ],\n",
              "       [0.65482284],\n",
              "       [0.57544582],\n",
              "       [0.51040517],\n",
              "       [0.49642009],\n",
              "       [0.52708354],\n",
              "       [0.52035866],\n",
              "       [0.5195055 ],\n",
              "       [0.51452039],\n",
              "       [0.52388839],\n",
              "       [0.51913748],\n",
              "       [0.49143498],\n",
              "       [0.50535314],\n",
              "       [0.51709659],\n",
              "       [0.53454448],\n",
              "       [0.54227308],\n",
              "       [0.55040316],\n",
              "       [0.56212988],\n",
              "       [0.56042357],\n",
              "       [0.56890495],\n",
              "       [0.56612801],\n",
              "       [0.56928971],\n",
              "       [0.6013249 ],\n",
              "       [0.6047208 ],\n",
              "       [0.57447556],\n",
              "       [0.57681756],\n",
              "       [0.57335475],\n",
              "       [0.56184549],\n",
              "       [0.56757503],\n",
              "       [0.55943658],\n",
              "       [0.55135669],\n",
              "       [0.55384924],\n",
              "       [0.56783432],\n",
              "       [0.6028472 ],\n",
              "       [0.5792432 ],\n",
              "       [0.57797183],\n",
              "       [0.5733882 ],\n",
              "       [0.57551273],\n",
              "       [0.56310014],\n",
              "       [0.49447957],\n",
              "       [0.43882365],\n",
              "       [0.43721771],\n",
              "       [0.4738198 ],\n",
              "       [0.47632908],\n",
              "       [0.53708722],\n",
              "       [0.5347285 ],\n",
              "       [0.53247014],\n",
              "       [0.53474522],\n",
              "       [0.52256683],\n",
              "       [0.53365787],\n",
              "       [0.56435478],\n",
              "       [0.56062431],\n",
              "       [0.54036602],\n",
              "       [0.54371173],\n",
              "       [0.58628592],\n",
              "       [0.57234267],\n",
              "       [0.57906755],\n",
              "       [0.5786577 ],\n",
              "       [0.5710462 ],\n",
              "       [0.60626819],\n",
              "       [0.59446619],\n",
              "       [0.5461541 ],\n",
              "       [0.53732142],\n",
              "       [0.54645522],\n",
              "       [0.53524708],\n",
              "       [0.54461508],\n",
              "       [0.56304159],\n",
              "       [0.546037  ],\n",
              "       [0.47886346],\n",
              "       [0.47937368],\n",
              "       [0.49626953],\n",
              "       [0.51224531],\n",
              "       [0.5030446 ],\n",
              "       [0.46063769],\n",
              "       [0.47474824],\n",
              "       [0.47226404],\n",
              "       [0.4454147 ],\n",
              "       [0.43191475],\n",
              "       [0.48322125],\n",
              "       [0.48870822],\n",
              "       [0.50434106],\n",
              "       [0.48862458],\n",
              "       [0.49371006],\n",
              "       [0.48203352],\n",
              "       [0.48450099],\n",
              "       [0.47866272],\n",
              "       [0.48880859]])"
            ]
          },
          "metadata": {},
          "execution_count": 29
        }
      ]
    },
    {
      "cell_type": "code",
      "metadata": {
        "id": "RVhnJLeGtLov"
      },
      "source": [
        "x_train = torch.from_numpy(X_train).type(torch.Tensor)"
      ],
      "execution_count": 30,
      "outputs": []
    },
    {
      "cell_type": "code",
      "metadata": {
        "colab": {
          "base_uri": "https://localhost:8080/"
        },
        "id": "Md-bYO_qtOc3",
        "outputId": "6e6b0ae7-b49f-4117-843f-b5fa4b153afb"
      },
      "source": [
        "type(x_train)\n",
        "\n",
        "y_train = torch.from_numpy(Y_train).type(torch.Tensor)\n",
        "\n",
        "x_test = torch.from_numpy(X_test).type(torch.Tensor)\n",
        "\n",
        "y_test = torch.from_numpy(Y_test).type(torch.Tensor)\n",
        "\n",
        "x_train\n",
        "y_train\n",
        "x_test\n",
        "y_test"
      ],
      "execution_count": 31,
      "outputs": [
        {
          "output_type": "execute_result",
          "data": {
            "text/plain": [
              "tensor([[0.3663],\n",
              "        [0.3914],\n",
              "        [0.3900],\n",
              "        [0.3983],\n",
              "        [0.3610],\n",
              "        [0.4168],\n",
              "        [0.3916],\n",
              "        [0.3836],\n",
              "        [0.3920],\n",
              "        [0.4158],\n",
              "        [0.4391],\n",
              "        [0.4655],\n",
              "        [0.4426],\n",
              "        [0.4650],\n",
              "        [0.4684],\n",
              "        [0.4339],\n",
              "        [0.4446],\n",
              "        [0.4364],\n",
              "        [0.4062],\n",
              "        [0.4071],\n",
              "        [0.4201],\n",
              "        [0.4492],\n",
              "        [0.4534],\n",
              "        [0.4347],\n",
              "        [0.3889],\n",
              "        [0.4137],\n",
              "        [0.3618],\n",
              "        [0.3851],\n",
              "        [0.4115],\n",
              "        [0.4517],\n",
              "        [0.4347],\n",
              "        [0.4441],\n",
              "        [0.4303],\n",
              "        [0.4321],\n",
              "        [0.4322],\n",
              "        [0.4253],\n",
              "        [0.4719],\n",
              "        [0.4800],\n",
              "        [0.5022],\n",
              "        [0.4909],\n",
              "        [0.4975],\n",
              "        [0.5148],\n",
              "        [0.5101],\n",
              "        [0.5265],\n",
              "        [0.5045],\n",
              "        [0.5155],\n",
              "        [0.5161],\n",
              "        [0.5301],\n",
              "        [0.5481],\n",
              "        [0.5716],\n",
              "        [0.5595],\n",
              "        [0.5538],\n",
              "        [0.5607],\n",
              "        [0.5701],\n",
              "        [0.5729],\n",
              "        [0.5517],\n",
              "        [0.5707],\n",
              "        [0.5860],\n",
              "        [0.6250],\n",
              "        [0.6769],\n",
              "        [0.7017],\n",
              "        [0.7258],\n",
              "        [0.7938],\n",
              "        [0.8186],\n",
              "        [0.8415],\n",
              "        [0.8188],\n",
              "        [0.8559],\n",
              "        [0.8518],\n",
              "        [0.9224],\n",
              "        [0.9581],\n",
              "        [1.0000],\n",
              "        [0.9455],\n",
              "        [0.9375],\n",
              "        [0.7427],\n",
              "        [0.7481],\n",
              "        [0.8119],\n",
              "        [0.8016],\n",
              "        [0.8653],\n",
              "        [0.8945],\n",
              "        [0.7721],\n",
              "        [0.8020],\n",
              "        [0.7926],\n",
              "        [0.7706],\n",
              "        [0.7752],\n",
              "        [0.8157],\n",
              "        [0.7727],\n",
              "        [0.8323],\n",
              "        [0.8358],\n",
              "        [0.8396],\n",
              "        [0.7945],\n",
              "        [0.7757],\n",
              "        [0.7757],\n",
              "        [0.7726],\n",
              "        [0.7764],\n",
              "        [0.8000],\n",
              "        [0.7985],\n",
              "        [0.7898],\n",
              "        [0.8192],\n",
              "        [0.8127],\n",
              "        [0.8222],\n",
              "        [0.7941],\n",
              "        [0.8059],\n",
              "        [0.7441],\n",
              "        [0.7231],\n",
              "        [0.6611],\n",
              "        [0.6699],\n",
              "        [0.6550],\n",
              "        [0.6918],\n",
              "        [0.7206],\n",
              "        [0.6998],\n",
              "        [0.7322],\n",
              "        [0.7272],\n",
              "        [0.7447],\n",
              "        [0.6878],\n",
              "        [0.7023],\n",
              "        [0.7131],\n",
              "        [0.7707],\n",
              "        [0.7608],\n",
              "        [0.7095],\n",
              "        [0.7264],\n",
              "        [0.7378],\n",
              "        [0.7225],\n",
              "        [0.7301],\n",
              "        [0.7377],\n",
              "        [0.7634],\n",
              "        [0.7298],\n",
              "        [0.7119],\n",
              "        [0.7271],\n",
              "        [0.7308],\n",
              "        [0.6859],\n",
              "        [0.6671],\n",
              "        [0.6845],\n",
              "        [0.7157],\n",
              "        [0.7373],\n",
              "        [0.7280],\n",
              "        [0.8045],\n",
              "        [0.8138],\n",
              "        [0.6638],\n",
              "        [0.6847],\n",
              "        [0.6656],\n",
              "        [0.6841],\n",
              "        [0.7057],\n",
              "        [0.7044],\n",
              "        [0.6907],\n",
              "        [0.6775],\n",
              "        [0.6662],\n",
              "        [0.6728],\n",
              "        [0.6192],\n",
              "        [0.5688],\n",
              "        [0.5684],\n",
              "        [0.5740],\n",
              "        [0.5381],\n",
              "        [0.5173],\n",
              "        [0.5811],\n",
              "        [0.6066],\n",
              "        [0.6247],\n",
              "        [0.6205],\n",
              "        [0.6598],\n",
              "        [0.6741],\n",
              "        [0.6221],\n",
              "        [0.6180],\n",
              "        [0.6248],\n",
              "        [0.6020],\n",
              "        [0.6450],\n",
              "        [0.6634],\n",
              "        [0.6992],\n",
              "        [0.6964],\n",
              "        [0.6850],\n",
              "        [0.6575],\n",
              "        [0.6779],\n",
              "        [0.6947],\n",
              "        [0.6779],\n",
              "        [0.6864],\n",
              "        [0.7133],\n",
              "        [0.7286],\n",
              "        [0.7937],\n",
              "        [0.8074],\n",
              "        [0.7553],\n",
              "        [0.7474],\n",
              "        [0.6378],\n",
              "        [0.6294],\n",
              "        [0.6482],\n",
              "        [0.6313],\n",
              "        [0.6342],\n",
              "        [0.6027],\n",
              "        [0.6192],\n",
              "        [0.6233],\n",
              "        [0.6747],\n",
              "        [0.6727],\n",
              "        [0.6477],\n",
              "        [0.6495],\n",
              "        [0.6412],\n",
              "        [0.6298],\n",
              "        [0.6274],\n",
              "        [0.6604],\n",
              "        [0.6566],\n",
              "        [0.6191],\n",
              "        [0.6123],\n",
              "        [0.5453],\n",
              "        [0.5811],\n",
              "        [0.6062],\n",
              "        [0.6189],\n",
              "        [0.6280],\n",
              "        [0.5992],\n",
              "        [0.5982],\n",
              "        [0.5875],\n",
              "        [0.5460],\n",
              "        [0.5182],\n",
              "        [0.5164],\n",
              "        [0.5257],\n",
              "        [0.5720],\n",
              "        [0.5658],\n",
              "        [0.5643],\n",
              "        [0.5084],\n",
              "        [0.4448],\n",
              "        [0.4300],\n",
              "        [0.4521],\n",
              "        [0.4066],\n",
              "        [0.3844],\n",
              "        [0.3941],\n",
              "        [0.3606],\n",
              "        [0.4152],\n",
              "        [0.4330],\n",
              "        [0.4256],\n",
              "        [0.4349],\n",
              "        [0.4397],\n",
              "        [0.4417],\n",
              "        [0.4677],\n",
              "        [0.4469],\n",
              "        [0.4521],\n",
              "        [0.4545],\n",
              "        [0.4334],\n",
              "        [0.4454],\n",
              "        [0.4350],\n",
              "        [0.4412],\n",
              "        [0.4089],\n",
              "        [0.3641],\n",
              "        [0.4016],\n",
              "        [0.4360],\n",
              "        [0.4360],\n",
              "        [0.4602],\n",
              "        [0.4516],\n",
              "        [0.4813],\n",
              "        [0.4601],\n",
              "        [0.4429],\n",
              "        [0.4646],\n",
              "        [0.4491],\n",
              "        [0.4948],\n",
              "        [0.5178],\n",
              "        [0.5067],\n",
              "        [0.5199],\n",
              "        [0.5455],\n",
              "        [0.5294],\n",
              "        [0.5154],\n",
              "        [0.5241],\n",
              "        [0.5165],\n",
              "        [0.5259],\n",
              "        [0.5101],\n",
              "        [0.5061],\n",
              "        [0.5455],\n",
              "        [0.5204],\n",
              "        [0.5341],\n",
              "        [0.5807],\n",
              "        [0.6103],\n",
              "        [0.6159],\n",
              "        [0.6182],\n",
              "        [0.5821],\n",
              "        [0.5998],\n",
              "        [0.6264],\n",
              "        [0.6654],\n",
              "        [0.6719],\n",
              "        [0.6721],\n",
              "        [0.6854],\n",
              "        [0.6926],\n",
              "        [0.6912],\n",
              "        [0.7213],\n",
              "        [0.7168],\n",
              "        [0.7186],\n",
              "        [0.7287],\n",
              "        [0.7352],\n",
              "        [0.7229],\n",
              "        [0.7361],\n",
              "        [0.6743],\n",
              "        [0.7088],\n",
              "        [0.7211],\n",
              "        [0.7096],\n",
              "        [0.7041],\n",
              "        [0.7202],\n",
              "        [0.6857],\n",
              "        [0.6667],\n",
              "        [0.6548],\n",
              "        [0.5754],\n",
              "        [0.5104],\n",
              "        [0.4964],\n",
              "        [0.5271],\n",
              "        [0.5204],\n",
              "        [0.5195],\n",
              "        [0.5145],\n",
              "        [0.5239],\n",
              "        [0.5191],\n",
              "        [0.4914],\n",
              "        [0.5054],\n",
              "        [0.5171],\n",
              "        [0.5345],\n",
              "        [0.5423],\n",
              "        [0.5504],\n",
              "        [0.5621],\n",
              "        [0.5604],\n",
              "        [0.5689],\n",
              "        [0.5661],\n",
              "        [0.5693],\n",
              "        [0.6013],\n",
              "        [0.6047],\n",
              "        [0.5745],\n",
              "        [0.5768],\n",
              "        [0.5734],\n",
              "        [0.5618],\n",
              "        [0.5676],\n",
              "        [0.5594],\n",
              "        [0.5514],\n",
              "        [0.5538],\n",
              "        [0.5678],\n",
              "        [0.6028],\n",
              "        [0.5792],\n",
              "        [0.5780],\n",
              "        [0.5734],\n",
              "        [0.5755],\n",
              "        [0.5631],\n",
              "        [0.4945],\n",
              "        [0.4388],\n",
              "        [0.4372],\n",
              "        [0.4738],\n",
              "        [0.4763],\n",
              "        [0.5371],\n",
              "        [0.5347],\n",
              "        [0.5325],\n",
              "        [0.5347],\n",
              "        [0.5226],\n",
              "        [0.5337],\n",
              "        [0.5644],\n",
              "        [0.5606],\n",
              "        [0.5404],\n",
              "        [0.5437],\n",
              "        [0.5863],\n",
              "        [0.5723],\n",
              "        [0.5791],\n",
              "        [0.5787],\n",
              "        [0.5710],\n",
              "        [0.6063],\n",
              "        [0.5945],\n",
              "        [0.5462],\n",
              "        [0.5373],\n",
              "        [0.5465],\n",
              "        [0.5352],\n",
              "        [0.5446],\n",
              "        [0.5630],\n",
              "        [0.5460],\n",
              "        [0.4789],\n",
              "        [0.4794],\n",
              "        [0.4963],\n",
              "        [0.5122],\n",
              "        [0.5030],\n",
              "        [0.4606],\n",
              "        [0.4747],\n",
              "        [0.4723],\n",
              "        [0.4454],\n",
              "        [0.4319],\n",
              "        [0.4832],\n",
              "        [0.4887],\n",
              "        [0.5043],\n",
              "        [0.4886],\n",
              "        [0.4937],\n",
              "        [0.4820],\n",
              "        [0.4845],\n",
              "        [0.4787],\n",
              "        [0.4888]])"
            ]
          },
          "metadata": {},
          "execution_count": 31
        }
      ]
    },
    {
      "cell_type": "code",
      "metadata": {
        "id": "R_QmQNMttQjI"
      },
      "source": [
        "input_dim = 1\n",
        "hidden_dim = 32\n",
        "num_layers = 2\n",
        "output_dim = 1"
      ],
      "execution_count": 32,
      "outputs": []
    },
    {
      "cell_type": "code",
      "metadata": {
        "id": "G9Q8-MketShg"
      },
      "source": [
        "class MyLSTM(torch.nn.Module):\n",
        "\n",
        "    def __init__(self, input_dim, hidden_dim, num_layers,output_dim):\n",
        "        super(MyLSTM,self).__init__()\n",
        "\n",
        "        self.hidden_dim = hidden_dim\n",
        "        self.num_layers = num_layers\n",
        "\n",
        "        self.lstm = torch.nn.LSTM(input_dim, hidden_dim,num_layers, batch_first = True) #1 -- 32\n",
        "\n",
        "        self.fc = torch.nn.Linear(hidden_dim, output_dim) #32 --- 1\n",
        "\n",
        "    def forward(self, x):\n",
        "        h0 = torch.zeros(self.num_layers, x.size(0), self.hidden_dim).requires_grad_()   \n",
        "        c0 = torch.zeros(self.num_layers, x.size(0), self.hidden_dim).requires_grad_()\n",
        "        out, (hn, cn) = self.lstm (x, (h0.detach(),c0.detach()))\n",
        "        out = self.fc(out[:,-1,:])\n",
        "\n",
        "        return out"
      ],
      "execution_count": 33,
      "outputs": []
    },
    {
      "cell_type": "code",
      "metadata": {
        "id": "KGjONh_wtUXW"
      },
      "source": [
        "model = MyLSTM(input_dim=input_dim, hidden_dim=hidden_dim, output_dim=output_dim, num_layers=num_layers)\n",
        "\n",
        "model\n",
        "\n",
        "loss_fn = torch.nn.MSELoss()\n",
        "\n",
        "params=model.parameters()\n",
        "optimizer = torch.optim.Adam(params, lr=0.01)\n",
        "\n",
        "#train model\n",
        "\n",
        "num_epoch = 100\n",
        "listLoss = np.zeros(num_epoch)"
      ],
      "execution_count": 34,
      "outputs": []
    },
    {
      "cell_type": "code",
      "metadata": {
        "colab": {
          "base_uri": "https://localhost:8080/"
        },
        "id": "Sp8DuSTAtW6W",
        "outputId": "7b3ec974-1058-4440-e585-b0526de2d26f"
      },
      "source": [
        "for t in range(num_epoch):\n",
        "\n",
        "    y_train_pred = model(x_train) # forward inputs\n",
        "    loss = loss_fn(y_train_pred , y_train) #loss\n",
        "    listLoss[t] = loss.item() #save loss in list\n",
        "    print(\"epoch:\",t,  \"loss\", loss.item()) #print lossepoch\n",
        "    optimizer.zero_grad() #\n",
        "    loss.backward() #\n",
        "    optimizer.step() # update"
      ],
      "execution_count": 35,
      "outputs": [
        {
          "output_type": "stream",
          "name": "stdout",
          "text": [
            "epoch: 0 loss 0.34949609637260437\n",
            "epoch: 1 loss 0.21545544266700745\n",
            "epoch: 2 loss 0.11330306529998779\n",
            "epoch: 3 loss 0.04214731976389885\n",
            "epoch: 4 loss 0.13475589454174042\n",
            "epoch: 5 loss 0.06959784775972366\n",
            "epoch: 6 loss 0.03983225300908089\n",
            "epoch: 7 loss 0.04584663733839989\n",
            "epoch: 8 loss 0.05656735226511955\n",
            "epoch: 9 loss 0.06126999482512474\n",
            "epoch: 10 loss 0.059605345129966736\n",
            "epoch: 11 loss 0.05395873263478279\n",
            "epoch: 12 loss 0.04700914025306702\n",
            "epoch: 13 loss 0.04104858264327049\n",
            "epoch: 14 loss 0.03764129802584648\n",
            "epoch: 15 loss 0.03729516640305519\n",
            "epoch: 16 loss 0.03926783427596092\n",
            "epoch: 17 loss 0.041841551661491394\n",
            "epoch: 18 loss 0.043220456689596176\n",
            "epoch: 19 loss 0.04256071150302887\n",
            "epoch: 20 loss 0.040284208953380585\n",
            "epoch: 21 loss 0.0375097282230854\n",
            "epoch: 22 loss 0.035256873816251755\n",
            "epoch: 23 loss 0.034002333879470825\n",
            "epoch: 24 loss 0.0336538664996624\n",
            "epoch: 25 loss 0.033740125596523285\n",
            "epoch: 26 loss 0.033638935536146164\n",
            "epoch: 27 loss 0.03276292234659195\n",
            "epoch: 28 loss 0.030685201287269592\n",
            "epoch: 29 loss 0.027235781773924828\n",
            "epoch: 30 loss 0.022748759016394615\n",
            "epoch: 31 loss 0.019021378830075264\n",
            "epoch: 32 loss 0.01916063390672207\n",
            "epoch: 33 loss 0.016179731115698814\n",
            "epoch: 34 loss 0.008464014157652855\n",
            "epoch: 35 loss 0.006436729338020086\n",
            "epoch: 36 loss 0.007147372234612703\n",
            "epoch: 37 loss 0.007531159557402134\n",
            "epoch: 38 loss 0.007088864222168922\n",
            "epoch: 39 loss 0.006487454753369093\n",
            "epoch: 40 loss 0.04609352722764015\n",
            "epoch: 41 loss 0.008698543533682823\n",
            "epoch: 42 loss 0.014901399612426758\n",
            "epoch: 43 loss 0.020867962390184402\n",
            "epoch: 44 loss 0.023496277630329132\n",
            "epoch: 45 loss 0.016996236518025398\n",
            "epoch: 46 loss 0.008776028640568256\n",
            "epoch: 47 loss 0.005475878715515137\n",
            "epoch: 48 loss 0.0072234394028782845\n",
            "epoch: 49 loss 0.011344424448907375\n",
            "epoch: 50 loss 0.014389838092029095\n",
            "epoch: 51 loss 0.0138697549700737\n",
            "epoch: 52 loss 0.010439443401992321\n",
            "epoch: 53 loss 0.006764619145542383\n",
            "epoch: 54 loss 0.004849461372941732\n",
            "epoch: 55 loss 0.0049735624343156815\n",
            "epoch: 56 loss 0.006238600239157677\n",
            "epoch: 57 loss 0.007470717653632164\n",
            "epoch: 58 loss 0.007835582830011845\n",
            "epoch: 59 loss 0.0070771644823253155\n",
            "epoch: 60 loss 0.005503065884113312\n",
            "epoch: 61 loss 0.003832997055724263\n",
            "epoch: 62 loss 0.002888436894863844\n",
            "epoch: 63 loss 0.003237095894291997\n",
            "epoch: 64 loss 0.004690107423812151\n",
            "epoch: 65 loss 0.005169532727450132\n",
            "epoch: 66 loss 0.003795876167714596\n",
            "epoch: 67 loss 0.0028307477477937937\n",
            "epoch: 68 loss 0.0028333330992609262\n",
            "epoch: 69 loss 0.003344660857692361\n",
            "epoch: 70 loss 0.0037969204131513834\n",
            "epoch: 71 loss 0.0038421025965362787\n",
            "epoch: 72 loss 0.003464764216914773\n",
            "epoch: 73 loss 0.00292038731276989\n",
            "epoch: 74 loss 0.0025449395179748535\n",
            "epoch: 75 loss 0.002526102354750037\n",
            "epoch: 76 loss 0.0027669514529407024\n",
            "epoch: 77 loss 0.002969990950077772\n",
            "epoch: 78 loss 0.0029128289315849543\n",
            "epoch: 79 loss 0.002642974490299821\n",
            "epoch: 80 loss 0.0023828581906855106\n",
            "epoch: 81 loss 0.0022974794264882803\n",
            "epoch: 82 loss 0.0023782129865139723\n",
            "epoch: 83 loss 0.002495118184015155\n",
            "epoch: 84 loss 0.002519583562389016\n",
            "epoch: 85 loss 0.002414684509858489\n",
            "epoch: 86 loss 0.0022462639026343822\n",
            "epoch: 87 loss 0.0021217018365859985\n",
            "epoch: 88 loss 0.002102506812661886\n",
            "epoch: 89 loss 0.002156071597710252\n",
            "epoch: 90 loss 0.002190740779042244\n",
            "epoch: 91 loss 0.002146509476006031\n",
            "epoch: 92 loss 0.0020494465716183186\n",
            "epoch: 93 loss 0.0019740129355341196\n",
            "epoch: 94 loss 0.0019635693170130253\n",
            "epoch: 95 loss 0.0019956412725150585\n",
            "epoch: 96 loss 0.002014605328440666\n",
            "epoch: 97 loss 0.001987203722819686\n",
            "epoch: 98 loss 0.0019281746353954077\n",
            "epoch: 99 loss 0.0018792814807966352\n"
          ]
        }
      ]
    },
    {
      "cell_type": "code",
      "metadata": {
        "colab": {
          "base_uri": "https://localhost:8080/",
          "height": 265
        },
        "id": "Xzd_WsXytYqM",
        "outputId": "148bfba0-5da5-4832-d6f6-b2c41c2d805d"
      },
      "source": [
        "plt.plot(listLoss, label =\"Trainig loss\")\n",
        "plt.legend()\n",
        "plt.show()"
      ],
      "execution_count": 37,
      "outputs": [
        {
          "output_type": "display_data",
          "data": {
            "image/png": "[encoded data removed]",
            "text/plain": [
              "<Figure size 432x288 with 1 Axes>"
            ]
          },
          "metadata": {
            "needs_background": "light"
          }
        }
      ]
    },
    {
      "cell_type": "code",
      "metadata": {
        "colab": {
          "base_uri": "https://localhost:8080/",
          "height": 265
        },
        "id": "pvkd5Al4tlTv",
        "outputId": "775660aa-98a1-4253-d58f-f61018117a25"
      },
      "source": [
        "plt.plot(y_train_pred.detach().numpy(), label =\"y_train_pre\", color ='red')\n",
        "plt.plot(y_train.detach().numpy(), label =\"y_train\", color ='green')\n",
        "plt.legend()\n",
        "plt.show()"
      ],
      "execution_count": 38,
      "outputs": [
        {
          "output_type": "display_data",
          "data": {
            "image/png": "[encoded data removed]",
            "text/plain": [
              "<Figure size 432x288 with 1 Axes>"
            ]
          },
          "metadata": {
            "needs_background": "light"
          }
        }
      ]
    },
    {
      "cell_type": "code",
      "metadata": {
        "id": "GbTOk0NYtncL"
      },
      "source": [
        "from sklearn.metrics import accuracy_score, r2_score"
      ],
      "execution_count": 39,
      "outputs": []
    },
    {
      "cell_type": "code",
      "metadata": {
        "colab": {
          "base_uri": "https://localhost:8080/",
          "height": 283
        },
        "id": "uPdaWp_Ytpev",
        "outputId": "86a18b54-0272-4ae5-c562-7183cbaa0d98"
      },
      "source": [
        "# train evaluation\n",
        "r2_score = r2_score(y_train.detach().numpy(), y_train_pred.detach().numpy())\n",
        "\n",
        "r2_score\n",
        "\n",
        "y_test_pred = model(x_test)\n",
        "\n",
        "plt.plot(y_test_pred.detach().numpy(), label =\"y_test_pre\", color ='red')\n",
        "plt.plot(y_test.detach().numpy(), label =\"y_test\", color ='green')\n",
        "plt.legend()\n",
        "plt.show()\n",
        "\n",
        "y_test.shape\n",
        "\n",
        "y_test_pred.shape"
      ],
      "execution_count": 40,
      "outputs": [
        {
          "output_type": "display_data",
          "data": {
            "image/png": "[encoded data removed]",
            "text/plain": [
              "<Figure size 432x288 with 1 Axes>"
            ]
          },
          "metadata": {
            "needs_background": "light"
          }
        },
        {
          "output_type": "execute_result",
          "data": {
            "text/plain": [
              "torch.Size([376, 1])"
            ]
          },
          "metadata": {},
          "execution_count": 40
        }
      ]
    },
    {
      "cell_type": "code",
      "metadata": {
        "colab": {
          "base_uri": "https://localhost:8080/",
          "height": 187
        },
        "id": "znlKHZoxtr25",
        "outputId": "55064d37-0671-4654-cb1c-f629263c7ef1"
      },
      "source": [
        "#test evaluation\n",
        "r2_score = r2_score(y_test.detach().numpy(), y_test_pred.detach().numpy())"
      ],
      "execution_count": 41,
      "outputs": [
        {
          "output_type": "error",
          "ename": "TypeError",
          "evalue": "ignored",
          "traceback": [
            "\u001b[0;31m---------------------------------------------------------------------------\u001b[0m",
            "\u001b[0;31mTypeError\u001b[0m                                 Traceback (most recent call last)",
            "\u001b[0;32m<ipython-input-41-5872b3bb10b3>\u001b[0m in \u001b[0;36m<module>\u001b[0;34m()\u001b[0m\n\u001b[1;32m      1\u001b[0m \u001b[0;31m#test evaluation\u001b[0m\u001b[0;34m\u001b[0m\u001b[0;34m\u001b[0m\u001b[0;34m\u001b[0m\u001b[0m\n\u001b[0;32m----> 2\u001b[0;31m \u001b[0mr2_score\u001b[0m \u001b[0;34m=\u001b[0m \u001b[0mr2_score\u001b[0m\u001b[0;34m(\u001b[0m\u001b[0my_test\u001b[0m\u001b[0;34m.\u001b[0m\u001b[0mdetach\u001b[0m\u001b[0;34m(\u001b[0m\u001b[0;34m)\u001b[0m\u001b[0;34m.\u001b[0m\u001b[0mnumpy\u001b[0m\u001b[0;34m(\u001b[0m\u001b[0;34m)\u001b[0m\u001b[0;34m,\u001b[0m \u001b[0my_test_pred\u001b[0m\u001b[0;34m.\u001b[0m\u001b[0mdetach\u001b[0m\u001b[0;34m(\u001b[0m\u001b[0;34m)\u001b[0m\u001b[0;34m.\u001b[0m\u001b[0mnumpy\u001b[0m\u001b[0;34m(\u001b[0m\u001b[0;34m)\u001b[0m\u001b[0;34m)\u001b[0m\u001b[0;34m\u001b[0m\u001b[0;34m\u001b[0m\u001b[0m\n\u001b[0m",
            "\u001b[0;31mTypeError\u001b[0m: 'numpy.float64' object is not callable"
          ]
        }
      ]
    },
    {
      "cell_type": "code",
      "metadata": {
        "id": "UMpUKZAbtwZo"
      },
      "source": [
        ""
      ],
      "execution_count": null,
      "outputs": []
    },
    {
      "cell_type": "code",
      "metadata": {
        "id": "49jV6QurtizZ"
      },
      "source": [
        ""
      ],
      "execution_count": null,
      "outputs": []
    },
    {
      "cell_type": "code",
      "metadata": {
        "id": "HxSlJg_SarzF"
      },
      "source": [
        ""
      ],
      "execution_count": null,
      "outputs": []
    },
    {
      "cell_type": "markdown",
      "metadata": {
        "id": "Ihu3fKD_adBo"
      },
      "source": [
        ""
      ]
    }
  ]
}