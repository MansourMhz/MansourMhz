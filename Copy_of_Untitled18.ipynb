{
  "nbformat": 4,
  "nbformat_minor": 0,
  "metadata": {
    "colab": {
      "name": "Copy of Untitled18.ipynb",
      "provenance": [],
      "collapsed_sections": [],
      "mount_file_id": "1XA90Dfu2LsGQ0UKvwfMkSfgrvGvDool5",
      "authorship_tag": "ABX9TyOX5ZgmtpCBNQqj2CeXMo0q",
      "include_colab_link": true
    },
    "kernelspec": {
      "name": "python3",
      "display_name": "Python 3"
    },
    "language_info": {
      "name": "python"
    }
  },
  "cells": [
    {
      "cell_type": "markdown",
      "metadata": {
        "id": "view-in-github",
        "colab_type": "text"
      },
      "source": [
        "<a href=\"https://colab.research.google.com/github/MansourMhz/MansourMhz/blob/main/Copy_of_Untitled18.ipynb\" target=\"_parent\"><img src=\"https://colab.research.google.com/assets/colab-badge.svg\" alt=\"Open In Colab\"/></a>"
      ]
    },
    {
      "cell_type": "code",
      "metadata": {
        "colab": {
          "base_uri": "https://localhost:8080/",
          "height": 36
        },
        "id": "96XTtBzmZFng",
        "outputId": "9c9a885c-c60e-403b-ca9b-e7249b4ad356"
      },
      "source": [
        "pwd"
      ],
      "execution_count": 67,
      "outputs": [
        {
          "output_type": "execute_result",
          "data": {
            "application/vnd.google.colaboratory.intrinsic+json": {
              "type": "string"
            },
            "text/plain": [
              "'/content'"
            ]
          },
          "metadata": {},
          "execution_count": 67
        }
      ]
    },
    {
      "cell_type": "code",
      "metadata": {
        "id": "66ysGMw1ZsVf"
      },
      "source": [
        "import pandas as pd\n",
        "import numpy as np\n",
        "import matplotlib.pyplot as plt\n",
        "\n",
        "import torch"
      ],
      "execution_count": 68,
      "outputs": []
    },
    {
      "cell_type": "code",
      "metadata": {
        "colab": {
          "base_uri": "https://localhost:8080/",
          "height": 36
        },
        "id": "iwngPe3AZ0E3",
        "outputId": "a7f9f785-256c-4971-a3eb-64eec184a176"
      },
      "source": [
        "pwd"
      ],
      "execution_count": 69,
      "outputs": [
        {
          "output_type": "execute_result",
          "data": {
            "application/vnd.google.colaboratory.intrinsic+json": {
              "type": "string"
            },
            "text/plain": [
              "'/content'"
            ]
          },
          "metadata": {},
          "execution_count": 69
        }
      ]
    },
    {
      "cell_type": "code",
      "metadata": {
        "id": "EHQKgxxtaDf0"
      },
      "source": [
        "dataset = pd.read_csv('/content/drive/MyDrive/MasterThesis/xauusd.csv')"
      ],
      "execution_count": 70,
      "outputs": []
    },
    {
      "cell_type": "code",
      "metadata": {
        "colab": {
          "base_uri": "https://localhost:8080/"
        },
        "id": "y6lSo8w7apSh",
        "outputId": "a549fc35-60cc-4e5a-aa0b-5c7d295a89f6"
      },
      "source": [
        "type(dataset)"
      ],
      "execution_count": 71,
      "outputs": [
        {
          "output_type": "execute_result",
          "data": {
            "text/plain": [
              "pandas.core.frame.DataFrame"
            ]
          },
          "metadata": {},
          "execution_count": 71
        }
      ]
    },
    {
      "cell_type": "code",
      "metadata": {
        "colab": {
          "base_uri": "https://localhost:8080/",
          "height": 206
        },
        "id": "lVDK-m5JavkY",
        "outputId": "9ec5c22f-615b-4a4c-ebe6-2d08659ba0bc"
      },
      "source": [
        "dataset.head(5)"
      ],
      "execution_count": 72,
      "outputs": [
        {
          "output_type": "execute_result",
          "data": {
            "text/html": [
              "<div>\n",
              "<style scoped>\n",
              "    .dataframe tbody tr th:only-of-type {\n",
              "        vertical-align: middle;\n",
              "    }\n",
              "\n",
              "    .dataframe tbody tr th {\n",
              "        vertical-align: top;\n",
              "    }\n",
              "\n",
              "    .dataframe thead th {\n",
              "        text-align: right;\n",
              "    }\n",
              "</style>\n",
              "<table border=\"1\" class=\"dataframe\">\n",
              "  <thead>\n",
              "    <tr style=\"text-align: right;\">\n",
              "      <th></th>\n",
              "      <th>Date</th>\n",
              "      <th>Open</th>\n",
              "      <th>High</th>\n",
              "      <th>Low</th>\n",
              "      <th>Close</th>\n",
              "    </tr>\n",
              "  </thead>\n",
              "  <tbody>\n",
              "    <tr>\n",
              "      <th>0</th>\n",
              "      <td>2016-03-01</td>\n",
              "      <td>1240.49</td>\n",
              "      <td>1248.77</td>\n",
              "      <td>1227.48</td>\n",
              "      <td>1232.66</td>\n",
              "    </tr>\n",
              "    <tr>\n",
              "      <th>1</th>\n",
              "      <td>2016-03-02</td>\n",
              "      <td>1231.44</td>\n",
              "      <td>1244.23</td>\n",
              "      <td>1225.02</td>\n",
              "      <td>1239.83</td>\n",
              "    </tr>\n",
              "    <tr>\n",
              "      <th>2</th>\n",
              "      <td>2016-03-03</td>\n",
              "      <td>1239.49</td>\n",
              "      <td>1268.55</td>\n",
              "      <td>1237.72</td>\n",
              "      <td>1264.87</td>\n",
              "    </tr>\n",
              "    <tr>\n",
              "      <th>3</th>\n",
              "      <td>2016-03-04</td>\n",
              "      <td>1260.20</td>\n",
              "      <td>1279.97</td>\n",
              "      <td>1250.78</td>\n",
              "      <td>1261.55</td>\n",
              "    </tr>\n",
              "    <tr>\n",
              "      <th>4</th>\n",
              "      <td>2016-03-07</td>\n",
              "      <td>1264.23</td>\n",
              "      <td>1273.43</td>\n",
              "      <td>1257.12</td>\n",
              "      <td>1267.54</td>\n",
              "    </tr>\n",
              "  </tbody>\n",
              "</table>\n",
              "</div>"
            ],
            "text/plain": [
              "         Date     Open     High      Low    Close\n",
              "0  2016-03-01  1240.49  1248.77  1227.48  1232.66\n",
              "1  2016-03-02  1231.44  1244.23  1225.02  1239.83\n",
              "2  2016-03-03  1239.49  1268.55  1237.72  1264.87\n",
              "3  2016-03-04  1260.20  1279.97  1250.78  1261.55\n",
              "4  2016-03-07  1264.23  1273.43  1257.12  1267.54"
            ]
          },
          "metadata": {},
          "execution_count": 72
        }
      ]
    },
    {
      "cell_type": "code",
      "metadata": {
        "colab": {
          "base_uri": "https://localhost:8080/"
        },
        "id": "R4Y89UXxazog",
        "outputId": "43df9d46-8380-474e-f3ff-24f2b2c7c7f9"
      },
      "source": [
        "dataset.shape"
      ],
      "execution_count": 73,
      "outputs": [
        {
          "output_type": "execute_result",
          "data": {
            "text/plain": [
              "(1451, 5)"
            ]
          },
          "metadata": {},
          "execution_count": 73
        }
      ]
    },
    {
      "cell_type": "code",
      "metadata": {
        "colab": {
          "base_uri": "https://localhost:8080/"
        },
        "id": "0hG6HHFMa1gp",
        "outputId": "1dd8e075-1227-4d70-c9a8-5d83e561603c"
      },
      "source": [
        "dataset.shape[0]"
      ],
      "execution_count": 74,
      "outputs": [
        {
          "output_type": "execute_result",
          "data": {
            "text/plain": [
              "1451"
            ]
          },
          "metadata": {},
          "execution_count": 74
        }
      ]
    },
    {
      "cell_type": "code",
      "metadata": {
        "id": "QhydkWEra319",
        "colab": {
          "base_uri": "https://localhost:8080/"
        },
        "outputId": "73c1ea08-ccf9-40fd-e9b3-7ec220f3cdea"
      },
      "source": [
        "dataset.shape[1]"
      ],
      "execution_count": 75,
      "outputs": [
        {
          "output_type": "execute_result",
          "data": {
            "text/plain": [
              "5"
            ]
          },
          "metadata": {},
          "execution_count": 75
        }
      ]
    },
    {
      "cell_type": "code",
      "metadata": {
        "id": "UhWXERB1ryrR"
      },
      "source": [
        "num_train = int(dataset.shape[0]*0.70)"
      ],
      "execution_count": 76,
      "outputs": []
    },
    {
      "cell_type": "code",
      "metadata": {
        "id": "Ql0I0C2PsVfs"
      },
      "source": [
        "training_set = dataset.iloc[0:num_train,1].values #open"
      ],
      "execution_count": 77,
      "outputs": []
    },
    {
      "cell_type": "code",
      "metadata": {
        "colab": {
          "base_uri": "https://localhost:8080/"
        },
        "id": "znslrYobsYun",
        "outputId": "23c41261-33e3-4bfb-bf5d-e7a99a71b5a1"
      },
      "source": [
        "training_set.shape"
      ],
      "execution_count": 78,
      "outputs": [
        {
          "output_type": "execute_result",
          "data": {
            "text/plain": [
              "(1015,)"
            ]
          },
          "metadata": {},
          "execution_count": 78
        }
      ]
    },
    {
      "cell_type": "code",
      "metadata": {
        "id": "y5lTzVMCsbcy"
      },
      "source": [
        "testing_set = dataset.iloc[num_train:,1].values"
      ],
      "execution_count": 79,
      "outputs": []
    },
    {
      "cell_type": "code",
      "metadata": {
        "colab": {
          "base_uri": "https://localhost:8080/"
        },
        "id": "L9gPoDe8sdLz",
        "outputId": "366edf0b-1e7f-43e5-a6fa-d72a8fb99f6b"
      },
      "source": [
        "testing_set.shape"
      ],
      "execution_count": 80,
      "outputs": [
        {
          "output_type": "execute_result",
          "data": {
            "text/plain": [
              "(436,)"
            ]
          },
          "metadata": {},
          "execution_count": 80
        }
      ]
    },
    {
      "cell_type": "code",
      "metadata": {
        "id": "gq509gSMsjFC"
      },
      "source": [
        "from sklearn.preprocessing import MinMaxScaler"
      ],
      "execution_count": 81,
      "outputs": []
    },
    {
      "cell_type": "code",
      "metadata": {
        "colab": {
          "base_uri": "https://localhost:8080/"
        },
        "id": "ToJZSBK6slVE",
        "outputId": "540a23be-5bf0-4589-80f8-b52a069c04f1"
      },
      "source": [
        "type(training_set)"
      ],
      "execution_count": 82,
      "outputs": [
        {
          "output_type": "execute_result",
          "data": {
            "text/plain": [
              "numpy.ndarray"
            ]
          },
          "metadata": {},
          "execution_count": 82
        }
      ]
    },
    {
      "cell_type": "code",
      "metadata": {
        "id": "yHcwG3yvsn4J"
      },
      "source": [
        "sc = MinMaxScaler(feature_range=(0,1))"
      ],
      "execution_count": 83,
      "outputs": []
    },
    {
      "cell_type": "code",
      "metadata": {
        "id": "WcMutwisspqm"
      },
      "source": [
        "training_set_scaled = sc.fit_transform(training_set.reshape(-1,1))"
      ],
      "execution_count": 84,
      "outputs": []
    },
    {
      "cell_type": "code",
      "metadata": {
        "id": "z5Diiy0Osu-e"
      },
      "source": [
        "testing_set_scaled = sc.fit_transform(testing_set.reshape(-1,1))"
      ],
      "execution_count": 85,
      "outputs": []
    },
    {
      "cell_type": "code",
      "metadata": {
        "colab": {
          "base_uri": "https://localhost:8080/"
        },
        "id": "WitTLlc-swoJ",
        "outputId": "2542a0f6-eda0-45e1-d163-d52bdc420985"
      },
      "source": [
        "type(training_set_scaled)"
      ],
      "execution_count": 86,
      "outputs": [
        {
          "output_type": "execute_result",
          "data": {
            "text/plain": [
              "numpy.ndarray"
            ]
          },
          "metadata": {},
          "execution_count": 86
        }
      ]
    },
    {
      "cell_type": "code",
      "metadata": {
        "id": "c0D73yw1sy-q"
      },
      "source": [
        "timestep = 60\n",
        "X_train =[]\n",
        "Y_train =[]"
      ],
      "execution_count": 87,
      "outputs": []
    },
    {
      "cell_type": "code",
      "metadata": {
        "colab": {
          "base_uri": "https://localhost:8080/"
        },
        "id": "Z_LqAPnrs1Lc",
        "outputId": "fdc9e395-d3d9-460c-bfbf-86508a6f142c"
      },
      "source": [
        "len(training_set)"
      ],
      "execution_count": 88,
      "outputs": [
        {
          "output_type": "execute_result",
          "data": {
            "text/plain": [
              "1015"
            ]
          },
          "metadata": {},
          "execution_count": 88
        }
      ]
    },
    {
      "cell_type": "code",
      "metadata": {
        "id": "IMa2rB4As3MG"
      },
      "source": [
        "for i in range(timestep,len(training_set)):\n",
        "    X_train.append(training_set_scaled[i-timestep:i,0])\n",
        "    Y_train.append(training_set_scaled[i,0])"
      ],
      "execution_count": 89,
      "outputs": []
    },
    {
      "cell_type": "code",
      "metadata": {
        "id": "WcgZsCHis5F5"
      },
      "source": [
        "type(X_train)\n",
        "\n",
        "x_train = np.array(X_train)\n",
        "\n",
        "x_train = np.array(X_train)\n",
        "y_train = np.array(Y_train)"
      ],
      "execution_count": 90,
      "outputs": []
    },
    {
      "cell_type": "code",
      "metadata": {
        "id": "ya2tFujks7Az"
      },
      "source": [
        "type(y_train)\n",
        "\n",
        "y_train.shape\n",
        "\n",
        "x_train.shape\n",
        "\n",
        "X_train = np.reshape(x_train,(x_train.shape[0], x_train.shape[1],1))\n",
        "\n",
        "X_train.shape\n",
        "\n",
        "Y_train = np.reshape(y_train,(y_train.shape[0],1))\n",
        "\n",
        "Y_train.shape\n",
        "\n",
        "X_test = []\n",
        "Y_test =[]"
      ],
      "execution_count": 91,
      "outputs": []
    },
    {
      "cell_type": "code",
      "metadata": {
        "id": "UvDH0Huxs8-V"
      },
      "source": [
        "for i in range(timestep,len(testing_set)):\n",
        "    X_test.append(testing_set_scaled[i-timestep:i,0])\n",
        "    Y_test.append(testing_set_scaled[i,0])"
      ],
      "execution_count": 92,
      "outputs": []
    },
    {
      "cell_type": "code",
      "metadata": {
        "id": "S9XwnDGps_KF"
      },
      "source": [
        "x_test = np.array(X_test)\n",
        "y_test = np.array(Y_test)\n",
        "\n",
        "X_test = np.reshape(x_test,(x_test.shape[0], x_test.shape[1],1))\n",
        "\n",
        "Y_test = np.reshape(y_test,(y_test.shape[0],1))\n",
        "\n",
        "#modeling\n",
        "#X_train\n",
        "#Y_train\n",
        "#testing\n",
        "#X_test\n",
        "#Y_test"
      ],
      "execution_count": 93,
      "outputs": []
    },
    {
      "cell_type": "code",
      "metadata": {
        "id": "RVhnJLeGtLov"
      },
      "source": [
        "x_train = torch.from_numpy(X_train).type(torch.Tensor)"
      ],
      "execution_count": 94,
      "outputs": []
    },
    {
      "cell_type": "code",
      "metadata": {
        "id": "Md-bYO_qtOc3"
      },
      "source": [
        "type(x_train)\n",
        "\n",
        "y_train = torch.from_numpy(Y_train).type(torch.Tensor)\n",
        "\n",
        "x_test = torch.from_numpy(X_test).type(torch.Tensor)\n",
        "\n",
        "y_test = torch.from_numpy(Y_test).type(torch.Tensor)\n",
        "\n",
        "#x_train\n",
        "#y_train\n",
        "#x_test\n",
        "#y_test"
      ],
      "execution_count": 95,
      "outputs": []
    },
    {
      "cell_type": "code",
      "metadata": {
        "id": "R_QmQNMttQjI"
      },
      "source": [
        "input_dim = 1\n",
        "hidden_dim = 32\n",
        "num_layers = 2\n",
        "output_dim = 1"
      ],
      "execution_count": 96,
      "outputs": []
    },
    {
      "cell_type": "code",
      "metadata": {
        "id": "G9Q8-MketShg"
      },
      "source": [
        "class MyLSTM(torch.nn.Module):\n",
        "\n",
        "    def __init__(self, input_dim, hidden_dim, num_layers,output_dim):\n",
        "        super(MyLSTM,self).__init__()\n",
        "\n",
        "        self.hidden_dim = hidden_dim\n",
        "        self.num_layers = num_layers\n",
        "\n",
        "        self.lstm = torch.nn.LSTM(input_dim, hidden_dim,num_layers, batch_first = True) #1 -- 32\n",
        "\n",
        "        self.fc = torch.nn.Linear(hidden_dim, output_dim) #32 --- 1\n",
        "\n",
        "    def forward(self, x):\n",
        "        h0 = torch.zeros(self.num_layers, x.size(0), self.hidden_dim).requires_grad_()   \n",
        "        c0 = torch.zeros(self.num_layers, x.size(0), self.hidden_dim).requires_grad_()\n",
        "        out, (hn, cn) = self.lstm (x, (h0.detach(),c0.detach()))\n",
        "        out = self.fc(out[:,-1,:])\n",
        "\n",
        "        return out"
      ],
      "execution_count": 97,
      "outputs": []
    },
    {
      "cell_type": "code",
      "metadata": {
        "id": "KGjONh_wtUXW"
      },
      "source": [
        "model = MyLSTM(input_dim=input_dim, hidden_dim=hidden_dim, output_dim=output_dim, num_layers=num_layers)\n",
        "\n",
        "model\n",
        "\n",
        "loss_fn = torch.nn.MSELoss()\n",
        "\n",
        "params=model.parameters()\n",
        "optimizer = torch.optim.Adam(params, lr=0.01)\n",
        "\n",
        "#train model\n",
        "\n",
        "num_epoch = 100\n",
        "listLoss = np.zeros(num_epoch)"
      ],
      "execution_count": 98,
      "outputs": []
    },
    {
      "cell_type": "code",
      "metadata": {
        "id": "Sp8DuSTAtW6W"
      },
      "source": [
        "for t in range(num_epoch):\n",
        "\n",
        "    y_train_pred = model(x_train) # forward inputs\n",
        "    loss = loss_fn(y_train_pred , y_train) #loss\n",
        "    listLoss[t] = loss.item() #save loss in list\n",
        "    #print(\"epoch:\",t,  \"loss\", loss.item()) #print lossepoch\n",
        "    optimizer.zero_grad() #\n",
        "    loss.backward() #\n",
        "    optimizer.step() # update"
      ],
      "execution_count": 99,
      "outputs": []
    },
    {
      "cell_type": "code",
      "metadata": {
        "colab": {
          "base_uri": "https://localhost:8080/",
          "height": 265
        },
        "id": "Xzd_WsXytYqM",
        "outputId": "51656fc9-db85-41c7-9c9d-192061a0615f"
      },
      "source": [
        "plt.plot(listLoss, label =\"Trainig loss\")\n",
        "plt.legend()\n",
        "plt.show()"
      ],
      "execution_count": 100,
      "outputs": [
        {
          "output_type": "display_data",
          "data": {
            "image/png": "[encoded data removed]",
            "text/plain": [
              "<Figure size 432x288 with 1 Axes>"
            ]
          },
          "metadata": {
            "needs_background": "light"
          }
        }
      ]
    },
    {
      "cell_type": "code",
      "metadata": {
        "colab": {
          "base_uri": "https://localhost:8080/",
          "height": 265
        },
        "id": "pvkd5Al4tlTv",
        "outputId": "875718a6-bf90-424d-9aab-92e707a4ce62"
      },
      "source": [
        "plt.plot(y_train_pred.detach().numpy(), label =\"y_train_pre\", color ='red')\n",
        "plt.plot(y_train.detach().numpy(), label =\"y_train\", color ='green')\n",
        "plt.legend()\n",
        "plt.show()"
      ],
      "execution_count": 101,
      "outputs": [
        {
          "output_type": "display_data",
          "data": {
            "image/png": "[encoded data removed]",
            "text/plain": [
              "<Figure size 432x288 with 1 Axes>"
            ]
          },
          "metadata": {
            "needs_background": "light"
          }
        }
      ]
    },
    {
      "cell_type": "code",
      "metadata": {
        "id": "GbTOk0NYtncL"
      },
      "source": [
        "from sklearn.metrics import accuracy_score, r2_score"
      ],
      "execution_count": 102,
      "outputs": []
    },
    {
      "cell_type": "code",
      "metadata": {
        "colab": {
          "base_uri": "https://localhost:8080/",
          "height": 284
        },
        "id": "uPdaWp_Ytpev",
        "outputId": "226b5ac6-dbdf-44fb-c51e-49e8a06f5f60"
      },
      "source": [
        "# train evaluation\n",
        "r2_score = r2_score(y_train.detach().numpy(), y_train_pred.detach().numpy())\n",
        "\n",
        "r2_score\n",
        "\n",
        "y_test_pred = model(x_test)\n",
        "\n",
        "plt.plot(y_test_pred.detach().numpy(), label =\"y_test_pre\", color ='red')\n",
        "plt.plot(y_test.detach().numpy(), label =\"y_test\", color ='green')\n",
        "plt.legend()\n",
        "plt.show()\n",
        "\n",
        "y_test.shape\n",
        "\n",
        "y_test_pred.shape"
      ],
      "execution_count": 103,
      "outputs": [
        {
          "output_type": "display_data",
          "data": {
            "image/png": "[encoded data removed]",
            "text/plain": [
              "<Figure size 432x288 with 1 Axes>"
            ]
          },
          "metadata": {
            "needs_background": "light"
          }
        },
        {
          "output_type": "execute_result",
          "data": {
            "text/plain": [
              "torch.Size([376, 1])"
            ]
          },
          "metadata": {},
          "execution_count": 103
        }
      ]
    },
    {
      "cell_type": "code",
      "metadata": {
        "colab": {
          "base_uri": "https://localhost:8080/",
          "height": 192
        },
        "id": "znlKHZoxtr25",
        "outputId": "3490e82b-fcf4-4c5e-db77-99b967f7f0c3"
      },
      "source": [
        "#test evaluation\n",
        "r2_score = r2_score(y_test.detach().numpy(), y_test_pred.detach().numpy())"
      ],
      "execution_count": 104,
      "outputs": [
        {
          "output_type": "error",
          "ename": "TypeError",
          "evalue": "ignored",
          "traceback": [
            "\u001b[0;31m---------------------------------------------------------------------------\u001b[0m",
            "\u001b[0;31mTypeError\u001b[0m                                 Traceback (most recent call last)",
            "\u001b[0;32m<ipython-input-104-5872b3bb10b3>\u001b[0m in \u001b[0;36m<module>\u001b[0;34m()\u001b[0m\n\u001b[1;32m      1\u001b[0m \u001b[0;31m#test evaluation\u001b[0m\u001b[0;34m\u001b[0m\u001b[0;34m\u001b[0m\u001b[0;34m\u001b[0m\u001b[0m\n\u001b[0;32m----> 2\u001b[0;31m \u001b[0mr2_score\u001b[0m \u001b[0;34m=\u001b[0m \u001b[0mr2_score\u001b[0m\u001b[0;34m(\u001b[0m\u001b[0my_test\u001b[0m\u001b[0;34m.\u001b[0m\u001b[0mdetach\u001b[0m\u001b[0;34m(\u001b[0m\u001b[0;34m)\u001b[0m\u001b[0;34m.\u001b[0m\u001b[0mnumpy\u001b[0m\u001b[0;34m(\u001b[0m\u001b[0;34m)\u001b[0m\u001b[0;34m,\u001b[0m \u001b[0my_test_pred\u001b[0m\u001b[0;34m.\u001b[0m\u001b[0mdetach\u001b[0m\u001b[0;34m(\u001b[0m\u001b[0;34m)\u001b[0m\u001b[0;34m.\u001b[0m\u001b[0mnumpy\u001b[0m\u001b[0;34m(\u001b[0m\u001b[0;34m)\u001b[0m\u001b[0;34m)\u001b[0m\u001b[0;34m\u001b[0m\u001b[0;34m\u001b[0m\u001b[0m\n\u001b[0m",
            "\u001b[0;31mTypeError\u001b[0m: 'numpy.float64' object is not callable"
          ]
        }
      ]
    },
    {
      "cell_type": "code",
      "metadata": {
        "id": "UMpUKZAbtwZo"
      },
      "source": [
        ""
      ],
      "execution_count": null,
      "outputs": []
    },
    {
      "cell_type": "code",
      "metadata": {
        "id": "49jV6QurtizZ"
      },
      "source": [
        ""
      ],
      "execution_count": null,
      "outputs": []
    },
    {
      "cell_type": "code",
      "metadata": {
        "id": "HxSlJg_SarzF"
      },
      "source": [
        ""
      ],
      "execution_count": null,
      "outputs": []
    },
    {
      "cell_type": "markdown",
      "metadata": {
        "id": "Ihu3fKD_adBo"
      },
      "source": [
        ""
      ]
    }
  ]
}