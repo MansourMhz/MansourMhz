{
  "nbformat": 4,
  "nbformat_minor": 0,
  "metadata": {
    "colab": {
      "name": "Untitled18.ipynb",
      "provenance": [],
      "mount_file_id": "1sYateoqkI2-2IGA079JSrq2Yhu6lkUvm",
      "authorship_tag": "ABX9TyOKmEOKLCv0ROwLDSNXgSCS",
      "include_colab_link": true
    },
    "kernelspec": {
      "name": "python3",
      "display_name": "Python 3"
    },
    "language_info": {
      "name": "python"
    }
  },
  "cells": [
    {
      "cell_type": "markdown",
      "metadata": {
        "id": "view-in-github",
        "colab_type": "text"
      },
      "source": [
        "<a href=\"https://colab.research.google.com/github/MansourMhz/MansourMhz/blob/main/Untitled18.ipynb\" target=\"_parent\"><img src=\"https://colab.research.google.com/assets/colab-badge.svg\" alt=\"Open In Colab\"/></a>"
      ]
    },
    {
      "cell_type": "code",
      "metadata": {
        "colab": {
          "base_uri": "https://localhost:8080/",
          "height": 36
        },
        "id": "96XTtBzmZFng",
        "outputId": "aecbc6c1-5417-4210-97a4-a9c013f97ef8"
      },
      "source": [
        "pwd"
      ],
      "execution_count": 1,
      "outputs": [
        {
          "output_type": "execute_result",
          "data": {
            "application/vnd.google.colaboratory.intrinsic+json": {
              "type": "string"
            },
            "text/plain": [
              "'/content'"
            ]
          },
          "metadata": {},
          "execution_count": 1
        }
      ]
    },
    {
      "cell_type": "code",
      "metadata": {
        "id": "66ysGMw1ZsVf"
      },
      "source": [
        "import pandas as pd\n",
        "import numpy as np\n",
        "import matplotlib.pyplot as plt\n",
        "\n",
        "import torch"
      ],
      "execution_count": 2,
      "outputs": []
    },
    {
      "cell_type": "code",
      "metadata": {
        "colab": {
          "base_uri": "https://localhost:8080/",
          "height": 36
        },
        "id": "iwngPe3AZ0E3",
        "outputId": "9ece4442-4a1e-4e6f-f1d2-20b1034a157a"
      },
      "source": [
        "pwd"
      ],
      "execution_count": 3,
      "outputs": [
        {
          "output_type": "execute_result",
          "data": {
            "application/vnd.google.colaboratory.intrinsic+json": {
              "type": "string"
            },
            "text/plain": [
              "'/content'"
            ]
          },
          "metadata": {},
          "execution_count": 3
        }
      ]
    },
    {
      "cell_type": "code",
      "metadata": {
        "id": "EHQKgxxtaDf0"
      },
      "source": [
        "dataset = pd.read_csv('/content/drive/MyDrive/MasterThesis/xauusd.csv')"
      ],
      "execution_count": 4,
      "outputs": []
    },
    {
      "cell_type": "code",
      "metadata": {
        "colab": {
          "base_uri": "https://localhost:8080/"
        },
        "id": "y6lSo8w7apSh",
        "outputId": "03a48aa5-2bb8-47a5-bbda-444dda522ae3"
      },
      "source": [
        "type(dataset)"
      ],
      "execution_count": 6,
      "outputs": [
        {
          "output_type": "execute_result",
          "data": {
            "text/plain": [
              "pandas.core.frame.DataFrame"
            ]
          },
          "metadata": {},
          "execution_count": 6
        }
      ]
    },
    {
      "cell_type": "code",
      "metadata": {
        "colab": {
          "base_uri": "https://localhost:8080/",
          "height": 206
        },
        "id": "lVDK-m5JavkY",
        "outputId": "a4d8ca84-2295-444a-95bf-0cb121fc6594"
      },
      "source": [
        "dataset.head(5)"
      ],
      "execution_count": 7,
      "outputs": [
        {
          "output_type": "execute_result",
          "data": {
            "text/html": [
              "<div>\n",
              "<style scoped>\n",
              "    .dataframe tbody tr th:only-of-type {\n",
              "        vertical-align: middle;\n",
              "    }\n",
              "\n",
              "    .dataframe tbody tr th {\n",
              "        vertical-align: top;\n",
              "    }\n",
              "\n",
              "    .dataframe thead th {\n",
              "        text-align: right;\n",
              "    }\n",
              "</style>\n",
              "<table border=\"1\" class=\"dataframe\">\n",
              "  <thead>\n",
              "    <tr style=\"text-align: right;\">\n",
              "      <th></th>\n",
              "      <th>Date</th>\n",
              "      <th>Open</th>\n",
              "      <th>High</th>\n",
              "      <th>Low</th>\n",
              "      <th>Close</th>\n",
              "    </tr>\n",
              "  </thead>\n",
              "  <tbody>\n",
              "    <tr>\n",
              "      <th>0</th>\n",
              "      <td>2016-03-01</td>\n",
              "      <td>1240.49</td>\n",
              "      <td>1248.77</td>\n",
              "      <td>1227.48</td>\n",
              "      <td>1232.66</td>\n",
              "    </tr>\n",
              "    <tr>\n",
              "      <th>1</th>\n",
              "      <td>2016-03-02</td>\n",
              "      <td>1231.44</td>\n",
              "      <td>1244.23</td>\n",
              "      <td>1225.02</td>\n",
              "      <td>1239.83</td>\n",
              "    </tr>\n",
              "    <tr>\n",
              "      <th>2</th>\n",
              "      <td>2016-03-03</td>\n",
              "      <td>1239.49</td>\n",
              "      <td>1268.55</td>\n",
              "      <td>1237.72</td>\n",
              "      <td>1264.87</td>\n",
              "    </tr>\n",
              "    <tr>\n",
              "      <th>3</th>\n",
              "      <td>2016-03-04</td>\n",
              "      <td>1260.20</td>\n",
              "      <td>1279.97</td>\n",
              "      <td>1250.78</td>\n",
              "      <td>1261.55</td>\n",
              "    </tr>\n",
              "    <tr>\n",
              "      <th>4</th>\n",
              "      <td>2016-03-07</td>\n",
              "      <td>1264.23</td>\n",
              "      <td>1273.43</td>\n",
              "      <td>1257.12</td>\n",
              "      <td>1267.54</td>\n",
              "    </tr>\n",
              "  </tbody>\n",
              "</table>\n",
              "</div>"
            ],
            "text/plain": [
              "         Date     Open     High      Low    Close\n",
              "0  2016-03-01  1240.49  1248.77  1227.48  1232.66\n",
              "1  2016-03-02  1231.44  1244.23  1225.02  1239.83\n",
              "2  2016-03-03  1239.49  1268.55  1237.72  1264.87\n",
              "3  2016-03-04  1260.20  1279.97  1250.78  1261.55\n",
              "4  2016-03-07  1264.23  1273.43  1257.12  1267.54"
            ]
          },
          "metadata": {},
          "execution_count": 7
        }
      ]
    },
    {
      "cell_type": "code",
      "metadata": {
        "colab": {
          "base_uri": "https://localhost:8080/"
        },
        "id": "R4Y89UXxazog",
        "outputId": "a10def7f-39e4-4be2-d623-303efcdb1ac5"
      },
      "source": [
        "dataset.shape"
      ],
      "execution_count": 8,
      "outputs": [
        {
          "output_type": "execute_result",
          "data": {
            "text/plain": [
              "(1451, 5)"
            ]
          },
          "metadata": {},
          "execution_count": 8
        }
      ]
    },
    {
      "cell_type": "code",
      "metadata": {
        "colab": {
          "base_uri": "https://localhost:8080/"
        },
        "id": "0hG6HHFMa1gp",
        "outputId": "b683cba1-92ab-4df7-a067-7a0fb0851b6e"
      },
      "source": [
        "dataset.shape[0]"
      ],
      "execution_count": 9,
      "outputs": [
        {
          "output_type": "execute_result",
          "data": {
            "text/plain": [
              "1451"
            ]
          },
          "metadata": {},
          "execution_count": 9
        }
      ]
    },
    {
      "cell_type": "code",
      "metadata": {
        "colab": {
          "base_uri": "https://localhost:8080/"
        },
        "id": "QhydkWEra319",
        "outputId": "065d0528-9063-4dec-ddcf-d528a5c87cbc"
      },
      "source": [
        "dataset.shape[1]"
      ],
      "execution_count": 10,
      "outputs": [
        {
          "output_type": "execute_result",
          "data": {
            "text/plain": [
              "5"
            ]
          },
          "metadata": {},
          "execution_count": 10
        }
      ]
    },
    {
      "cell_type": "code",
      "metadata": {
        "id": "apfXjG0zbVCI"
      },
      "source": [
        "num_train = int(dataset.shape[0]*0.70)"
      ],
      "execution_count": 11,
      "outputs": []
    },
    {
      "cell_type": "code",
      "metadata": {
        "colab": {
          "base_uri": "https://localhost:8080/"
        },
        "id": "Zz4bLH5LbaBj",
        "outputId": "ad0cb592-938a-4c5e-f1ff-8f0daa9f3b18"
      },
      "source": [
        "num_train"
      ],
      "execution_count": 12,
      "outputs": [
        {
          "output_type": "execute_result",
          "data": {
            "text/plain": [
              "1015"
            ]
          },
          "metadata": {},
          "execution_count": 12
        }
      ]
    },
    {
      "cell_type": "code",
      "metadata": {
        "id": "j06vqzpHbcuK"
      },
      "source": [
        "training_set = dataset.iloc[0:num_train,1].values #open\n"
      ],
      "execution_count": 13,
      "outputs": []
    },
    {
      "cell_type": "code",
      "metadata": {
        "colab": {
          "base_uri": "https://localhost:8080/"
        },
        "id": "BJE9CKWHbgtk",
        "outputId": "4674de7e-e9ae-4e27-d993-ba1b250d2e00"
      },
      "source": [
        "training_set\n"
      ],
      "execution_count": 14,
      "outputs": [
        {
          "output_type": "execute_result",
          "data": {
            "text/plain": [
              "array([1240.49, 1231.44, 1239.49, ..., 1593.43, 1577.24, 1552.94])"
            ]
          },
          "metadata": {},
          "execution_count": 14
        }
      ]
    },
    {
      "cell_type": "code",
      "metadata": {
        "colab": {
          "base_uri": "https://localhost:8080/"
        },
        "id": "HeEqBXQFbitb",
        "outputId": "f7080a9a-55ad-47b0-a2f6-42ff2833aeb3"
      },
      "source": [
        "training_set.shape\n"
      ],
      "execution_count": 15,
      "outputs": [
        {
          "output_type": "execute_result",
          "data": {
            "text/plain": [
              "(1015,)"
            ]
          },
          "metadata": {},
          "execution_count": 15
        }
      ]
    },
    {
      "cell_type": "code",
      "metadata": {
        "id": "ZmYqEpBPblv3"
      },
      "source": [
        "testing_set = dataset.iloc[num_train:,1].values\n"
      ],
      "execution_count": 16,
      "outputs": []
    },
    {
      "cell_type": "code",
      "metadata": {
        "id": "pwSdtkSUbnuf"
      },
      "source": [
        ""
      ],
      "execution_count": null,
      "outputs": []
    },
    {
      "cell_type": "code",
      "metadata": {
        "id": "HxSlJg_SarzF"
      },
      "source": [
        ""
      ],
      "execution_count": null,
      "outputs": []
    },
    {
      "cell_type": "markdown",
      "metadata": {
        "id": "Ihu3fKD_adBo"
      },
      "source": [
        ""
      ]
    }
  ]
}