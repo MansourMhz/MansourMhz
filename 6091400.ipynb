{
  "nbformat": 4,
  "nbformat_minor": 0,
  "metadata": {
    "colab": {
      "name": "6091400.ipynb",
      "provenance": [],
      "collapsed_sections": [],
      "mount_file_id": "1MQLP0bsvCZglAnah1PxKYP2nVYpA7igD",
      "authorship_tag": "ABX9TyNzCwmY/4h5xAWydq98Oghl",
      "include_colab_link": true
    },
    "kernelspec": {
      "name": "python3",
      "display_name": "Python 3"
    },
    "language_info": {
      "name": "python"
    }
  },
  "cells": [
    {
      "cell_type": "markdown",
      "metadata": {
        "id": "view-in-github",
        "colab_type": "text"
      },
      "source": [
        "<a href=\"https://colab.research.google.com/github/MansourMhz/MansourMhz/blob/main/6091400.ipynb\" target=\"_parent\"><img src=\"https://colab.research.google.com/assets/colab-badge.svg\" alt=\"Open In Colab\"/></a>"
      ]
    },
    {
      "cell_type": "code",
      "metadata": {
        "id": "SRbYEb41gQRA"
      },
      "source": [
        "import pandas as pd\n",
        "import numpy as np\n",
        "import matplotlib.pyplot as plt\n",
        "\n",
        "import torch"
      ],
      "execution_count": 1,
      "outputs": []
    },
    {
      "cell_type": "code",
      "metadata": {
        "id": "YwKKGt7PhiTZ"
      },
      "source": [
        "dataset = pd.read_csv('/content/drive/MyDrive/MasterThesis/xauusd.csv')"
      ],
      "execution_count": 38,
      "outputs": []
    },
    {
      "cell_type": "code",
      "metadata": {
        "colab": {
          "base_uri": "https://localhost:8080/"
        },
        "id": "PPQuYuP3kYcr",
        "outputId": "c34c3c2b-b734-4525-c55f-a1534b4e1cb3"
      },
      "source": [
        "type(dataset)"
      ],
      "execution_count": 39,
      "outputs": [
        {
          "output_type": "execute_result",
          "data": {
            "text/plain": [
              "pandas.core.frame.DataFrame"
            ]
          },
          "metadata": {},
          "execution_count": 39
        }
      ]
    },
    {
      "cell_type": "code",
      "metadata": {
        "colab": {
          "base_uri": "https://localhost:8080/",
          "height": 206
        },
        "id": "-0ptM0tLkZRv",
        "outputId": "60ce0d4f-d8cf-4ea5-a7f2-2750339f7ebf"
      },
      "source": [
        "dataset.head(5)"
      ],
      "execution_count": 40,
      "outputs": [
        {
          "output_type": "execute_result",
          "data": {
            "text/html": [
              "<div>\n",
              "<style scoped>\n",
              "    .dataframe tbody tr th:only-of-type {\n",
              "        vertical-align: middle;\n",
              "    }\n",
              "\n",
              "    .dataframe tbody tr th {\n",
              "        vertical-align: top;\n",
              "    }\n",
              "\n",
              "    .dataframe thead th {\n",
              "        text-align: right;\n",
              "    }\n",
              "</style>\n",
              "<table border=\"1\" class=\"dataframe\">\n",
              "  <thead>\n",
              "    <tr style=\"text-align: right;\">\n",
              "      <th></th>\n",
              "      <th>Date</th>\n",
              "      <th>Open</th>\n",
              "      <th>High</th>\n",
              "      <th>Low</th>\n",
              "      <th>Close</th>\n",
              "    </tr>\n",
              "  </thead>\n",
              "  <tbody>\n",
              "    <tr>\n",
              "      <th>0</th>\n",
              "      <td>2016-03-01</td>\n",
              "      <td>1240.49</td>\n",
              "      <td>1248.77</td>\n",
              "      <td>1227.48</td>\n",
              "      <td>1232.66</td>\n",
              "    </tr>\n",
              "    <tr>\n",
              "      <th>1</th>\n",
              "      <td>2016-03-02</td>\n",
              "      <td>1231.44</td>\n",
              "      <td>1244.23</td>\n",
              "      <td>1225.02</td>\n",
              "      <td>1239.83</td>\n",
              "    </tr>\n",
              "    <tr>\n",
              "      <th>2</th>\n",
              "      <td>2016-03-03</td>\n",
              "      <td>1239.49</td>\n",
              "      <td>1268.55</td>\n",
              "      <td>1237.72</td>\n",
              "      <td>1264.87</td>\n",
              "    </tr>\n",
              "    <tr>\n",
              "      <th>3</th>\n",
              "      <td>2016-03-04</td>\n",
              "      <td>1260.20</td>\n",
              "      <td>1279.97</td>\n",
              "      <td>1250.78</td>\n",
              "      <td>1261.55</td>\n",
              "    </tr>\n",
              "    <tr>\n",
              "      <th>4</th>\n",
              "      <td>2016-03-07</td>\n",
              "      <td>1264.23</td>\n",
              "      <td>1273.43</td>\n",
              "      <td>1257.12</td>\n",
              "      <td>1267.54</td>\n",
              "    </tr>\n",
              "  </tbody>\n",
              "</table>\n",
              "</div>"
            ],
            "text/plain": [
              "         Date     Open     High      Low    Close\n",
              "0  2016-03-01  1240.49  1248.77  1227.48  1232.66\n",
              "1  2016-03-02  1231.44  1244.23  1225.02  1239.83\n",
              "2  2016-03-03  1239.49  1268.55  1237.72  1264.87\n",
              "3  2016-03-04  1260.20  1279.97  1250.78  1261.55\n",
              "4  2016-03-07  1264.23  1273.43  1257.12  1267.54"
            ]
          },
          "metadata": {},
          "execution_count": 40
        }
      ]
    },
    {
      "cell_type": "code",
      "metadata": {
        "colab": {
          "base_uri": "https://localhost:8080/"
        },
        "id": "7K963yJjkcbg",
        "outputId": "590e7ba8-e10b-428e-b3cd-dd11a064e76e"
      },
      "source": [
        "dataset.shape"
      ],
      "execution_count": 43,
      "outputs": [
        {
          "output_type": "execute_result",
          "data": {
            "text/plain": [
              "(1451, 5)"
            ]
          },
          "metadata": {},
          "execution_count": 43
        }
      ]
    },
    {
      "cell_type": "code",
      "metadata": {
        "colab": {
          "base_uri": "https://localhost:8080/"
        },
        "id": "0gadLaAJkeA7",
        "outputId": "8248f956-63c0-4534-b63a-b7affed3f9d2"
      },
      "source": [
        "dataset.shape[0]"
      ],
      "execution_count": 42,
      "outputs": [
        {
          "output_type": "execute_result",
          "data": {
            "text/plain": [
              "1451"
            ]
          },
          "metadata": {},
          "execution_count": 42
        }
      ]
    },
    {
      "cell_type": "code",
      "metadata": {
        "colab": {
          "base_uri": "https://localhost:8080/"
        },
        "id": "4TYQv6jdkftw",
        "outputId": "09bb80d8-2b99-4403-fd45-c6fedb9fde2a"
      },
      "source": [
        "dataset.shape[1]"
      ],
      "execution_count": 44,
      "outputs": [
        {
          "output_type": "execute_result",
          "data": {
            "text/plain": [
              "5"
            ]
          },
          "metadata": {},
          "execution_count": 44
        }
      ]
    },
    {
      "cell_type": "code",
      "metadata": {
        "colab": {
          "base_uri": "https://localhost:8080/"
        },
        "id": "5_fqkQuYkjQ0",
        "outputId": "9bea763a-9bc8-4ef9-ab46-c5663595a84c"
      },
      "source": [
        "dataset.shape[0]*0.70"
      ],
      "execution_count": 45,
      "outputs": [
        {
          "output_type": "execute_result",
          "data": {
            "text/plain": [
              "1015.6999999999999"
            ]
          },
          "metadata": {},
          "execution_count": 45
        }
      ]
    },
    {
      "cell_type": "code",
      "metadata": {
        "id": "4VNIlN8wklWI"
      },
      "source": [
        "num_train = int(dataset.shape[0]*0.70)"
      ],
      "execution_count": 46,
      "outputs": []
    },
    {
      "cell_type": "code",
      "metadata": {
        "colab": {
          "base_uri": "https://localhost:8080/"
        },
        "id": "qMwwfxCPknuz",
        "outputId": "2db72715-6c22-4f85-df91-d792d42b9cdf"
      },
      "source": [
        "num_train"
      ],
      "execution_count": 47,
      "outputs": [
        {
          "output_type": "execute_result",
          "data": {
            "text/plain": [
              "1015"
            ]
          },
          "metadata": {},
          "execution_count": 47
        }
      ]
    },
    {
      "cell_type": "code",
      "metadata": {
        "colab": {
          "base_uri": "https://localhost:8080/"
        },
        "id": "ovOSmh2VkpsP",
        "outputId": "63e05ac2-413f-46ee-dab8-ea5f69d15e42"
      },
      "source": [
        "type(dataset)"
      ],
      "execution_count": 48,
      "outputs": [
        {
          "output_type": "execute_result",
          "data": {
            "text/plain": [
              "pandas.core.frame.DataFrame"
            ]
          },
          "metadata": {},
          "execution_count": 48
        }
      ]
    },
    {
      "cell_type": "code",
      "metadata": {
        "id": "phJSUHEHkrA3"
      },
      "source": [
        "training_set = dataset.iloc[0:num_train,1].values"
      ],
      "execution_count": 49,
      "outputs": []
    },
    {
      "cell_type": "code",
      "metadata": {
        "colab": {
          "base_uri": "https://localhost:8080/"
        },
        "id": "EgUAucFlksvR",
        "outputId": "3ed94d7c-6b52-4892-cd51-22e77167ab77"
      },
      "source": [
        "training_set"
      ],
      "execution_count": 50,
      "outputs": [
        {
          "output_type": "execute_result",
          "data": {
            "text/plain": [
              "array([1240.49, 1231.44, 1239.49, ..., 1593.43, 1577.24, 1552.94])"
            ]
          },
          "metadata": {},
          "execution_count": 50
        }
      ]
    },
    {
      "cell_type": "code",
      "metadata": {
        "colab": {
          "base_uri": "https://localhost:8080/"
        },
        "id": "tAbrEdAvku0O",
        "outputId": "34b71e19-fe7a-42f3-908e-b2688add9c38"
      },
      "source": [
        "training_set.shape"
      ],
      "execution_count": 51,
      "outputs": [
        {
          "output_type": "execute_result",
          "data": {
            "text/plain": [
              "(1015,)"
            ]
          },
          "metadata": {},
          "execution_count": 51
        }
      ]
    },
    {
      "cell_type": "code",
      "metadata": {
        "id": "0HiQ6CPxkwbw"
      },
      "source": [
        "testing_set = dataset.iloc[num_train:,1].values"
      ],
      "execution_count": 52,
      "outputs": []
    },
    {
      "cell_type": "code",
      "metadata": {
        "colab": {
          "base_uri": "https://localhost:8080/"
        },
        "id": "reDG1YoRkyJI",
        "outputId": "07831d87-23f4-433d-f437-295faedaba6f"
      },
      "source": [
        "testing_set"
      ],
      "execution_count": 53,
      "outputs": [
        {
          "output_type": "execute_result",
          "data": {
            "text/plain": [
              "array([1556.23 , 1566.85 , 1572.05 , 1572.19 , 1568.07 , 1566.04 ,\n",
              "       1576.17 , 1582.4  , 1584.33 , 1601.68 , 1612.29 , 1620.57 ,\n",
              "       1654.84 , 1659.35 , 1634.97 , 1640.81 , 1644.275, 1592.13 ,\n",
              "       1587.07 , 1640.18 , 1639.46 , 1672.58 , 1698.35 , 1671.53 ,\n",
              "       1653.22 , 1638.94 , 1577.09 , 1546.77 , 1508.19 , 1532.86 ,\n",
              "       1485.   , 1467.94 , 1489.05 , 1564.79 , 1632.12 , 1611.37 ,\n",
              "       1629.26 , 1620.75 , 1623.38 , 1576.59 , 1590.73 , 1615.89 ,\n",
              "       1617.65 , 1663.92 , 1648.92 , 1645.8  , 1685.3  , 1711.84 ,\n",
              "       1727.59 , 1717.84 , 1717.64 , 1682.59 , 1696.475, 1688.49 ,\n",
              "       1713.94 , 1730.53 , 1728.52 , 1713.255, 1708.59 , 1714.05 ,\n",
              "       1686.93 , 1701.92 , 1701.07 , 1706.04 , 1683.73 , 1717.12 ,\n",
              "       1702.03 , 1697.26 , 1702.26 , 1716.515, 1730.43 , 1746.2  ,\n",
              "       1732.54 , 1745.91 , 1747.92 , 1727.32 , 1733.7  , 1728.84 ,\n",
              "       1710.75 , 1711.29 , 1719.05 , 1736.49 , 1738.97 , 1727.8  ,\n",
              "       1700.42 , 1715.26 , 1684.24 , 1698.16 , 1713.9  , 1737.94 ,\n",
              "       1727.795, 1733.4  , 1725.15 , 1726.26 , 1726.33 , 1722.2  ,\n",
              "       1750.03 , 1754.85 , 1768.13 , 1761.38 , 1765.32 , 1775.68 ,\n",
              "       1772.85 , 1782.69 , 1769.51 , 1776.11 , 1776.455, 1784.8  ,\n",
              "       1795.56 , 1809.61 , 1802.42 , 1798.98 , 1803.11 , 1808.71 ,\n",
              "       1810.38 , 1797.74 , 1809.11 , 1818.24 , 1841.55 , 1872.59 ,\n",
              "       1887.39 , 1901.81 , 1942.45 , 1957.28 , 1970.99 , 1957.4  ,\n",
              "       1979.6  , 1977.11 , 2019.35 , 2040.645, 2065.72 , 2033.15 ,\n",
              "       2028.33 , 1911.93 , 1915.15 , 1953.25 , 1947.1  , 1985.2  ,\n",
              "       2002.66 , 1929.5  , 1947.37 , 1941.74 , 1928.575, 1931.33 ,\n",
              "       1955.57 , 1929.87 , 1965.48 , 1967.59 , 1969.84 , 1942.885,\n",
              "       1931.63 , 1931.64 , 1929.81 , 1932.05 , 1946.16 , 1945.25 ,\n",
              "       1940.06 , 1957.67 , 1953.74 , 1959.45 , 1942.64 , 1949.69 ,\n",
              "       1912.77 , 1900.17 , 1863.11 , 1868.41 , 1859.49 , 1881.485,\n",
              "       1898.73 , 1886.25 , 1905.63 , 1902.67 , 1913.135, 1879.08 ,\n",
              "       1887.74 , 1894.21 , 1928.66 , 1922.71 , 1892.08 , 1902.15 ,\n",
              "       1908.965, 1899.86 , 1904.35 , 1908.94 , 1924.3  , 1904.22 ,\n",
              "       1893.52 , 1902.59 , 1904.79 , 1877.98 , 1866.73 , 1877.11 ,\n",
              "       1895.75 , 1908.7  , 1903.1  , 1948.87 , 1954.4  , 1864.76 ,\n",
              "       1877.23 , 1865.84 , 1876.89 , 1889.82 , 1889.04 , 1880.85 ,\n",
              "       1872.91 , 1866.175, 1870.13 , 1838.06 , 1807.93 , 1807.735,\n",
              "       1811.09 , 1789.6  , 1777.15 , 1815.325, 1830.57 , 1841.4  ,\n",
              "       1838.86 , 1862.35 , 1870.93 , 1839.84 , 1837.38 , 1841.46 ,\n",
              "       1827.79 , 1853.49 , 1864.49 , 1885.88 , 1884.24 , 1877.39 ,\n",
              "       1861.01 , 1873.2  , 1883.2  , 1873.15 , 1878.27 , 1894.32 ,\n",
              "       1903.49 , 1942.4  , 1950.56 , 1919.47 , 1914.74 , 1849.22 ,\n",
              "       1844.16 , 1855.42 , 1845.29 , 1847.05 , 1828.23 , 1838.09 ,\n",
              "       1840.53 , 1871.26 , 1870.085, 1855.1  , 1856.22 , 1851.24 ,\n",
              "       1844.43 , 1842.99 , 1862.7  , 1860.45 , 1838.04 , 1833.99 ,\n",
              "       1793.91 , 1815.29 , 1830.31 , 1837.89 , 1843.35 , 1826.12 ,\n",
              "       1825.55 , 1819.165, 1794.3  , 1777.68 , 1776.64 , 1782.17 ,\n",
              "       1809.87 , 1806.16 , 1805.24 , 1771.85 , 1733.82 , 1724.96 ,\n",
              "       1738.22 , 1710.98 , 1697.72 , 1703.55 , 1683.48 , 1716.11 ,\n",
              "       1726.76 , 1722.34 , 1727.89 , 1730.77 , 1731.95 , 1747.5  ,\n",
              "       1735.06 , 1738.18 , 1739.65 , 1727.02 , 1734.18 , 1727.96 ,\n",
              "       1731.7  , 1712.37 , 1685.595, 1708.   , 1728.6  , 1728.6  ,\n",
              "       1743.05 , 1737.9  , 1755.65 , 1743.   , 1732.7  , 1745.65 ,\n",
              "       1736.43 , 1763.75 , 1777.5  , 1770.85 , 1778.71 , 1794.   ,\n",
              "       1784.43 , 1776.05 , 1781.26 , 1776.7  , 1782.3  , 1772.88 ,\n",
              "       1770.46 , 1794.015, 1779.01 , 1787.23 , 1815.08 , 1832.78 ,\n",
              "       1836.11 , 1837.51 , 1815.92 , 1826.49 , 1842.4  , 1865.7  ,\n",
              "       1869.61 , 1869.71 , 1877.65 , 1881.99 , 1881.11 , 1899.09 ,\n",
              "       1896.42 , 1897.53 , 1903.54 , 1907.4  , 1900.07 , 1907.96 ,\n",
              "       1871.005, 1891.66 , 1899.   , 1892.14 , 1888.84 , 1898.44 ,\n",
              "       1877.82 , 1866.47 , 1859.38 , 1811.93 , 1773.05 , 1764.69 ,\n",
              "       1783.02 , 1779.   , 1778.49 , 1775.51 , 1781.11 , 1778.27 ,\n",
              "       1761.71 , 1770.03 , 1777.05 , 1787.48 , 1792.1  , 1796.96 ,\n",
              "       1803.97 , 1802.95 , 1808.02 , 1806.36 , 1808.25 , 1827.4  ,\n",
              "       1829.43 , 1811.35 , 1812.75 , 1810.68 , 1803.8  , 1807.225,\n",
              "       1802.36 , 1797.53 , 1799.02 , 1807.38 , 1828.31 , 1814.2  ,\n",
              "       1813.44 , 1810.7  , 1811.97 , 1804.55 , 1763.53 , 1730.26 ,\n",
              "       1729.3  , 1751.18 , 1752.68 , 1789.   , 1787.59 , 1786.24 ,\n",
              "       1787.6  , 1780.32 , 1786.95 , 1805.3  , 1803.07 , 1790.96 ,\n",
              "       1792.96 , 1818.41 , 1810.075, 1814.095, 1813.85 , 1809.3  ,\n",
              "       1830.355, 1823.3  , 1794.42 , 1789.14 , 1794.6  , 1787.9  ,\n",
              "       1793.5  , 1804.515, 1794.35 , 1754.195, 1754.5  , 1764.6  ,\n",
              "       1774.15 , 1768.65 , 1743.3  , 1751.735, 1750.25 , 1734.2  ,\n",
              "       1726.13 , 1756.8  , 1760.08 , 1769.425, 1760.03 , 1763.07 ,\n",
              "       1756.09 , 1757.565, 1754.075, 1760.14 ])"
            ]
          },
          "metadata": {},
          "execution_count": 53
        }
      ]
    },
    {
      "cell_type": "code",
      "metadata": {
        "colab": {
          "base_uri": "https://localhost:8080/"
        },
        "id": "bGRX5NMDk0hg",
        "outputId": "efadf594-669f-4b9a-f8ab-403215d35c2e"
      },
      "source": [
        "testing_set.shape"
      ],
      "execution_count": 54,
      "outputs": [
        {
          "output_type": "execute_result",
          "data": {
            "text/plain": [
              "(436,)"
            ]
          },
          "metadata": {},
          "execution_count": 54
        }
      ]
    },
    {
      "cell_type": "code",
      "metadata": {
        "id": "SW-Kyvqyk2YD"
      },
      "source": [
        "from sklearn.preprocessing import MinMaxScaler"
      ],
      "execution_count": 55,
      "outputs": []
    },
    {
      "cell_type": "code",
      "metadata": {
        "colab": {
          "base_uri": "https://localhost:8080/"
        },
        "id": "CuMy-UCYk4EL",
        "outputId": "d11aedac-5bfa-4bd9-976d-689b8d7e2032"
      },
      "source": [
        "type(training_set)"
      ],
      "execution_count": 56,
      "outputs": [
        {
          "output_type": "execute_result",
          "data": {
            "text/plain": [
              "numpy.ndarray"
            ]
          },
          "metadata": {},
          "execution_count": 56
        }
      ]
    },
    {
      "cell_type": "code",
      "metadata": {
        "id": "MBN6BRcek5zP"
      },
      "source": [
        "sc = MinMaxScaler(feature_range=(0,1))"
      ],
      "execution_count": 57,
      "outputs": []
    },
    {
      "cell_type": "code",
      "metadata": {
        "colab": {
          "base_uri": "https://localhost:8080/"
        },
        "id": "hOMzWEy7k7jF",
        "outputId": "578dba94-cb7c-4cbf-a26c-436b54822af6"
      },
      "source": [
        "training_set[0:5]"
      ],
      "execution_count": 58,
      "outputs": [
        {
          "output_type": "execute_result",
          "data": {
            "text/plain": [
              "array([1240.49, 1231.44, 1239.49, 1260.2 , 1264.23])"
            ]
          },
          "metadata": {},
          "execution_count": 58
        }
      ]
    },
    {
      "cell_type": "code",
      "metadata": {
        "colab": {
          "base_uri": "https://localhost:8080/"
        },
        "id": "4TJB3FGyk9Jm",
        "outputId": "7d022260-be2a-46f8-a5b2-c868e2b6ed80"
      },
      "source": [
        "training_set.reshape(-1,1)"
      ],
      "execution_count": 59,
      "outputs": [
        {
          "output_type": "execute_result",
          "data": {
            "text/plain": [
              "array([[1240.49],\n",
              "       [1231.44],\n",
              "       [1239.49],\n",
              "       ...,\n",
              "       [1593.43],\n",
              "       [1577.24],\n",
              "       [1552.94]])"
            ]
          },
          "metadata": {},
          "execution_count": 59
        }
      ]
    },
    {
      "cell_type": "code",
      "metadata": {
        "id": "qlFLK4HPk-dB"
      },
      "source": [
        "training_set_scaled = sc.fit_transform(training_set.reshape(-1,1))"
      ],
      "execution_count": 60,
      "outputs": []
    },
    {
      "cell_type": "code",
      "metadata": {
        "id": "TcOlulYJlAXO"
      },
      "source": [
        "testing_set_scaled = sc.fit_transform(testing_set.reshape(-1,1))"
      ],
      "execution_count": 61,
      "outputs": []
    },
    {
      "cell_type": "code",
      "metadata": {
        "colab": {
          "base_uri": "https://localhost:8080/"
        },
        "id": "zLIsBZSvlB5V",
        "outputId": "0ac5644a-0bac-4d18-964e-38fe084be511"
      },
      "source": [
        "type(training_set_scaled)"
      ],
      "execution_count": 62,
      "outputs": [
        {
          "output_type": "execute_result",
          "data": {
            "text/plain": [
              "numpy.ndarray"
            ]
          },
          "metadata": {},
          "execution_count": 62
        }
      ]
    },
    {
      "cell_type": "code",
      "metadata": {
        "id": "cbLrGwm8lDYe"
      },
      "source": [
        "timestep = 60\n",
        "X_train =[]\n",
        "Y_train =[]"
      ],
      "execution_count": 63,
      "outputs": []
    },
    {
      "cell_type": "code",
      "metadata": {
        "colab": {
          "base_uri": "https://localhost:8080/"
        },
        "id": "T2KDqM9ZlE2V",
        "outputId": "972fc996-fee4-4c8d-c573-23b74a51e0f3"
      },
      "source": [
        "len(training_set)"
      ],
      "execution_count": 64,
      "outputs": [
        {
          "output_type": "execute_result",
          "data": {
            "text/plain": [
              "1015"
            ]
          },
          "metadata": {},
          "execution_count": 64
        }
      ]
    },
    {
      "cell_type": "code",
      "metadata": {
        "colab": {
          "base_uri": "https://localhost:8080/"
        },
        "id": "ilmEv2jAlGb0",
        "outputId": "5b799b1e-5650-4c01-fd1f-096869abcc78"
      },
      "source": [
        "training_set_scaled.shape"
      ],
      "execution_count": 65,
      "outputs": [
        {
          "output_type": "execute_result",
          "data": {
            "text/plain": [
              "(1015, 1)"
            ]
          },
          "metadata": {},
          "execution_count": 65
        }
      ]
    },
    {
      "cell_type": "code",
      "metadata": {
        "id": "kCaRqVR7lIIy"
      },
      "source": [
        "for i in range(timestep,len(training_set)):\n",
        "    X_train.append(training_set_scaled[i-timestep:i,0]) #\n",
        "    Y_train.append(training_set_scaled[i,0])"
      ],
      "execution_count": 66,
      "outputs": []
    },
    {
      "cell_type": "code",
      "metadata": {
        "colab": {
          "base_uri": "https://localhost:8080/"
        },
        "id": "1XAFpr6slKGA",
        "outputId": "e3e4baba-6d78-4bda-c911-8f81307cfd83"
      },
      "source": [
        "training_set_scaled[60-60:60,0] #X_train =0-59  ---Y_train=60"
      ],
      "execution_count": 67,
      "outputs": [
        {
          "output_type": "execute_result",
          "data": {
            "text/plain": [
              "array([0.24030307, 0.22082311, 0.23815059, 0.28272849, 0.29140299,\n",
              "       0.30248827, 0.28623703, 0.26695079, 0.30608291, 0.26337767,\n",
              "       0.22964828, 0.22396573, 0.28283611, 0.2807482 , 0.27291317,\n",
              "       0.24798743, 0.25616686, 0.20237634, 0.18842826, 0.19970726,\n",
              "       0.24506005, 0.20870464, 0.22370743, 0.19736106, 0.18685695,\n",
              "       0.22116751, 0.20343106, 0.239808  , 0.23978647, 0.27876792,\n",
              "       0.27254725, 0.24417754, 0.21270825, 0.22872272, 0.22351371,\n",
              "       0.26249516, 0.24574885, 0.25474622, 0.22478368, 0.23576133,\n",
              "       0.24772913, 0.25179732, 0.2964398 , 0.3496922 , 0.35098368,\n",
              "       0.33839167, 0.32536915, 0.32244178, 0.33645443, 0.29179043,\n",
              "       0.29588015, 0.32069827, 0.29054199, 0.30784795, 0.31152869,\n",
              "       0.32429291, 0.27932756, 0.2721598 , 0.26307633, 0.25907271])"
            ]
          },
          "metadata": {},
          "execution_count": 67
        }
      ]
    },
    {
      "cell_type": "code",
      "metadata": {
        "colab": {
          "base_uri": "https://localhost:8080/"
        },
        "id": "aSGo-mS9lOZQ",
        "outputId": "d30099e6-fbc4-4341-e7c0-81d19d534ecf"
      },
      "source": [
        "training_set_scaled[61-60:61,0].shape #1-61 ---61"
      ],
      "execution_count": 68,
      "outputs": [
        {
          "output_type": "execute_result",
          "data": {
            "text/plain": [
              "(60,)"
            ]
          },
          "metadata": {},
          "execution_count": 68
        }
      ]
    },
    {
      "cell_type": "code",
      "metadata": {
        "colab": {
          "base_uri": "https://localhost:8080/"
        },
        "id": "8chGEAf-lQG_",
        "outputId": "2aefd83d-be13-4f8a-c41f-3190c53412fa"
      },
      "source": [
        "training_set_scaled[62-60:62,0].shape #2-62 ---62"
      ],
      "execution_count": 69,
      "outputs": [
        {
          "output_type": "execute_result",
          "data": {
            "text/plain": [
              "(60,)"
            ]
          },
          "metadata": {},
          "execution_count": 69
        }
      ]
    },
    {
      "cell_type": "code",
      "metadata": {
        "colab": {
          "base_uri": "https://localhost:8080/"
        },
        "id": "AvhY5wiKlRpg",
        "outputId": "ec09bad8-d065-4484-c7af-67b8783bdaf4"
      },
      "source": [
        "training_set_scaled[63-60:63,0].shape #3-63 ---63"
      ],
      "execution_count": 70,
      "outputs": [
        {
          "output_type": "execute_result",
          "data": {
            "text/plain": [
              "(60,)"
            ]
          },
          "metadata": {},
          "execution_count": 70
        }
      ]
    },
    {
      "cell_type": "code",
      "metadata": {
        "colab": {
          "base_uri": "https://localhost:8080/"
        },
        "id": "M5QbOy9RlTJB",
        "outputId": "06858841-30b8-4b2f-c4ab-a607b7e84f02"
      },
      "source": [
        "type(X_train)"
      ],
      "execution_count": 71,
      "outputs": [
        {
          "output_type": "execute_result",
          "data": {
            "text/plain": [
              "list"
            ]
          },
          "metadata": {},
          "execution_count": 71
        }
      ]
    },
    {
      "cell_type": "code",
      "metadata": {
        "id": "bVsPdNP-lUZM"
      },
      "source": [
        "x_train = np.array(X_train)"
      ],
      "execution_count": 72,
      "outputs": []
    },
    {
      "cell_type": "code",
      "metadata": {
        "id": "ElmkstoEv6h_"
      },
      "source": [
        "x_train = np.array(X_train)\n",
        "y_train = np.array(Y_train)"
      ],
      "execution_count": 73,
      "outputs": []
    },
    {
      "cell_type": "code",
      "metadata": {
        "colab": {
          "base_uri": "https://localhost:8080/"
        },
        "id": "jXMR-OIPv8SI",
        "outputId": "2b79851a-d350-46c8-d35d-7bb05900bc8f"
      },
      "source": [
        "y_train.shape\n",
        "\n",
        "x_train.shape"
      ],
      "execution_count": 74,
      "outputs": [
        {
          "output_type": "execute_result",
          "data": {
            "text/plain": [
              "(955, 60)"
            ]
          },
          "metadata": {},
          "execution_count": 74
        }
      ]
    },
    {
      "cell_type": "code",
      "metadata": {
        "id": "Rh8afc7Xv-B2"
      },
      "source": [
        "X_train = np.reshape(x_train,(x_train.shape[0], x_train.shape[1],1))"
      ],
      "execution_count": 75,
      "outputs": []
    },
    {
      "cell_type": "code",
      "metadata": {
        "colab": {
          "base_uri": "https://localhost:8080/"
        },
        "id": "HcKKFWSDwARE",
        "outputId": "4638e7b2-f567-4919-e92d-7fd7c80bfd16"
      },
      "source": [
        "X_train.shape"
      ],
      "execution_count": 76,
      "outputs": [
        {
          "output_type": "execute_result",
          "data": {
            "text/plain": [
              "(955, 60, 1)"
            ]
          },
          "metadata": {},
          "execution_count": 76
        }
      ]
    },
    {
      "cell_type": "code",
      "metadata": {
        "id": "3p_7Dz7SwBuA"
      },
      "source": [
        "Y_train = np.reshape(y_train,(y_train.shape[0],1))"
      ],
      "execution_count": 77,
      "outputs": []
    },
    {
      "cell_type": "code",
      "metadata": {
        "colab": {
          "base_uri": "https://localhost:8080/"
        },
        "id": "XwPbBlamwE0M",
        "outputId": "f2f60719-2da8-4268-9c3b-0f71c8d1ae21"
      },
      "source": [
        "Y_train.shape"
      ],
      "execution_count": 78,
      "outputs": [
        {
          "output_type": "execute_result",
          "data": {
            "text/plain": [
              "(955, 1)"
            ]
          },
          "metadata": {},
          "execution_count": 78
        }
      ]
    },
    {
      "cell_type": "code",
      "metadata": {
        "id": "R2ZqY03KwGZe"
      },
      "source": [
        "X_test = []\n",
        "Y_test =[]"
      ],
      "execution_count": 82,
      "outputs": []
    },
    {
      "cell_type": "code",
      "metadata": {
        "id": "Nwyvg7TPwIMr"
      },
      "source": [
        "for i in range(timestep,len(testing_set)):\n",
        "    X_test.append(testing_set_scaled[i-timestep:i,0])\n",
        "    Y_test.append(testing_set_scaled[i,0])\n"
      ],
      "execution_count": 83,
      "outputs": []
    },
    {
      "cell_type": "code",
      "metadata": {
        "id": "ummF0gZuw_jp"
      },
      "source": [
        "x_test = np.array(X_test)\n",
        "y_test = np.array(Y_test)"
      ],
      "execution_count": 85,
      "outputs": []
    },
    {
      "cell_type": "code",
      "metadata": {
        "id": "StvvjfySwgaz"
      },
      "source": [
        "X_test = np.reshape(x_test,(x_test.shape[0], x_test.shape[1],1))"
      ],
      "execution_count": 86,
      "outputs": []
    },
    {
      "cell_type": "code",
      "metadata": {
        "id": "K_E7TmHgwsNw"
      },
      "source": [
        "Y_test = np.reshape(y_test,(y_test.shape[0],1))"
      ],
      "execution_count": 87,
      "outputs": []
    },
    {
      "cell_type": "code",
      "metadata": {
        "colab": {
          "base_uri": "https://localhost:8080/"
        },
        "id": "N-NJsO6zxEAV",
        "outputId": "8fe1b93a-592d-4c7b-ce79-97156a81ed53"
      },
      "source": [
        "#modeling\n",
        "X_train\n",
        "Y_train\n",
        "#testing\n",
        "X_test\n",
        "Y_test"
      ],
      "execution_count": 88,
      "outputs": [
        {
          "output_type": "execute_result",
          "data": {
            "text/plain": [
              "array([[0.36633879],\n",
              "       [0.3914149 ],\n",
              "       [0.38999297],\n",
              "       [0.39830707],\n",
              "       [0.36098565],\n",
              "       [0.41684232],\n",
              "       [0.39159892],\n",
              "       [0.38361939],\n",
              "       [0.39198367],\n",
              "       [0.41583024],\n",
              "       [0.43910803],\n",
              "       [0.46548898],\n",
              "       [0.44263776],\n",
              "       [0.46500385],\n",
              "       [0.46836629],\n",
              "       [0.43390545],\n",
              "       [0.44457827],\n",
              "       [0.43644819],\n",
              "       [0.40618622],\n",
              "       [0.40708956],\n",
              "       [0.42007093],\n",
              "       [0.44924554],\n",
              "       [0.45339423],\n",
              "       [0.43470842],\n",
              "       [0.38890562],\n",
              "       [0.4137308 ],\n",
              "       [0.3618388 ],\n",
              "       [0.38512496],\n",
              "       [0.41145572],\n",
              "       [0.45167118],\n",
              "       [0.43470006],\n",
              "       [0.44407642],\n",
              "       [0.43027535],\n",
              "       [0.43213222],\n",
              "       [0.43224932],\n",
              "       [0.42534043],\n",
              "       [0.47189602],\n",
              "       [0.47995918],\n",
              "       [0.50217471],\n",
              "       [0.49088293],\n",
              "       [0.49747399],\n",
              "       [0.51480478],\n",
              "       [0.51007059],\n",
              "       [0.5265315 ],\n",
              "       [0.50448325],\n",
              "       [0.51552411],\n",
              "       [0.51610124],\n",
              "       [0.53006123],\n",
              "       [0.54806116],\n",
              "       [0.57156479],\n",
              "       [0.55953695],\n",
              "       [0.55378233],\n",
              "       [0.56069122],\n",
              "       [0.57005922],\n",
              "       [0.57285289],\n",
              "       [0.55170799],\n",
              "       [0.57072836],\n",
              "       [0.58600154],\n",
              "       [0.62499582],\n",
              "       [0.67692128],\n",
              "       [0.70167955],\n",
              "       [0.72580213],\n",
              "       [0.79378701],\n",
              "       [0.81859547],\n",
              "       [0.84153033],\n",
              "       [0.81879621],\n",
              "       [0.85593362],\n",
              "       [0.85176821],\n",
              "       [0.92242966],\n",
              "       [0.95805313],\n",
              "       [1.        ],\n",
              "       [0.94551507],\n",
              "       [0.93745191],\n",
              "       [0.74273144],\n",
              "       [0.74811804],\n",
              "       [0.81185386],\n",
              "       [0.80156579],\n",
              "       [0.86530162],\n",
              "       [0.89450969],\n",
              "       [0.77212352],\n",
              "       [0.80201746],\n",
              "       [0.79259928],\n",
              "       [0.77057613],\n",
              "       [0.77518485],\n",
              "       [0.81573489],\n",
              "       [0.77274248],\n",
              "       [0.83231289],\n",
              "       [0.83584262],\n",
              "       [0.83960654],\n",
              "       [0.7945147 ],\n",
              "       [0.77568671],\n",
              "       [0.77570344],\n",
              "       [0.77264211],\n",
              "       [0.77638931],\n",
              "       [0.79999331],\n",
              "       [0.79847101],\n",
              "       [0.78978889],\n",
              "       [0.81924788],\n",
              "       [0.81267356],\n",
              "       [0.82222557],\n",
              "       [0.79410485],\n",
              "       [0.80589849],\n",
              "       [0.74413664],\n",
              "       [0.72305865],\n",
              "       [0.6610626 ],\n",
              "       [0.66992874],\n",
              "       [0.65500686],\n",
              "       [0.69180133],\n",
              "       [0.72064974],\n",
              "       [0.69977249],\n",
              "       [0.73219245],\n",
              "       [0.72724079],\n",
              "       [0.74474723],\n",
              "       [0.68777811],\n",
              "       [0.70226505],\n",
              "       [0.71308843],\n",
              "       [0.77071832],\n",
              "       [0.76076483],\n",
              "       [0.70952524],\n",
              "       [0.72637091],\n",
              "       [0.73777142],\n",
              "       [0.72254006],\n",
              "       [0.73005119],\n",
              "       [0.7377296 ],\n",
              "       [0.76342467],\n",
              "       [0.72983372],\n",
              "       [0.71193416],\n",
              "       [0.72710696],\n",
              "       [0.73078725],\n",
              "       [0.68593797],\n",
              "       [0.66711834],\n",
              "       [0.68448259],\n",
              "       [0.71566463],\n",
              "       [0.73732811],\n",
              "       [0.72796012],\n",
              "       [0.80452675],\n",
              "       [0.81377764],\n",
              "       [0.66382281],\n",
              "       [0.68468333],\n",
              "       [0.6656295 ],\n",
              "       [0.68411456],\n",
              "       [0.70574459],\n",
              "       [0.70443976],\n",
              "       [0.69073907],\n",
              "       [0.67745659],\n",
              "       [0.6661899 ],\n",
              "       [0.67280605],\n",
              "       [0.61915755],\n",
              "       [0.56875439],\n",
              "       [0.56842818],\n",
              "       [0.57404062],\n",
              "       [0.53809094],\n",
              "       [0.51726388],\n",
              "       [0.58112516],\n",
              "       [0.60662786],\n",
              "       [0.62474489],\n",
              "       [0.62049583],\n",
              "       [0.65979123],\n",
              "       [0.67414433],\n",
              "       [0.62213523],\n",
              "       [0.61802001],\n",
              "       [0.62484526],\n",
              "       [0.60197732],\n",
              "       [0.64496972],\n",
              "       [0.66337114],\n",
              "       [0.69915353],\n",
              "       [0.69641005],\n",
              "       [0.68495099],\n",
              "       [0.6575496 ],\n",
              "       [0.67794172],\n",
              "       [0.69467028],\n",
              "       [0.67785807],\n",
              "       [0.6864231 ],\n",
              "       [0.71327244],\n",
              "       [0.72861253],\n",
              "       [0.79370337],\n",
              "       [0.80735388],\n",
              "       [0.75534478],\n",
              "       [0.74743217],\n",
              "       [0.63782663],\n",
              "       [0.62936197],\n",
              "       [0.64819833],\n",
              "       [0.6312523 ],\n",
              "       [0.63419653],\n",
              "       [0.60271337],\n",
              "       [0.61920774],\n",
              "       [0.6232895 ],\n",
              "       [0.67469638],\n",
              "       [0.67273077],\n",
              "       [0.64766302],\n",
              "       [0.64953662],\n",
              "       [0.64120579],\n",
              "       [0.62981364],\n",
              "       [0.62740473],\n",
              "       [0.66037673],\n",
              "       [0.6566128 ],\n",
              "       [0.61912409],\n",
              "       [0.61234902],\n",
              "       [0.54530095],\n",
              "       [0.58106661],\n",
              "       [0.60619291],\n",
              "       [0.61887316],\n",
              "       [0.62800696],\n",
              "       [0.59918365],\n",
              "       [0.59823012],\n",
              "       [0.58754893],\n",
              "       [0.54595336],\n",
              "       [0.51815049],\n",
              "       [0.51641072],\n",
              "       [0.52566161],\n",
              "       [0.57199973],\n",
              "       [0.56579344],\n",
              "       [0.56425441],\n",
              "       [0.50839774],\n",
              "       [0.44477902],\n",
              "       [0.42995751],\n",
              "       [0.45213958],\n",
              "       [0.40657098],\n",
              "       [0.38438891],\n",
              "       [0.39414166],\n",
              "       [0.36056743],\n",
              "       [0.41515273],\n",
              "       [0.43296865],\n",
              "       [0.42557463],\n",
              "       [0.43485898],\n",
              "       [0.4396768 ],\n",
              "       [0.44165077],\n",
              "       [0.46766369],\n",
              "       [0.44685336],\n",
              "       [0.45207267],\n",
              "       [0.45453177],\n",
              "       [0.43340359],\n",
              "       [0.44538124],\n",
              "       [0.43497608],\n",
              "       [0.44123256],\n",
              "       [0.40889625],\n",
              "       [0.36410552],\n",
              "       [0.40158587],\n",
              "       [0.43604671],\n",
              "       [0.43604671],\n",
              "       [0.46021948],\n",
              "       [0.45160427],\n",
              "       [0.48129747],\n",
              "       [0.46013584],\n",
              "       [0.44290542],\n",
              "       [0.4645689 ],\n",
              "       [0.44914517],\n",
              "       [0.4948476 ],\n",
              "       [0.51784938],\n",
              "       [0.50672488],\n",
              "       [0.51987353],\n",
              "       [0.5454515 ],\n",
              "       [0.52944227],\n",
              "       [0.51542373],\n",
              "       [0.52413932],\n",
              "       [0.51651109],\n",
              "       [0.52587909],\n",
              "       [0.51012078],\n",
              "       [0.50607247],\n",
              "       [0.5454766 ],\n",
              "       [0.52037539],\n",
              "       [0.53412627],\n",
              "       [0.58071531],\n",
              "       [0.61032487],\n",
              "       [0.61589548],\n",
              "       [0.61823748],\n",
              "       [0.58212051],\n",
              "       [0.5998026 ],\n",
              "       [0.62641775],\n",
              "       [0.6653953 ],\n",
              "       [0.67193616],\n",
              "       [0.67210345],\n",
              "       [0.68538593],\n",
              "       [0.69264612],\n",
              "       [0.69117401],\n",
              "       [0.72125197],\n",
              "       [0.71678544],\n",
              "       [0.71864231],\n",
              "       [0.72869618],\n",
              "       [0.7351534 ],\n",
              "       [0.72289136],\n",
              "       [0.7360902 ],\n",
              "       [0.6742698 ],\n",
              "       [0.70882264],\n",
              "       [0.72110141],\n",
              "       [0.70962561],\n",
              "       [0.70410519],\n",
              "       [0.72016461],\n",
              "       [0.68567031],\n",
              "       [0.6666834 ],\n",
              "       [0.65482284],\n",
              "       [0.57544582],\n",
              "       [0.51040517],\n",
              "       [0.49642009],\n",
              "       [0.52708354],\n",
              "       [0.52035866],\n",
              "       [0.5195055 ],\n",
              "       [0.51452039],\n",
              "       [0.52388839],\n",
              "       [0.51913748],\n",
              "       [0.49143498],\n",
              "       [0.50535314],\n",
              "       [0.51709659],\n",
              "       [0.53454448],\n",
              "       [0.54227308],\n",
              "       [0.55040316],\n",
              "       [0.56212988],\n",
              "       [0.56042357],\n",
              "       [0.56890495],\n",
              "       [0.56612801],\n",
              "       [0.56928971],\n",
              "       [0.6013249 ],\n",
              "       [0.6047208 ],\n",
              "       [0.57447556],\n",
              "       [0.57681756],\n",
              "       [0.57335475],\n",
              "       [0.56184549],\n",
              "       [0.56757503],\n",
              "       [0.55943658],\n",
              "       [0.55135669],\n",
              "       [0.55384924],\n",
              "       [0.56783432],\n",
              "       [0.6028472 ],\n",
              "       [0.5792432 ],\n",
              "       [0.57797183],\n",
              "       [0.5733882 ],\n",
              "       [0.57551273],\n",
              "       [0.56310014],\n",
              "       [0.49447957],\n",
              "       [0.43882365],\n",
              "       [0.43721771],\n",
              "       [0.4738198 ],\n",
              "       [0.47632908],\n",
              "       [0.53708722],\n",
              "       [0.5347285 ],\n",
              "       [0.53247014],\n",
              "       [0.53474522],\n",
              "       [0.52256683],\n",
              "       [0.53365787],\n",
              "       [0.56435478],\n",
              "       [0.56062431],\n",
              "       [0.54036602],\n",
              "       [0.54371173],\n",
              "       [0.58628592],\n",
              "       [0.57234267],\n",
              "       [0.57906755],\n",
              "       [0.5786577 ],\n",
              "       [0.5710462 ],\n",
              "       [0.60626819],\n",
              "       [0.59446619],\n",
              "       [0.5461541 ],\n",
              "       [0.53732142],\n",
              "       [0.54645522],\n",
              "       [0.53524708],\n",
              "       [0.54461508],\n",
              "       [0.56304159],\n",
              "       [0.546037  ],\n",
              "       [0.47886346],\n",
              "       [0.47937368],\n",
              "       [0.49626953],\n",
              "       [0.51224531],\n",
              "       [0.5030446 ],\n",
              "       [0.46063769],\n",
              "       [0.47474824],\n",
              "       [0.47226404],\n",
              "       [0.4454147 ],\n",
              "       [0.43191475],\n",
              "       [0.48322125],\n",
              "       [0.48870822],\n",
              "       [0.50434106],\n",
              "       [0.48862458],\n",
              "       [0.49371006],\n",
              "       [0.48203352],\n",
              "       [0.48450099],\n",
              "       [0.47866272],\n",
              "       [0.48880859]])"
            ]
          },
          "metadata": {},
          "execution_count": 88
        }
      ]
    },
    {
      "cell_type": "code",
      "metadata": {
        "colab": {
          "base_uri": "https://localhost:8080/"
        },
        "id": "adNYsvbaxGmR",
        "outputId": "c95b5b75-5feb-4637-cd8a-282d01bb7541"
      },
      "source": [
        "x_train = torch.from_numpy(X_train).type(torch.Tensor)\n",
        "\n",
        "x_train.shape"
      ],
      "execution_count": 89,
      "outputs": [
        {
          "output_type": "execute_result",
          "data": {
            "text/plain": [
              "torch.Size([955, 60, 1])"
            ]
          },
          "metadata": {},
          "execution_count": 89
        }
      ]
    },
    {
      "cell_type": "code",
      "metadata": {
        "colab": {
          "base_uri": "https://localhost:8080/"
        },
        "id": "WU4kkoxbxIrk",
        "outputId": "01c2cd0a-a187-4c3e-b391-025199564373"
      },
      "source": [
        "type(x_train)"
      ],
      "execution_count": 90,
      "outputs": [
        {
          "output_type": "execute_result",
          "data": {
            "text/plain": [
              "torch.Tensor"
            ]
          },
          "metadata": {},
          "execution_count": 90
        }
      ]
    },
    {
      "cell_type": "code",
      "metadata": {
        "id": "8JGRcOw-xKE-"
      },
      "source": [
        "y_train = torch.from_numpy(Y_train).type(torch.Tensor)"
      ],
      "execution_count": 91,
      "outputs": []
    },
    {
      "cell_type": "code",
      "metadata": {
        "id": "WWG8J98DxMHN"
      },
      "source": [
        "x_test = torch.from_numpy(X_test).type(torch.Tensor)"
      ],
      "execution_count": 92,
      "outputs": []
    },
    {
      "cell_type": "code",
      "metadata": {
        "id": "5LBANe4rxNrd"
      },
      "source": [
        "y_test = torch.from_numpy(Y_test).type(torch.Tensor)"
      ],
      "execution_count": 93,
      "outputs": []
    },
    {
      "cell_type": "code",
      "metadata": {
        "colab": {
          "base_uri": "https://localhost:8080/"
        },
        "id": "nQ3jqugxxSPm",
        "outputId": "7b62e7ea-8b31-42c2-a203-d352e1c295d5"
      },
      "source": [
        "x_train\n",
        "y_train\n",
        "x_test\n",
        "y_test"
      ],
      "execution_count": 94,
      "outputs": [
        {
          "output_type": "execute_result",
          "data": {
            "text/plain": [
              "tensor([[0.3663],\n",
              "        [0.3914],\n",
              "        [0.3900],\n",
              "        [0.3983],\n",
              "        [0.3610],\n",
              "        [0.4168],\n",
              "        [0.3916],\n",
              "        [0.3836],\n",
              "        [0.3920],\n",
              "        [0.4158],\n",
              "        [0.4391],\n",
              "        [0.4655],\n",
              "        [0.4426],\n",
              "        [0.4650],\n",
              "        [0.4684],\n",
              "        [0.4339],\n",
              "        [0.4446],\n",
              "        [0.4364],\n",
              "        [0.4062],\n",
              "        [0.4071],\n",
              "        [0.4201],\n",
              "        [0.4492],\n",
              "        [0.4534],\n",
              "        [0.4347],\n",
              "        [0.3889],\n",
              "        [0.4137],\n",
              "        [0.3618],\n",
              "        [0.3851],\n",
              "        [0.4115],\n",
              "        [0.4517],\n",
              "        [0.4347],\n",
              "        [0.4441],\n",
              "        [0.4303],\n",
              "        [0.4321],\n",
              "        [0.4322],\n",
              "        [0.4253],\n",
              "        [0.4719],\n",
              "        [0.4800],\n",
              "        [0.5022],\n",
              "        [0.4909],\n",
              "        [0.4975],\n",
              "        [0.5148],\n",
              "        [0.5101],\n",
              "        [0.5265],\n",
              "        [0.5045],\n",
              "        [0.5155],\n",
              "        [0.5161],\n",
              "        [0.5301],\n",
              "        [0.5481],\n",
              "        [0.5716],\n",
              "        [0.5595],\n",
              "        [0.5538],\n",
              "        [0.5607],\n",
              "        [0.5701],\n",
              "        [0.5729],\n",
              "        [0.5517],\n",
              "        [0.5707],\n",
              "        [0.5860],\n",
              "        [0.6250],\n",
              "        [0.6769],\n",
              "        [0.7017],\n",
              "        [0.7258],\n",
              "        [0.7938],\n",
              "        [0.8186],\n",
              "        [0.8415],\n",
              "        [0.8188],\n",
              "        [0.8559],\n",
              "        [0.8518],\n",
              "        [0.9224],\n",
              "        [0.9581],\n",
              "        [1.0000],\n",
              "        [0.9455],\n",
              "        [0.9375],\n",
              "        [0.7427],\n",
              "        [0.7481],\n",
              "        [0.8119],\n",
              "        [0.8016],\n",
              "        [0.8653],\n",
              "        [0.8945],\n",
              "        [0.7721],\n",
              "        [0.8020],\n",
              "        [0.7926],\n",
              "        [0.7706],\n",
              "        [0.7752],\n",
              "        [0.8157],\n",
              "        [0.7727],\n",
              "        [0.8323],\n",
              "        [0.8358],\n",
              "        [0.8396],\n",
              "        [0.7945],\n",
              "        [0.7757],\n",
              "        [0.7757],\n",
              "        [0.7726],\n",
              "        [0.7764],\n",
              "        [0.8000],\n",
              "        [0.7985],\n",
              "        [0.7898],\n",
              "        [0.8192],\n",
              "        [0.8127],\n",
              "        [0.8222],\n",
              "        [0.7941],\n",
              "        [0.8059],\n",
              "        [0.7441],\n",
              "        [0.7231],\n",
              "        [0.6611],\n",
              "        [0.6699],\n",
              "        [0.6550],\n",
              "        [0.6918],\n",
              "        [0.7206],\n",
              "        [0.6998],\n",
              "        [0.7322],\n",
              "        [0.7272],\n",
              "        [0.7447],\n",
              "        [0.6878],\n",
              "        [0.7023],\n",
              "        [0.7131],\n",
              "        [0.7707],\n",
              "        [0.7608],\n",
              "        [0.7095],\n",
              "        [0.7264],\n",
              "        [0.7378],\n",
              "        [0.7225],\n",
              "        [0.7301],\n",
              "        [0.7377],\n",
              "        [0.7634],\n",
              "        [0.7298],\n",
              "        [0.7119],\n",
              "        [0.7271],\n",
              "        [0.7308],\n",
              "        [0.6859],\n",
              "        [0.6671],\n",
              "        [0.6845],\n",
              "        [0.7157],\n",
              "        [0.7373],\n",
              "        [0.7280],\n",
              "        [0.8045],\n",
              "        [0.8138],\n",
              "        [0.6638],\n",
              "        [0.6847],\n",
              "        [0.6656],\n",
              "        [0.6841],\n",
              "        [0.7057],\n",
              "        [0.7044],\n",
              "        [0.6907],\n",
              "        [0.6775],\n",
              "        [0.6662],\n",
              "        [0.6728],\n",
              "        [0.6192],\n",
              "        [0.5688],\n",
              "        [0.5684],\n",
              "        [0.5740],\n",
              "        [0.5381],\n",
              "        [0.5173],\n",
              "        [0.5811],\n",
              "        [0.6066],\n",
              "        [0.6247],\n",
              "        [0.6205],\n",
              "        [0.6598],\n",
              "        [0.6741],\n",
              "        [0.6221],\n",
              "        [0.6180],\n",
              "        [0.6248],\n",
              "        [0.6020],\n",
              "        [0.6450],\n",
              "        [0.6634],\n",
              "        [0.6992],\n",
              "        [0.6964],\n",
              "        [0.6850],\n",
              "        [0.6575],\n",
              "        [0.6779],\n",
              "        [0.6947],\n",
              "        [0.6779],\n",
              "        [0.6864],\n",
              "        [0.7133],\n",
              "        [0.7286],\n",
              "        [0.7937],\n",
              "        [0.8074],\n",
              "        [0.7553],\n",
              "        [0.7474],\n",
              "        [0.6378],\n",
              "        [0.6294],\n",
              "        [0.6482],\n",
              "        [0.6313],\n",
              "        [0.6342],\n",
              "        [0.6027],\n",
              "        [0.6192],\n",
              "        [0.6233],\n",
              "        [0.6747],\n",
              "        [0.6727],\n",
              "        [0.6477],\n",
              "        [0.6495],\n",
              "        [0.6412],\n",
              "        [0.6298],\n",
              "        [0.6274],\n",
              "        [0.6604],\n",
              "        [0.6566],\n",
              "        [0.6191],\n",
              "        [0.6123],\n",
              "        [0.5453],\n",
              "        [0.5811],\n",
              "        [0.6062],\n",
              "        [0.6189],\n",
              "        [0.6280],\n",
              "        [0.5992],\n",
              "        [0.5982],\n",
              "        [0.5875],\n",
              "        [0.5460],\n",
              "        [0.5182],\n",
              "        [0.5164],\n",
              "        [0.5257],\n",
              "        [0.5720],\n",
              "        [0.5658],\n",
              "        [0.5643],\n",
              "        [0.5084],\n",
              "        [0.4448],\n",
              "        [0.4300],\n",
              "        [0.4521],\n",
              "        [0.4066],\n",
              "        [0.3844],\n",
              "        [0.3941],\n",
              "        [0.3606],\n",
              "        [0.4152],\n",
              "        [0.4330],\n",
              "        [0.4256],\n",
              "        [0.4349],\n",
              "        [0.4397],\n",
              "        [0.4417],\n",
              "        [0.4677],\n",
              "        [0.4469],\n",
              "        [0.4521],\n",
              "        [0.4545],\n",
              "        [0.4334],\n",
              "        [0.4454],\n",
              "        [0.4350],\n",
              "        [0.4412],\n",
              "        [0.4089],\n",
              "        [0.3641],\n",
              "        [0.4016],\n",
              "        [0.4360],\n",
              "        [0.4360],\n",
              "        [0.4602],\n",
              "        [0.4516],\n",
              "        [0.4813],\n",
              "        [0.4601],\n",
              "        [0.4429],\n",
              "        [0.4646],\n",
              "        [0.4491],\n",
              "        [0.4948],\n",
              "        [0.5178],\n",
              "        [0.5067],\n",
              "        [0.5199],\n",
              "        [0.5455],\n",
              "        [0.5294],\n",
              "        [0.5154],\n",
              "        [0.5241],\n",
              "        [0.5165],\n",
              "        [0.5259],\n",
              "        [0.5101],\n",
              "        [0.5061],\n",
              "        [0.5455],\n",
              "        [0.5204],\n",
              "        [0.5341],\n",
              "        [0.5807],\n",
              "        [0.6103],\n",
              "        [0.6159],\n",
              "        [0.6182],\n",
              "        [0.5821],\n",
              "        [0.5998],\n",
              "        [0.6264],\n",
              "        [0.6654],\n",
              "        [0.6719],\n",
              "        [0.6721],\n",
              "        [0.6854],\n",
              "        [0.6926],\n",
              "        [0.6912],\n",
              "        [0.7213],\n",
              "        [0.7168],\n",
              "        [0.7186],\n",
              "        [0.7287],\n",
              "        [0.7352],\n",
              "        [0.7229],\n",
              "        [0.7361],\n",
              "        [0.6743],\n",
              "        [0.7088],\n",
              "        [0.7211],\n",
              "        [0.7096],\n",
              "        [0.7041],\n",
              "        [0.7202],\n",
              "        [0.6857],\n",
              "        [0.6667],\n",
              "        [0.6548],\n",
              "        [0.5754],\n",
              "        [0.5104],\n",
              "        [0.4964],\n",
              "        [0.5271],\n",
              "        [0.5204],\n",
              "        [0.5195],\n",
              "        [0.5145],\n",
              "        [0.5239],\n",
              "        [0.5191],\n",
              "        [0.4914],\n",
              "        [0.5054],\n",
              "        [0.5171],\n",
              "        [0.5345],\n",
              "        [0.5423],\n",
              "        [0.5504],\n",
              "        [0.5621],\n",
              "        [0.5604],\n",
              "        [0.5689],\n",
              "        [0.5661],\n",
              "        [0.5693],\n",
              "        [0.6013],\n",
              "        [0.6047],\n",
              "        [0.5745],\n",
              "        [0.5768],\n",
              "        [0.5734],\n",
              "        [0.5618],\n",
              "        [0.5676],\n",
              "        [0.5594],\n",
              "        [0.5514],\n",
              "        [0.5538],\n",
              "        [0.5678],\n",
              "        [0.6028],\n",
              "        [0.5792],\n",
              "        [0.5780],\n",
              "        [0.5734],\n",
              "        [0.5755],\n",
              "        [0.5631],\n",
              "        [0.4945],\n",
              "        [0.4388],\n",
              "        [0.4372],\n",
              "        [0.4738],\n",
              "        [0.4763],\n",
              "        [0.5371],\n",
              "        [0.5347],\n",
              "        [0.5325],\n",
              "        [0.5347],\n",
              "        [0.5226],\n",
              "        [0.5337],\n",
              "        [0.5644],\n",
              "        [0.5606],\n",
              "        [0.5404],\n",
              "        [0.5437],\n",
              "        [0.5863],\n",
              "        [0.5723],\n",
              "        [0.5791],\n",
              "        [0.5787],\n",
              "        [0.5710],\n",
              "        [0.6063],\n",
              "        [0.5945],\n",
              "        [0.5462],\n",
              "        [0.5373],\n",
              "        [0.5465],\n",
              "        [0.5352],\n",
              "        [0.5446],\n",
              "        [0.5630],\n",
              "        [0.5460],\n",
              "        [0.4789],\n",
              "        [0.4794],\n",
              "        [0.4963],\n",
              "        [0.5122],\n",
              "        [0.5030],\n",
              "        [0.4606],\n",
              "        [0.4747],\n",
              "        [0.4723],\n",
              "        [0.4454],\n",
              "        [0.4319],\n",
              "        [0.4832],\n",
              "        [0.4887],\n",
              "        [0.5043],\n",
              "        [0.4886],\n",
              "        [0.4937],\n",
              "        [0.4820],\n",
              "        [0.4845],\n",
              "        [0.4787],\n",
              "        [0.4888]])"
            ]
          },
          "metadata": {},
          "execution_count": 94
        }
      ]
    },
    {
      "cell_type": "code",
      "metadata": {
        "id": "BOL3wXapxUR5"
      },
      "source": [
        "x_train[5].shape\n",
        "\n",
        "input_dim = 1 #  60 lstm  1 day\n",
        "hidden_dim = 32\n",
        "num_layers = 2\n",
        "output_dim = 1 # 60 lstm 1 day"
      ],
      "execution_count": 95,
      "outputs": []
    },
    {
      "cell_type": "code",
      "metadata": {
        "id": "svhHjOU8xWap"
      },
      "source": [
        "class MyLSTM(torch.nn.Module):\n",
        "\n",
        "    def __init__(self, input_dim, hidden_dim, num_layers,output_dim):\n",
        "        super(MyLSTM,self).__init__()\n",
        "\n",
        "        self.hidden_dim = hidden_dim\n",
        "        self.num_layers = num_layers\n",
        "\n",
        "        self.lstm = torch.nn.LSTM(input_dim, hidden_dim,num_layers, batch_first = True) #1 -- 32\n",
        "\n",
        "        self.fc = torch.nn.Linear(hidden_dim, output_dim) #32 --- 1\n",
        "        self.sf = torch.nn.Sigmoid() #0,1\n",
        "\n",
        "    def forward(self, x):\n",
        "        h0 = torch.zeros(self.num_layers, x.size(0), self.hidden_dim).requires_grad_()   \n",
        "        c0 = torch.zeros(self.num_layers, x.size(0), self.hidden_dim).requires_grad_()\n",
        "        out, (hn, cn) = self.lstm (x, (h0.detach(),c0.detach()))\n",
        "        out = self.fc(out[:,-1,:]) # black hidd feature\n",
        "        out = self.sf(out)\n",
        "\n",
        "        return out"
      ],
      "execution_count": 96,
      "outputs": []
    },
    {
      "cell_type": "code",
      "metadata": {
        "id": "icsoD15pxbJT"
      },
      "source": [
        "model = MyLSTM(input_dim=input_dim, hidden_dim=hidden_dim, output_dim=output_dim, num_layers=num_layers)"
      ],
      "execution_count": 97,
      "outputs": []
    },
    {
      "cell_type": "code",
      "metadata": {
        "colab": {
          "base_uri": "https://localhost:8080/"
        },
        "id": "AJYrqspXxdyf",
        "outputId": "f4dfbed2-6c09-4dab-eb32-902955473ef4"
      },
      "source": [
        "model"
      ],
      "execution_count": 98,
      "outputs": [
        {
          "output_type": "execute_result",
          "data": {
            "text/plain": [
              "MyLSTM(\n",
              "  (lstm): LSTM(1, 32, num_layers=2, batch_first=True)\n",
              "  (fc): Linear(in_features=32, out_features=1, bias=True)\n",
              "  (sf): Sigmoid()\n",
              ")"
            ]
          },
          "metadata": {},
          "execution_count": 98
        }
      ]
    },
    {
      "cell_type": "code",
      "metadata": {
        "id": "DWmy1s9txmTQ"
      },
      "source": [
        "#loss_fn = torch.nn.MSELoss() #l2score l1score #smooth MSE #huber\n",
        "\n",
        "loss_fn = torch.nn.L1Loss() # best 1\n",
        "\n",
        "# loss_fn = torch.nn.SmoothL1Loss()\n",
        "\n",
        "# loss_fn = torch.nn.HuberLoss() # best 2\n",
        "\n",
        "optimizer = torch.optim.Adam(model.parameters(), lr=0.01)\n",
        "\n",
        "# optimizer = torch.optim.SGD(model.parameters(), lr=0.01)\n",
        "\n",
        "# optimizer = torch.optim.Adagrad(model.parameters(), lr=0.01)\n",
        "\n",
        "# optimizer = torch.optim.RMSprop(model.parameters(), lr=0.01)\n",
        "\n",
        "#train model"
      ],
      "execution_count": 100,
      "outputs": []
    },
    {
      "cell_type": "code",
      "metadata": {
        "id": "kchP1nFWxt44"
      },
      "source": [
        "num_epoch = 100\n",
        "listLoss = np.zeros(num_epoch)"
      ],
      "execution_count": 101,
      "outputs": []
    },
    {
      "cell_type": "code",
      "metadata": {
        "colab": {
          "base_uri": "https://localhost:8080/"
        },
        "id": "kYx7nBZCx04S",
        "outputId": "97d0e3d5-872f-47a9-9008-5b18269485d9"
      },
      "source": [
        "for t in range(num_epoch):\n",
        "\n",
        "    y_train_pred = model(x_train) # forward(self,x) inputs\n",
        "    loss = loss_fn(y_train_pred , y_train) #loss\n",
        "    listLoss[t] = loss.item() #save loss in list\n",
        "    print(\"epoch:\",t,  \"loss\", loss.item()) #print lossepoch\n",
        "    optimizer.zero_grad() #\n",
        "    loss.backward() #\n",
        "    optimizer.step() # update\n"
      ],
      "execution_count": 102,
      "outputs": [
        {
          "output_type": "stream",
          "name": "stdout",
          "text": [
            "epoch: 0 loss 0.2142752856016159\n",
            "epoch: 1 loss 0.18989789485931396\n",
            "epoch: 2 loss 0.1641932725906372\n",
            "epoch: 3 loss 0.15080110728740692\n",
            "epoch: 4 loss 0.1626386195421219\n",
            "epoch: 5 loss 0.15210124850273132\n",
            "epoch: 6 loss 0.1468985676765442\n",
            "epoch: 7 loss 0.14880767464637756\n",
            "epoch: 8 loss 0.14977283775806427\n",
            "epoch: 9 loss 0.1488407850265503\n",
            "epoch: 10 loss 0.14630676805973053\n",
            "epoch: 11 loss 0.14275367558002472\n",
            "epoch: 12 loss 0.1393394023180008\n",
            "epoch: 13 loss 0.1375652551651001\n",
            "epoch: 14 loss 0.1341451108455658\n",
            "epoch: 15 loss 0.12470818310976028\n",
            "epoch: 16 loss 0.11086767911911011\n",
            "epoch: 17 loss 0.1104072853922844\n",
            "epoch: 18 loss 0.080800861120224\n",
            "epoch: 19 loss 0.1005273386836052\n",
            "epoch: 20 loss 0.07577980309724808\n",
            "epoch: 21 loss 0.10262500494718552\n",
            "epoch: 22 loss 0.06253624707460403\n",
            "epoch: 23 loss 0.07217670977115631\n",
            "epoch: 24 loss 0.0734931230545044\n",
            "epoch: 25 loss 0.059503551572561264\n",
            "epoch: 26 loss 0.05374950170516968\n",
            "epoch: 27 loss 0.06378913670778275\n",
            "epoch: 28 loss 0.054609205573797226\n",
            "epoch: 29 loss 0.052660733461380005\n",
            "epoch: 30 loss 0.05730174854397774\n",
            "epoch: 31 loss 0.0534193255007267\n",
            "epoch: 32 loss 0.04337393492460251\n",
            "epoch: 33 loss 0.04603755846619606\n",
            "epoch: 34 loss 0.046907857060432434\n",
            "epoch: 35 loss 0.037960320711135864\n",
            "epoch: 36 loss 0.041718848049640656\n",
            "epoch: 37 loss 0.040177006274461746\n",
            "epoch: 38 loss 0.03785879164934158\n",
            "epoch: 39 loss 0.041038669645786285\n",
            "epoch: 40 loss 0.034387871623039246\n",
            "epoch: 41 loss 0.03674229606986046\n",
            "epoch: 42 loss 0.03700006753206253\n",
            "epoch: 43 loss 0.03265497460961342\n",
            "epoch: 44 loss 0.03400157764554024\n",
            "epoch: 45 loss 0.031165961176156998\n",
            "epoch: 46 loss 0.033219654113054276\n",
            "epoch: 47 loss 0.03101116418838501\n",
            "epoch: 48 loss 0.030079644173383713\n",
            "epoch: 49 loss 0.03072841465473175\n",
            "epoch: 50 loss 0.0292705986648798\n",
            "epoch: 51 loss 0.029086679220199585\n",
            "epoch: 52 loss 0.027608901262283325\n",
            "epoch: 53 loss 0.029047667980194092\n",
            "epoch: 54 loss 0.026989463716745377\n",
            "epoch: 55 loss 0.02761772833764553\n",
            "epoch: 56 loss 0.0267040878534317\n",
            "epoch: 57 loss 0.02683754824101925\n",
            "epoch: 58 loss 0.025412017479538918\n",
            "epoch: 59 loss 0.026604149490594864\n",
            "epoch: 60 loss 0.024941667914390564\n",
            "epoch: 61 loss 0.024927441030740738\n",
            "epoch: 62 loss 0.02449897862970829\n",
            "epoch: 63 loss 0.024408509954810143\n",
            "epoch: 64 loss 0.023847678676247597\n",
            "epoch: 65 loss 0.02375253289937973\n",
            "epoch: 66 loss 0.023313185200095177\n",
            "epoch: 67 loss 0.022890619933605194\n",
            "epoch: 68 loss 0.022937607020139694\n",
            "epoch: 69 loss 0.022381583228707314\n",
            "epoch: 70 loss 0.022427912801504135\n",
            "epoch: 71 loss 0.02245243638753891\n",
            "epoch: 72 loss 0.021996155381202698\n",
            "epoch: 73 loss 0.02185359038412571\n",
            "epoch: 74 loss 0.021892176941037178\n",
            "epoch: 75 loss 0.021824466064572334\n",
            "epoch: 76 loss 0.02163548581302166\n",
            "epoch: 77 loss 0.02141641080379486\n",
            "epoch: 78 loss 0.02131255716085434\n",
            "epoch: 79 loss 0.02130577340722084\n",
            "epoch: 80 loss 0.021212425082921982\n",
            "epoch: 81 loss 0.021117670461535454\n",
            "epoch: 82 loss 0.020937571302056313\n",
            "epoch: 83 loss 0.02086358144879341\n",
            "epoch: 84 loss 0.02078971266746521\n",
            "epoch: 85 loss 0.020661398768424988\n",
            "epoch: 86 loss 0.020542645826935768\n",
            "epoch: 87 loss 0.02042938396334648\n",
            "epoch: 88 loss 0.020376404747366905\n",
            "epoch: 89 loss 0.020451730117201805\n",
            "epoch: 90 loss 0.020862530916929245\n",
            "epoch: 91 loss 0.0218058954924345\n",
            "epoch: 92 loss 0.023918934166431427\n",
            "epoch: 93 loss 0.02569187432527542\n",
            "epoch: 94 loss 0.020925071090459824\n",
            "epoch: 95 loss 0.020272206515073776\n",
            "epoch: 96 loss 0.02302594669163227\n",
            "epoch: 97 loss 0.021207453683018684\n",
            "epoch: 98 loss 0.0197003036737442\n",
            "epoch: 99 loss 0.020632240921258926\n"
          ]
        }
      ]
    },
    {
      "cell_type": "code",
      "metadata": {
        "colab": {
          "base_uri": "https://localhost:8080/",
          "height": 265
        },
        "id": "DNnmBNYyx8q2",
        "outputId": "0e6a25dd-064c-4bef-fbf1-f1da5b35968e"
      },
      "source": [
        "plt.plot(listLoss, label =\"Trainig loss\")\n",
        "plt.legend()\n",
        "plt.show()"
      ],
      "execution_count": 103,
      "outputs": [
        {
          "output_type": "display_data",
          "data": {
            "image/png": "[encoded data removed]",
            "text/plain": [
              "<Figure size 432x288 with 1 Axes>"
            ]
          },
          "metadata": {
            "needs_background": "light"
          }
        }
      ]
    },
    {
      "cell_type": "code",
      "metadata": {
        "colab": {
          "base_uri": "https://localhost:8080/",
          "height": 265
        },
        "id": "VmpPlEpOyJpm",
        "outputId": "3887ed27-6c90-4976-baa2-86d08e82a3a7"
      },
      "source": [
        "plt.plot(y_train_pred.detach().numpy(), label =\"y_train_pre\", color ='red')\n",
        "plt.plot(y_train.detach().numpy(), label =\"y_train\", color ='green')\n",
        "plt.legend()\n",
        "plt.show()"
      ],
      "execution_count": 104,
      "outputs": [
        {
          "output_type": "display_data",
          "data": {
            "image/png": "[encoded data removed]",
            "text/plain": [
              "<Figure size 432x288 with 1 Axes>"
            ]
          },
          "metadata": {
            "needs_background": "light"
          }
        }
      ]
    },
    {
      "cell_type": "code",
      "metadata": {
        "id": "K5CnA4T-yT2F"
      },
      "source": [
        "from sklearn.metrics import r2_score"
      ],
      "execution_count": 105,
      "outputs": []
    },
    {
      "cell_type": "code",
      "metadata": {
        "id": "bUx151t4yceH"
      },
      "source": [
        "r2_score = r2_score(y_train.detach().numpy(), y_train_pred.detach().numpy())"
      ],
      "execution_count": 106,
      "outputs": []
    },
    {
      "cell_type": "code",
      "metadata": {
        "colab": {
          "base_uri": "https://localhost:8080/"
        },
        "id": "x-NLZXkhygsr",
        "outputId": "cbdc6700-b5f7-4ad8-e0d1-d122820f741e"
      },
      "source": [
        "r2_score"
      ],
      "execution_count": 107,
      "outputs": [
        {
          "output_type": "execute_result",
          "data": {
            "text/plain": [
              "0.9823046543831799"
            ]
          },
          "metadata": {},
          "execution_count": 107
        }
      ]
    },
    {
      "cell_type": "code",
      "metadata": {
        "id": "XhXjyQOwyi61"
      },
      "source": [
        "y_test_pred = model(x_test)"
      ],
      "execution_count": 108,
      "outputs": []
    },
    {
      "cell_type": "code",
      "metadata": {
        "colab": {
          "base_uri": "https://localhost:8080/",
          "height": 265
        },
        "id": "0LZ8Kl42yleF",
        "outputId": "53823e93-7e32-485a-ae0a-3abecb262362"
      },
      "source": [
        "plt.plot(y_test_pred.detach().numpy(), label =\"y_test_pre\", color ='red')\n",
        "plt.plot(y_test.detach().numpy(), label =\"y_test\", color ='green')\n",
        "plt.legend()\n",
        "plt.show()"
      ],
      "execution_count": 109,
      "outputs": [
        {
          "output_type": "display_data",
          "data": {
            "image/png": "[encoded data removed]",
            "text/plain": [
              "<Figure size 432x288 with 1 Axes>"
            ]
          },
          "metadata": {
            "needs_background": "light"
          }
        }
      ]
    },
    {
      "cell_type": "code",
      "metadata": {
        "id": "Ooy04jgBynSi"
      },
      "source": [
        "a = y_test_pred.detach().numpy()\n",
        "b = y_test.detach().numpy()"
      ],
      "execution_count": 110,
      "outputs": []
    },
    {
      "cell_type": "code",
      "metadata": {
        "id": "fLxKQz_eypWu"
      },
      "source": [
        "q1 = a[0:50]\n",
        "q2 = a[50:100]\n",
        "q3 = a[100:150]\n",
        "q4 = a[150:200]\n",
        "q5 = a[200:250]\n",
        "q6 = a[250:300]\n",
        "q7 = a[300:]"
      ],
      "execution_count": 111,
      "outputs": []
    },
    {
      "cell_type": "code",
      "metadata": {
        "id": "QhFaPcT9yv9q"
      },
      "source": [
        "w1 = b[0:50]\n",
        "w2 = b[50:100]\n",
        "w3 = b[100:150]\n",
        "w4 = b[150:200]\n",
        "w5 = b[200:250]\n",
        "w6 = b[250:300]\n",
        "w7 = b[300:]"
      ],
      "execution_count": 112,
      "outputs": []
    },
    {
      "cell_type": "code",
      "metadata": {
        "colab": {
          "base_uri": "https://localhost:8080/"
        },
        "id": "10cZpwmHyxtA",
        "outputId": "f55e7558-04aa-478d-b7d5-e68a07db6c95"
      },
      "source": [
        "len(q1)"
      ],
      "execution_count": 113,
      "outputs": [
        {
          "output_type": "execute_result",
          "data": {
            "text/plain": [
              "50"
            ]
          },
          "metadata": {},
          "execution_count": 113
        }
      ]
    },
    {
      "cell_type": "code",
      "metadata": {
        "id": "WzwkWUNjyzDX"
      },
      "source": [
        "trend = \"\"\n",
        "if (q1[0]<q1[len(q1)-1]):\n",
        "    trend = \"positive trend\"\n",
        "else:\n",
        "  trend = \"negative trend\""
      ],
      "execution_count": 115,
      "outputs": []
    },
    {
      "cell_type": "code",
      "metadata": {
        "colab": {
          "base_uri": "https://localhost:8080/",
          "height": 281
        },
        "id": "_CBvAjSey1uD",
        "outputId": "e8529213-ffad-48f5-ad35-ebaf904e5f93"
      },
      "source": [
        "plt.plot(q1, label =\"y_test_pre\", color ='red')\n",
        "plt.plot(w1, label =\"y_test\", color ='green')\n",
        "plt.title(trend)\n",
        "plt.legend()\n",
        "plt.show()"
      ],
      "execution_count": 116,
      "outputs": [
        {
          "output_type": "display_data",
          "data": {
            "image/png": "[encoded data removed]",
            "text/plain": [
              "<Figure size 432x288 with 1 Axes>"
            ]
          },
          "metadata": {
            "needs_background": "light"
          }
        }
      ]
    },
    {
      "cell_type": "code",
      "metadata": {
        "id": "0bbyepeRy7RA"
      },
      "source": [
        "trend = \"\"\n",
        "if (q2[0]<q2[len(q2)-1]):\n",
        "    trend = \"positive trend\"\n",
        "\n",
        "else:\n",
        "    trend = \"negative trend\""
      ],
      "execution_count": 118,
      "outputs": []
    },
    {
      "cell_type": "code",
      "metadata": {
        "colab": {
          "base_uri": "https://localhost:8080/",
          "height": 281
        },
        "id": "4Ka_RcuCzCRJ",
        "outputId": "5ec1eff7-113c-4017-9e18-adc88e7e0ec0"
      },
      "source": [
        "plt.plot(q2, label =\"y_test_pre\", color ='red')\n",
        "plt.plot(w2, label =\"y_test\", color ='green')\n",
        "plt.title(trend)\n",
        "plt.legend()\n",
        "plt.show()"
      ],
      "execution_count": 119,
      "outputs": [
        {
          "output_type": "display_data",
          "data": {
            "image/png": "[encoded data removed]",
            "text/plain": [
              "<Figure size 432x288 with 1 Axes>"
            ]
          },
          "metadata": {
            "needs_background": "light"
          }
        }
      ]
    },
    {
      "cell_type": "code",
      "metadata": {
        "id": "XJyG3bWczDpL"
      },
      "source": [
        "if (q3[0]<q3[len(q3)-1]):\n",
        "    trend = \"positive trend\"\n",
        "\n",
        "else:\n",
        "    trend = \"negative trend\""
      ],
      "execution_count": 120,
      "outputs": []
    },
    {
      "cell_type": "code",
      "metadata": {
        "colab": {
          "base_uri": "https://localhost:8080/",
          "height": 281
        },
        "id": "xcIRAwXYzF8K",
        "outputId": "747896a6-938c-4ce7-b9e9-ea8fcc8518d4"
      },
      "source": [
        "plt.plot(q3, label =\"y_test_pre\", color ='red')\n",
        "plt.plot(w3, label =\"y_test\", color ='green')\n",
        "plt.title(trend)\n",
        "plt.legend()\n",
        "plt.show()"
      ],
      "execution_count": 121,
      "outputs": [
        {
          "output_type": "display_data",
          "data": {
            "image/png": "[encoded data removed]",
            "text/plain": [
              "<Figure size 432x288 with 1 Axes>"
            ]
          },
          "metadata": {
            "needs_background": "light"
          }
        }
      ]
    },
    {
      "cell_type": "code",
      "metadata": {
        "colab": {
          "base_uri": "https://localhost:8080/",
          "height": 265
        },
        "id": "y6wh6Mj6zHns",
        "outputId": "4ce859bd-b15b-4060-d20b-09d0bfba33ad"
      },
      "source": [
        "plt.plot(q4, label =\"y_test_pre\", color ='red')\n",
        "plt.plot(w4, label =\"y_test\", color ='green')\n",
        "plt.legend()\n",
        "plt.show()"
      ],
      "execution_count": 122,
      "outputs": [
        {
          "output_type": "display_data",
          "data": {
            "image/png": "[encoded data removed]",
            "text/plain": [
              "<Figure size 432x288 with 1 Axes>"
            ]
          },
          "metadata": {
            "needs_background": "light"
          }
        }
      ]
    },
    {
      "cell_type": "code",
      "metadata": {
        "colab": {
          "base_uri": "https://localhost:8080/",
          "height": 265
        },
        "id": "iMt2u3ytzJeK",
        "outputId": "a0ff5f79-9706-4caf-a20b-ef3c43483519"
      },
      "source": [
        "plt.plot(q5, label =\"y_test_pre\", color ='red')\n",
        "plt.plot(w5, label =\"y_test\", color ='green')\n",
        "plt.legend()\n",
        "plt.show()\n"
      ],
      "execution_count": 123,
      "outputs": [
        {
          "output_type": "display_data",
          "data": {
            "image/png": "[encoded data removed]",
            "text/plain": [
              "<Figure size 432x288 with 1 Axes>"
            ]
          },
          "metadata": {
            "needs_background": "light"
          }
        }
      ]
    },
    {
      "cell_type": "code",
      "metadata": {
        "colab": {
          "base_uri": "https://localhost:8080/",
          "height": 265
        },
        "id": "2nAy6hj3zMq-",
        "outputId": "b7d9f382-e8eb-4bdb-fbd7-9c80947eeeea"
      },
      "source": [
        "plt.plot(q6, label =\"y_test_pre\", color ='red')\n",
        "plt.plot(w6, label =\"y_test\", color ='green')\n",
        "plt.legend()\n",
        "plt.show()"
      ],
      "execution_count": 124,
      "outputs": [
        {
          "output_type": "display_data",
          "data": {
            "image/png": "[encoded data removed]",
            "text/plain": [
              "<Figure size 432x288 with 1 Axes>"
            ]
          },
          "metadata": {
            "needs_background": "light"
          }
        }
      ]
    },
    {
      "cell_type": "code",
      "metadata": {
        "colab": {
          "base_uri": "https://localhost:8080/",
          "height": 265
        },
        "id": "OE-IT9dMzOES",
        "outputId": "7d1d429a-ec20-441f-b346-c129795e02ad"
      },
      "source": [
        "plt.plot(q7, label =\"y_test_pre\", color ='red')\n",
        "plt.plot(w7, label =\"y_test\", color ='green')\n",
        "plt.legend()\n",
        "plt.show()"
      ],
      "execution_count": 125,
      "outputs": [
        {
          "output_type": "display_data",
          "data": {
            "image/png": "[encoded data removed]",
            "text/plain": [
              "<Figure size 432x288 with 1 Axes>"
            ]
          },
          "metadata": {
            "needs_background": "light"
          }
        }
      ]
    },
    {
      "cell_type": "code",
      "metadata": {
        "colab": {
          "base_uri": "https://localhost:8080/"
        },
        "id": "yh2mk3-9zP5L",
        "outputId": "770cd7c6-c880-4747-86a0-1d31bc968160"
      },
      "source": [
        "y_test.shape"
      ],
      "execution_count": 126,
      "outputs": [
        {
          "output_type": "execute_result",
          "data": {
            "text/plain": [
              "torch.Size([376, 1])"
            ]
          },
          "metadata": {},
          "execution_count": 126
        }
      ]
    },
    {
      "cell_type": "code",
      "metadata": {
        "colab": {
          "base_uri": "https://localhost:8080/"
        },
        "id": "5ATBwsoHzfyt",
        "outputId": "f64451a2-cc1e-4294-8977-ec53f5f5b1fe"
      },
      "source": [
        "y_test_pred.shape"
      ],
      "execution_count": 127,
      "outputs": [
        {
          "output_type": "execute_result",
          "data": {
            "text/plain": [
              "torch.Size([376, 1])"
            ]
          },
          "metadata": {},
          "execution_count": 127
        }
      ]
    },
    {
      "cell_type": "code",
      "metadata": {
        "id": "JCS4-z3yzhI7"
      },
      "source": [
        "y_test_pred = y_test_pred.detach().numpy()\n",
        "y_test = y_test.detach().numpy()"
      ],
      "execution_count": 128,
      "outputs": []
    },
    {
      "cell_type": "code",
      "metadata": {
        "colab": {
          "base_uri": "https://localhost:8080/"
        },
        "id": "Wa6ZTmZWzjAM",
        "outputId": "a0e815b9-9d6c-44db-cb7e-b1db386a523a"
      },
      "source": [
        "import sklearn\n",
        "r2_score = sklearn.metrics.r2_score(y_test, y_test_pred)\n",
        "r2_score"
      ],
      "execution_count": 129,
      "outputs": [
        {
          "output_type": "execute_result",
          "data": {
            "text/plain": [
              "0.8976718191883805"
            ]
          },
          "metadata": {},
          "execution_count": 129
        }
      ]
    },
    {
      "cell_type": "code",
      "metadata": {
        "id": "ofyG9D9tzkp4"
      },
      "source": [
        "from sklearn.metrics import mean_absolute_error, mean_squared_error # Error"
      ],
      "execution_count": 130,
      "outputs": []
    },
    {
      "cell_type": "code",
      "metadata": {
        "id": "reWSzb9pznbl"
      },
      "source": [
        "mean_absolute_error = mean_absolute_error(y_train.detach().numpy(), y_train_pred.detach().numpy())"
      ],
      "execution_count": 131,
      "outputs": []
    },
    {
      "cell_type": "code",
      "metadata": {
        "colab": {
          "base_uri": "https://localhost:8080/"
        },
        "id": "FXzyDPpGzo7C",
        "outputId": "290dadbc-274f-479c-c8dc-b550ef56e598"
      },
      "source": [
        "mean_absolute_error"
      ],
      "execution_count": 132,
      "outputs": [
        {
          "output_type": "execute_result",
          "data": {
            "text/plain": [
              "0.02063224"
            ]
          },
          "metadata": {},
          "execution_count": 132
        }
      ]
    },
    {
      "cell_type": "code",
      "metadata": {
        "id": "6PkXNWkcztE5"
      },
      "source": [
        "mean_squared_error = mean_squared_error(y_train.detach().numpy(), y_train_pred.detach().numpy())"
      ],
      "execution_count": 133,
      "outputs": []
    },
    {
      "cell_type": "code",
      "metadata": {
        "colab": {
          "base_uri": "https://localhost:8080/"
        },
        "id": "EnMlPuoXzuiP",
        "outputId": "90f9b7bc-a3b6-40d2-ffb2-698f4ec7b1a7"
      },
      "source": [
        "mean_squared_error"
      ],
      "execution_count": 134,
      "outputs": [
        {
          "output_type": "execute_result",
          "data": {
            "text/plain": [
              "0.0007412495"
            ]
          },
          "metadata": {},
          "execution_count": 134
        }
      ]
    },
    {
      "cell_type": "code",
      "metadata": {
        "id": "er6Rz49EzwHm"
      },
      "source": [
        "Root_mean_squared_error = np.sqrt(sklearn.metrics.mean_squared_error(y_train.detach().numpy(), y_train_pred.detach().numpy()))"
      ],
      "execution_count": 135,
      "outputs": []
    },
    {
      "cell_type": "code",
      "metadata": {
        "colab": {
          "base_uri": "https://localhost:8080/"
        },
        "id": "NTuYFaJNzyZV",
        "outputId": "e240c66b-610e-4f7d-8e8e-b7069bf65153"
      },
      "source": [
        "Root_mean_squared_error"
      ],
      "execution_count": 136,
      "outputs": [
        {
          "output_type": "execute_result",
          "data": {
            "text/plain": [
              "0.027225897"
            ]
          },
          "metadata": {},
          "execution_count": 136
        }
      ]
    },
    {
      "cell_type": "code",
      "metadata": {
        "id": "QFsLOHZFzz_x"
      },
      "source": [
        ""
      ],
      "execution_count": null,
      "outputs": []
    },
    {
      "cell_type": "code",
      "metadata": {
        "id": "zAlBZHPLy9-i"
      },
      "source": [
        ""
      ],
      "execution_count": null,
      "outputs": []
    },
    {
      "cell_type": "code",
      "metadata": {
        "id": "13hqbKwHxpKH"
      },
      "source": [
        ""
      ],
      "execution_count": null,
      "outputs": []
    }
  ]
}