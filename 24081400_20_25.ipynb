{
  "nbformat": 4,
  "nbformat_minor": 0,
  "metadata": {
    "colab": {
      "name": "24081400-20:25.ipynb",
      "provenance": [],
      "mount_file_id": "1Ov4d10ho948RCM6NLhus-79K3vUPuarW",
      "authorship_tag": "ABX9TyOrPtATzVbIJRtZbvPA9jIh",
      "include_colab_link": true
    },
    "kernelspec": {
      "name": "python3",
      "display_name": "Python 3"
    },
    "language_info": {
      "name": "python"
    }
  },
  "cells": [
    {
      "cell_type": "markdown",
      "metadata": {
        "id": "view-in-github",
        "colab_type": "text"
      },
      "source": [
        "<a href=\"https://colab.research.google.com/github/MansourMhz/MansourMhz/blob/main/24081400_20_25.ipynb\" target=\"_parent\"><img src=\"https://colab.research.google.com/assets/colab-badge.svg\" alt=\"Open In Colab\"/></a>"
      ]
    },
    {
      "cell_type": "code",
      "metadata": {
        "colab": {
          "base_uri": "https://localhost:8080/",
          "height": 36
        },
        "id": "GG4w0rrLbyyW",
        "outputId": "736e5539-98a6-438d-bc25-4f6c92330a1d"
      },
      "source": [
        "pwd"
      ],
      "execution_count": null,
      "outputs": [
        {
          "output_type": "execute_result",
          "data": {
            "application/vnd.google.colaboratory.intrinsic+json": {
              "type": "string"
            },
            "text/plain": [
              "'/content'"
            ]
          },
          "metadata": {},
          "execution_count": 35
        }
      ]
    },
    {
      "cell_type": "code",
      "metadata": {
        "id": "wNtGSC6mcKHy"
      },
      "source": [
        "from google.colab import drive\n"
      ],
      "execution_count": null,
      "outputs": []
    },
    {
      "cell_type": "code",
      "metadata": {
        "id": "PeIf_mfrcbwT"
      },
      "source": [
        "import pandas as pd\n",
        "import numpy as np\n",
        "import matplotlib.pyplot as plt\n",
        "\n",
        "import torch"
      ],
      "execution_count": null,
      "outputs": []
    },
    {
      "cell_type": "code",
      "metadata": {
        "id": "c-ynTM0_cOnw"
      },
      "source": [
        "dataset = pd.read_csv('/content/drive/MyDrive/MasterThesis/xauusd.csv')"
      ],
      "execution_count": null,
      "outputs": []
    },
    {
      "cell_type": "code",
      "metadata": {
        "colab": {
          "base_uri": "https://localhost:8080/"
        },
        "id": "WzZI1NajcaKW",
        "outputId": "b0c11e65-0029-4d99-e0e5-ccfd8b5ebd4c"
      },
      "source": [
        "type(dataset)\n",
        "\n",
        "dataset.head(5)\n",
        "\n",
        "dataset.shape\n",
        "\n",
        "dataset.shape[0]\n",
        "\n",
        "dataset.shape[1]\n",
        "\n",
        "dataset.shape[0]*0.70\n",
        "\n",
        "num_train = int(dataset.shape[0]*0.70)\n",
        "num_train"
      ],
      "execution_count": null,
      "outputs": [
        {
          "output_type": "execute_result",
          "data": {
            "text/plain": [
              "1015"
            ]
          },
          "metadata": {},
          "execution_count": 39
        }
      ]
    },
    {
      "cell_type": "code",
      "metadata": {
        "colab": {
          "base_uri": "https://localhost:8080/"
        },
        "id": "c6oF6xY4dGzZ",
        "outputId": "20bc69fc-f163-4b85-8f74-5f13fec79b19"
      },
      "source": [
        "type(dataset)"
      ],
      "execution_count": null,
      "outputs": [
        {
          "output_type": "execute_result",
          "data": {
            "text/plain": [
              "pandas.core.frame.DataFrame"
            ]
          },
          "metadata": {},
          "execution_count": 40
        }
      ]
    },
    {
      "cell_type": "code",
      "metadata": {
        "colab": {
          "base_uri": "https://localhost:8080/"
        },
        "id": "3sSCQClvdKSu",
        "outputId": "05c70ef8-ced7-485f-9ca4-3a708d56293c"
      },
      "source": [
        "training_set = dataset.iloc[0:num_train,1].values #open iloc = selection from rows and columns\n",
        "training_set"
      ],
      "execution_count": null,
      "outputs": [
        {
          "output_type": "execute_result",
          "data": {
            "text/plain": [
              "array([1240.49, 1231.44, 1239.49, ..., 1593.43, 1577.24, 1552.94])"
            ]
          },
          "metadata": {},
          "execution_count": 41
        }
      ]
    },
    {
      "cell_type": "code",
      "metadata": {
        "colab": {
          "base_uri": "https://localhost:8080/"
        },
        "id": "raDgQG2hdMmH",
        "outputId": "c5e3841f-f44c-4c34-b1ed-e34467f507db"
      },
      "source": [
        "training_set.shape\n"
      ],
      "execution_count": null,
      "outputs": [
        {
          "output_type": "execute_result",
          "data": {
            "text/plain": [
              "(1015,)"
            ]
          },
          "metadata": {},
          "execution_count": 42
        }
      ]
    },
    {
      "cell_type": "code",
      "metadata": {
        "id": "HjZVc8XedOor"
      },
      "source": [
        "testing_set = dataset.iloc[num_train:,1].values\n"
      ],
      "execution_count": null,
      "outputs": []
    },
    {
      "cell_type": "code",
      "metadata": {
        "id": "PhUe9EYSdQEL"
      },
      "source": [
        "testing_set\n",
        "\n",
        "testing_set.shape\n",
        "\n",
        "from sklearn.preprocessing import MinMaxScaler\n",
        "#class MinMaxScaler"
      ],
      "execution_count": null,
      "outputs": []
    },
    {
      "cell_type": "code",
      "metadata": {
        "colab": {
          "base_uri": "https://localhost:8080/"
        },
        "id": "vT-SaCFVd4nA",
        "outputId": "3c41aa0c-73b1-4b43-d99d-109ff263070b"
      },
      "source": [
        "training_set[0:5].reshape(-1,1)#"
      ],
      "execution_count": null,
      "outputs": [
        {
          "output_type": "execute_result",
          "data": {
            "text/plain": [
              "array([[1240.49],\n",
              "       [1231.44],\n",
              "       [1239.49],\n",
              "       [1260.2 ],\n",
              "       [1264.23]])"
            ]
          },
          "metadata": {},
          "execution_count": 45
        }
      ]
    },
    {
      "cell_type": "code",
      "metadata": {
        "id": "NikpPF2md9p_"
      },
      "source": [
        ""
      ],
      "execution_count": null,
      "outputs": []
    },
    {
      "cell_type": "code",
      "metadata": {
        "id": "Hexccb0WdTl2"
      },
      "source": [
        "type(training_set)\n",
        "\n",
        "sc = MinMaxScaler(feature_range=(0,1)) #oop\n",
        "\n"
      ],
      "execution_count": null,
      "outputs": []
    },
    {
      "cell_type": "code",
      "metadata": {
        "colab": {
          "base_uri": "https://localhost:8080/"
        },
        "id": "fiOF6hsPfyjS",
        "outputId": "32c10649-f910-466c-a232-e43c604c3cb6"
      },
      "source": [
        "training_set[0:5]\n",
        "\n"
      ],
      "execution_count": null,
      "outputs": [
        {
          "output_type": "execute_result",
          "data": {
            "text/plain": [
              "array([1240.49, 1231.44, 1239.49, 1260.2 , 1264.23])"
            ]
          },
          "metadata": {},
          "execution_count": 63
        }
      ]
    },
    {
      "cell_type": "code",
      "metadata": {
        "colab": {
          "base_uri": "https://localhost:8080/"
        },
        "id": "Knn_00KKf52W",
        "outputId": "900ba6c3-5b77-4cb3-9ae9-30a8874d0d48"
      },
      "source": [
        "training_set.reshape(-1,1)"
      ],
      "execution_count": null,
      "outputs": [
        {
          "output_type": "execute_result",
          "data": {
            "text/plain": [
              "array([[1240.49],\n",
              "       [1231.44],\n",
              "       [1239.49],\n",
              "       ...,\n",
              "       [1593.43],\n",
              "       [1577.24],\n",
              "       [1552.94]])"
            ]
          },
          "metadata": {},
          "execution_count": 65
        }
      ]
    },
    {
      "cell_type": "code",
      "metadata": {
        "id": "G3qpn4U5f7Gi"
      },
      "source": [
        ""
      ],
      "execution_count": null,
      "outputs": []
    },
    {
      "cell_type": "code",
      "metadata": {
        "colab": {
          "base_uri": "https://localhost:8080/"
        },
        "id": "aCkCudxtf1UI",
        "outputId": "d47bfeac-e09f-4899-a50b-9855ef8d3bf9"
      },
      "source": [
        "\n",
        "\n",
        "training_set_scaled = sc.fit_transform(training_set.reshape(-1,1))\n",
        "\n",
        "testing_set_scaled = sc.fit_transform(testing_set.reshape(-1,1))\n",
        "\n",
        "type(training_set_scaled)"
      ],
      "execution_count": null,
      "outputs": [
        {
          "output_type": "execute_result",
          "data": {
            "text/plain": [
              "numpy.ndarray"
            ]
          },
          "metadata": {},
          "execution_count": 64
        }
      ]
    },
    {
      "cell_type": "code",
      "metadata": {
        "colab": {
          "base_uri": "https://localhost:8080/"
        },
        "id": "0V6wMId7dYbY",
        "outputId": "c533fe49-267c-4f2a-8b58-5ab38a542e39"
      },
      "source": [
        "timestep = 60\n",
        "X_train =[]\n",
        "Y_train =[]\n",
        "\n",
        "len(training_set)\n",
        "\n",
        "training_set_scaled.shape\n"
      ],
      "execution_count": null,
      "outputs": [
        {
          "output_type": "execute_result",
          "data": {
            "text/plain": [
              "(1015, 1)"
            ]
          },
          "metadata": {},
          "execution_count": 47
        }
      ]
    },
    {
      "cell_type": "code",
      "metadata": {
        "id": "FiqW2q6pdbSX"
      },
      "source": [
        "for i in range(timestep,len(training_set)): # define Time step\n",
        "    X_train.append(training_set_scaled[i-timestep:i,0]) #\n",
        "    Y_train.append(training_set_scaled[i,0])\n"
      ],
      "execution_count": null,
      "outputs": []
    },
    {
      "cell_type": "code",
      "metadata": {
        "colab": {
          "base_uri": "https://localhost:8080/"
        },
        "id": "7A7nW0T5dd0F",
        "outputId": "d1862bd4-76b1-49ea-fe3f-18895375a20b"
      },
      "source": [
        "#training_set_scaled[60-60:60,0] #X_train =0-59  ---Y_train=60\n",
        "\n",
        "#training_set_scaled[61-60:61,0].shape #1-61 ---61\n",
        "\n",
        "#training_set_scaled[62-60:62,0].shape #2-62 ---62\n",
        "\n",
        "#training_set_scaled[63-60:63,0].shape #3-63 ---63"
      ],
      "execution_count": null,
      "outputs": [
        {
          "output_type": "execute_result",
          "data": {
            "text/plain": [
              "(60,)"
            ]
          },
          "metadata": {},
          "execution_count": 49
        }
      ]
    },
    {
      "cell_type": "code",
      "metadata": {
        "colab": {
          "base_uri": "https://localhost:8080/"
        },
        "id": "u46hWkgjgK34",
        "outputId": "22697aee-82e4-444e-f5ff-59d21b3ccec9"
      },
      "source": [
        "type(X_train)\n"
      ],
      "execution_count": null,
      "outputs": [
        {
          "output_type": "execute_result",
          "data": {
            "text/plain": [
              "numpy.ndarray"
            ]
          },
          "metadata": {},
          "execution_count": 66
        }
      ]
    },
    {
      "cell_type": "code",
      "metadata": {
        "id": "zsj1-W99gMGP"
      },
      "source": [
        ""
      ],
      "execution_count": null,
      "outputs": []
    },
    {
      "cell_type": "markdown",
      "metadata": {
        "id": "g6n05rNZgKnq"
      },
      "source": [
        ""
      ]
    },
    {
      "cell_type": "code",
      "metadata": {
        "id": "NWJIl1WndhZG"
      },
      "source": [
        "\n",
        "x_train = np.array(X_train)\n",
        "\n",
        "x_train = np.array(X_train)\n",
        "y_train = np.array(Y_train)\n"
      ],
      "execution_count": null,
      "outputs": []
    },
    {
      "cell_type": "code",
      "metadata": {
        "id": "QfHLAoEogJoI"
      },
      "source": [
        ""
      ],
      "execution_count": null,
      "outputs": []
    },
    {
      "cell_type": "code",
      "metadata": {
        "colab": {
          "base_uri": "https://localhost:8080/"
        },
        "id": "i0ysm-_9djym",
        "outputId": "46609f1f-2e1a-4ffb-9bbf-fb3b3eb6bfcc"
      },
      "source": [
        "type(y_train)\n",
        "\n",
        "y_train.shape\n",
        "\n",
        "x_train.shape"
      ],
      "execution_count": null,
      "outputs": [
        {
          "output_type": "execute_result",
          "data": {
            "text/plain": [
              "(955, 60)"
            ]
          },
          "metadata": {},
          "execution_count": 51
        }
      ]
    },
    {
      "cell_type": "code",
      "metadata": {
        "id": "R7YHqycFdnF5"
      },
      "source": [
        "X_train = np.reshape(x_train,(x_train.shape[0], x_train.shape[1],1))\n",
        "\n",
        "X_train.shape\n",
        "\n",
        "Y_train = np.reshape(y_train,(y_train.shape[0],1))\n",
        "\n",
        "Y_train.shape\n",
        "\n",
        "X_test = []\n",
        "Y_test =[]"
      ],
      "execution_count": null,
      "outputs": []
    },
    {
      "cell_type": "code",
      "metadata": {
        "id": "5K-loHfedp58"
      },
      "source": [
        "for i in range(timestep,len(testing_set)):\n",
        "    X_test.append(testing_set_scaled[i-timestep:i,0])\n",
        "    Y_test.append(testing_set_scaled[i,0])"
      ],
      "execution_count": null,
      "outputs": []
    },
    {
      "cell_type": "code",
      "metadata": {
        "colab": {
          "base_uri": "https://localhost:8080/"
        },
        "id": "BtSYKtscdt2m",
        "outputId": "e6abc098-c8c5-481c-8d7c-fe9c12720fdd"
      },
      "source": [
        "x_test = np.array(X_test)\n",
        "y_test = np.array(Y_test)\n",
        "\n",
        "X_test = np.reshape(x_test,(x_test.shape[0], x_test.shape[1],1))\n",
        "\n",
        "Y_test = np.reshape(y_test,(y_test.shape[0],1))\n",
        "\n",
        "#modeling\n",
        "X_train\n",
        "Y_train\n",
        "#testing\n",
        "X_test\n",
        "Y_test\n",
        "\n",
        "x_train = torch.from_numpy(X_train).type(torch.Tensor)\n",
        "\n",
        "x_train.shape\n",
        "\n",
        "type(x_train)\n",
        "\n",
        "y_train = torch.from_numpy(Y_train).type(torch.Tensor)\n",
        "\n",
        "x_test = torch.from_numpy(X_test).type(torch.Tensor)\n",
        "\n",
        "y_test = torch.from_numpy(Y_test).type(torch.Tensor)\n",
        "\n",
        "x_train\n",
        "y_train\n",
        "x_test\n",
        "y_test\n",
        "\n",
        "x_train[5].shape"
      ],
      "execution_count": null,
      "outputs": [
        {
          "output_type": "execute_result",
          "data": {
            "text/plain": [
              "torch.Size([60, 1])"
            ]
          },
          "metadata": {},
          "execution_count": 54
        }
      ]
    },
    {
      "cell_type": "code",
      "metadata": {
        "id": "LfXEKzuNeGy6"
      },
      "source": [
        "input_dim = 1 #  60 lstm  1 day\n",
        "hidden_dim = 32\n",
        "num_layers = 2\n",
        "output_dim = 1 # 60 lstm 1 day"
      ],
      "execution_count": null,
      "outputs": []
    },
    {
      "cell_type": "code",
      "metadata": {
        "id": "THC8iVSoeLX-"
      },
      "source": [
        "class MyLSTM(torch.nn.Module):\n",
        "\n",
        "    def __init__(self, input_dim, hidden_dim, num_layers,output_dim):\n",
        "        super(MyLSTM,self).__init__()\n",
        "\n",
        "        self.hidden_dim = hidden_dim\n",
        "        self.num_layers = num_layers\n",
        "\n",
        "        self.lstm = torch.nn.LSTM(input_dim, hidden_dim,num_layers, batch_first = True) #1 -- 32\n",
        "\n",
        "        self.fc = torch.nn.Linear(hidden_dim, output_dim) #32 --- 1\n",
        "\n",
        "    def forward(self, x):\n",
        "        h0 = torch.zeros(self.num_layers, x.size(0), self.hidden_dim).requires_grad_()   \n",
        "        c0 = torch.zeros(self.num_layers, x.size(0), self.hidden_dim).requires_grad_()\n",
        "        out, (hn, cn) = self.lstm (x, (h0.detach(),c0.detach()))\n",
        "        out = self.fc(out[:,-1,:]) # black hidd feature\n",
        "\n",
        "        return out\n"
      ],
      "execution_count": null,
      "outputs": []
    },
    {
      "cell_type": "code",
      "metadata": {
        "id": "f39eFBdZeOKb"
      },
      "source": [
        "model = MyLSTM(input_dim=input_dim, hidden_dim=hidden_dim, output_dim=output_dim, num_layers=num_layers)\n",
        "\n",
        "model\n",
        "\n",
        "loss_fn = torch.nn.MSELoss()\n",
        "\n",
        "params=model.parameters()\n",
        "optimizer = torch.optim.Adam(params, lr=0.01)\n",
        "\n",
        "#train model\n",
        "\n",
        "num_epoch = 100\n",
        "listLoss = np.zeros(num_epoch)"
      ],
      "execution_count": null,
      "outputs": []
    },
    {
      "cell_type": "code",
      "metadata": {
        "id": "bcdlHQRPeRC2"
      },
      "source": [
        "for t in range(num_epoch):\n",
        "\n",
        "    y_train_pred = model(x_train) # forward(self,x) inputs\n",
        "    loss = loss_fn(y_train_pred , y_train) #loss\n",
        "    listLoss[t] = loss.item() #save loss in list\n",
        "    #print(\"epoch:\",t,  \"loss\", loss.item()) #print lossepoch\n",
        "    optimizer.zero_grad() #\n",
        "    loss.backward() #\n",
        "    optimizer.step() # update\n",
        "\n"
      ],
      "execution_count": null,
      "outputs": []
    },
    {
      "cell_type": "code",
      "metadata": {
        "colab": {
          "base_uri": "https://localhost:8080/",
          "height": 513
        },
        "id": "hcnLaeoaeXvE",
        "outputId": "1e2b7894-2466-4780-eb1f-0e700ecb87c7"
      },
      "source": [
        "plt.plot(listLoss, label =\"Trainig loss\")\n",
        "plt.legend()\n",
        "plt.show()\n",
        "\n",
        "plt.plot(y_train_pred.detach().numpy(), label =\"y_train_pre\", color ='red')\n",
        "plt.plot(y_train.detach().numpy(), label =\"y_train\", color ='green')\n",
        "plt.legend()\n",
        "plt.show()\n",
        "\n"
      ],
      "execution_count": null,
      "outputs": [
        {
          "output_type": "display_data",
          "data": {
            "image/png": "[encoded data removed]",
            "text/plain": [
              "<Figure size 432x288 with 1 Axes>"
            ]
          },
          "metadata": {
            "needs_background": "light"
          }
        },
        {
          "output_type": "display_data",
          "data": {
            "image/png": "[encoded data removed]",
            "text/plain": [
              "<Figure size 432x288 with 1 Axes>"
            ]
          },
          "metadata": {
            "needs_background": "light"
          }
        }
      ]
    },
    {
      "cell_type": "code",
      "metadata": {
        "colab": {
          "base_uri": "https://localhost:8080/",
          "height": 284
        },
        "id": "mpa52n7AcRpr",
        "outputId": "ffc336f4-b819-4121-d0be-bb2a5e13ad32"
      },
      "source": [
        "from sklearn.metrics import r2_score #regression  #\n",
        "\n",
        "# train evaluation\n",
        "r2_score = r2_score(y_train.detach().numpy(), y_train_pred.detach().numpy())\n",
        "\n",
        "r2_score\n",
        "\n",
        "y_test_pred = model(x_test)\n",
        "\n",
        "plt.plot(y_test_pred.detach().numpy(), label =\"y_test_pre\", color ='red')\n",
        "plt.plot(y_test.detach().numpy(), label =\"y_test\", color ='green')\n",
        "plt.legend()\n",
        "plt.show()\n",
        "\n",
        "y_test.shape\n",
        "\n",
        "y_test_pred.shape\n",
        "\n",
        "y_test1=y_test.detach().numpy()\n",
        "\n",
        "np.array(y_test1)\n",
        "\n",
        "type(y_test1)\n",
        "\n",
        "y_test_pred1=y_test_pred.detach().numpy()\n",
        "\n",
        "type(y_test_pred1)"
      ],
      "execution_count": null,
      "outputs": [
        {
          "output_type": "display_data",
          "data": {
            "image/png": "[encoded data removed]",
            "text/plain": [
              "<Figure size 432x288 with 1 Axes>"
            ]
          },
          "metadata": {
            "needs_background": "light"
          }
        },
        {
          "output_type": "execute_result",
          "data": {
            "text/plain": [
              "numpy.ndarray"
            ]
          },
          "metadata": {},
          "execution_count": 60
        }
      ]
    }
  ]
}