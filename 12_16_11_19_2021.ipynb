{
  "nbformat": 4,
  "nbformat_minor": 0,
  "metadata": {
    "colab": {
      "name": "12:16-11-19-2021.ipynb",
      "provenance": [],
      "collapsed_sections": [],
      "mount_file_id": "1h5W-KcnXDSionta4GAE3Ze8AKxUUtuTo",
      "authorship_tag": "ABX9TyMgKEmmrScWY5sb4YWcdGuX",
      "include_colab_link": true
    },
    "kernelspec": {
      "name": "python3",
      "display_name": "Python 3"
    },
    "language_info": {
      "name": "python"
    },
    "accelerator": "GPU"
  },
  "cells": [
    {
      "cell_type": "markdown",
      "metadata": {
        "id": "view-in-github",
        "colab_type": "text"
      },
      "source": [
        "<a href=\"https://colab.research.google.com/github/MansourMhz/MansourMhz/blob/main/12_16_11_19_2021.ipynb\" target=\"_parent\"><img src=\"https://colab.research.google.com/assets/colab-badge.svg\" alt=\"Open In Colab\"/></a>"
      ]
    },
    {
      "cell_type": "code",
      "metadata": {
        "id": "Em7NmCCbN9yr"
      },
      "source": [
        "import pandas as pd\n",
        "import numpy as np\n",
        "import matplotlib.pyplot as plt\n",
        "import torch"
      ],
      "execution_count": 33,
      "outputs": []
    },
    {
      "cell_type": "code",
      "metadata": {
        "colab": {
          "base_uri": "https://localhost:8080/"
        },
        "id": "zZGQqOGLOBsN",
        "outputId": "1afedaff-6816-4d80-ce74-12191b446a3e"
      },
      "source": [
        "from google.colab import drive\n",
        "drive.mount('/content/drive')"
      ],
      "execution_count": 34,
      "outputs": [
        {
          "output_type": "stream",
          "name": "stdout",
          "text": [
            "Drive already mounted at /content/drive; to attempt to forcibly remount, call drive.mount(\"/content/drive\", force_remount=True).\n"
          ]
        }
      ]
    },
    {
      "cell_type": "code",
      "metadata": {
        "id": "EHQKgxxtaDf0"
      },
      "source": [
        "dataset = pd.read_csv('/content/drive/MyDrive/MasterThesis/XAUUSD_Candlestick_1_M_BID_01.11.2021-13.11.2021(1).csv')"
      ],
      "execution_count": 35,
      "outputs": []
    },
    {
      "cell_type": "code",
      "metadata": {
        "colab": {
          "base_uri": "https://localhost:8080/",
          "height": 206
        },
        "id": "2EXPqLYsOkmz",
        "outputId": "b1fff231-fc1c-4dc1-e82d-34502e3b6066"
      },
      "source": [
        "dataset.head(5)"
      ],
      "execution_count": 36,
      "outputs": [
        {
          "output_type": "execute_result",
          "data": {
            "text/html": [
              "<div>\n",
              "<style scoped>\n",
              "    .dataframe tbody tr th:only-of-type {\n",
              "        vertical-align: middle;\n",
              "    }\n",
              "\n",
              "    .dataframe tbody tr th {\n",
              "        vertical-align: top;\n",
              "    }\n",
              "\n",
              "    .dataframe thead th {\n",
              "        text-align: right;\n",
              "    }\n",
              "</style>\n",
              "<table border=\"1\" class=\"dataframe\">\n",
              "  <thead>\n",
              "    <tr style=\"text-align: right;\">\n",
              "      <th></th>\n",
              "      <th>Gmt time</th>\n",
              "      <th>Open</th>\n",
              "      <th>High</th>\n",
              "      <th>Low</th>\n",
              "      <th>Close</th>\n",
              "      <th>Volume</th>\n",
              "    </tr>\n",
              "  </thead>\n",
              "  <tbody>\n",
              "    <tr>\n",
              "      <th>0</th>\n",
              "      <td>01.11.2021 00:00:00.000</td>\n",
              "      <td>1779.948</td>\n",
              "      <td>1781.228</td>\n",
              "      <td>1779.928</td>\n",
              "      <td>1781.208</td>\n",
              "      <td>26270.0003</td>\n",
              "    </tr>\n",
              "    <tr>\n",
              "      <th>1</th>\n",
              "      <td>01.11.2021 00:01:00.000</td>\n",
              "      <td>1781.218</td>\n",
              "      <td>1781.928</td>\n",
              "      <td>1781.068</td>\n",
              "      <td>1781.428</td>\n",
              "      <td>22980.0008</td>\n",
              "    </tr>\n",
              "    <tr>\n",
              "      <th>2</th>\n",
              "      <td>01.11.2021 00:02:00.000</td>\n",
              "      <td>1781.418</td>\n",
              "      <td>1781.418</td>\n",
              "      <td>1780.978</td>\n",
              "      <td>1781.384</td>\n",
              "      <td>13179.9998</td>\n",
              "    </tr>\n",
              "    <tr>\n",
              "      <th>3</th>\n",
              "      <td>01.11.2021 00:03:00.000</td>\n",
              "      <td>1781.404</td>\n",
              "      <td>1782.038</td>\n",
              "      <td>1781.384</td>\n",
              "      <td>1782.028</td>\n",
              "      <td>18710.0004</td>\n",
              "    </tr>\n",
              "    <tr>\n",
              "      <th>4</th>\n",
              "      <td>01.11.2021 00:04:00.000</td>\n",
              "      <td>1782.018</td>\n",
              "      <td>1782.118</td>\n",
              "      <td>1781.938</td>\n",
              "      <td>1782.058</td>\n",
              "      <td>10110.0001</td>\n",
              "    </tr>\n",
              "  </tbody>\n",
              "</table>\n",
              "</div>"
            ],
            "text/plain": [
              "                  Gmt time      Open      High       Low     Close      Volume\n",
              "0  01.11.2021 00:00:00.000  1779.948  1781.228  1779.928  1781.208  26270.0003\n",
              "1  01.11.2021 00:01:00.000  1781.218  1781.928  1781.068  1781.428  22980.0008\n",
              "2  01.11.2021 00:02:00.000  1781.418  1781.418  1780.978  1781.384  13179.9998\n",
              "3  01.11.2021 00:03:00.000  1781.404  1782.038  1781.384  1782.028  18710.0004\n",
              "4  01.11.2021 00:04:00.000  1782.018  1782.118  1781.938  1782.058  10110.0001"
            ]
          },
          "metadata": {},
          "execution_count": 36
        }
      ]
    },
    {
      "cell_type": "code",
      "metadata": {
        "colab": {
          "base_uri": "https://localhost:8080/"
        },
        "id": "r1VmGlVsO6FI",
        "outputId": "58161ed7-dc38-4dab-ceed-b85cc282890b"
      },
      "source": [
        "type(dataset)"
      ],
      "execution_count": 37,
      "outputs": [
        {
          "output_type": "execute_result",
          "data": {
            "text/plain": [
              "pandas.core.frame.DataFrame"
            ]
          },
          "metadata": {},
          "execution_count": 37
        }
      ]
    },
    {
      "cell_type": "code",
      "metadata": {
        "colab": {
          "base_uri": "https://localhost:8080/"
        },
        "id": "gk6WCR2lPFEh",
        "outputId": "6f2e6661-85f9-4a78-c2e2-a1d5fb6cf5c0"
      },
      "source": [
        "dataset.shape"
      ],
      "execution_count": 38,
      "outputs": [
        {
          "output_type": "execute_result",
          "data": {
            "text/plain": [
              "(18720, 6)"
            ]
          },
          "metadata": {},
          "execution_count": 38
        }
      ]
    },
    {
      "cell_type": "code",
      "metadata": {
        "colab": {
          "base_uri": "https://localhost:8080/"
        },
        "id": "NVff_IzxPJNv",
        "outputId": "c5b8fac1-9e56-49df-a4b5-d038e2c7047d"
      },
      "source": [
        "dataset.shape[0]"
      ],
      "execution_count": 39,
      "outputs": [
        {
          "output_type": "execute_result",
          "data": {
            "text/plain": [
              "18720"
            ]
          },
          "metadata": {},
          "execution_count": 39
        }
      ]
    },
    {
      "cell_type": "code",
      "metadata": {
        "colab": {
          "base_uri": "https://localhost:8080/"
        },
        "id": "UHQUvVtUPKmh",
        "outputId": "0d9f8c33-f5e2-49db-9fb9-f2977982cafa"
      },
      "source": [
        "dataset.shape[1]"
      ],
      "execution_count": 40,
      "outputs": [
        {
          "output_type": "execute_result",
          "data": {
            "text/plain": [
              "6"
            ]
          },
          "metadata": {},
          "execution_count": 40
        }
      ]
    },
    {
      "cell_type": "code",
      "metadata": {
        "id": "ppXT1Mn0PPEH"
      },
      "source": [
        "num_train = int(dataset.shape[0]*0.70)"
      ],
      "execution_count": 41,
      "outputs": []
    },
    {
      "cell_type": "code",
      "metadata": {
        "colab": {
          "base_uri": "https://localhost:8080/"
        },
        "id": "10s6TC2GPRHt",
        "outputId": "88354399-1584-44e3-aa9b-ffd8df78fd58"
      },
      "source": [
        "num_train"
      ],
      "execution_count": 42,
      "outputs": [
        {
          "output_type": "execute_result",
          "data": {
            "text/plain": [
              "13104"
            ]
          },
          "metadata": {},
          "execution_count": 42
        }
      ]
    },
    {
      "cell_type": "code",
      "metadata": {
        "id": "BkX-EuSKPkoB"
      },
      "source": [
        "training_set = dataset.iloc[0:num_train,1].values"
      ],
      "execution_count": 43,
      "outputs": []
    },
    {
      "cell_type": "code",
      "metadata": {
        "colab": {
          "base_uri": "https://localhost:8080/"
        },
        "id": "1C8SAhUIPmsx",
        "outputId": "8d3868a1-6ddf-43ae-9d29-84e984475c00"
      },
      "source": [
        "training_set"
      ],
      "execution_count": 44,
      "outputs": [
        {
          "output_type": "execute_result",
          "data": {
            "text/plain": [
              "array([1779.948, 1781.218, 1781.418, ..., 1827.218, 1827.098, 1827.078])"
            ]
          },
          "metadata": {},
          "execution_count": 44
        }
      ]
    },
    {
      "cell_type": "code",
      "metadata": {
        "colab": {
          "base_uri": "https://localhost:8080/"
        },
        "id": "0gm-IPkoWNkZ",
        "outputId": "5f8d61fe-0673-4c5e-e1b5-f0c44501a3e8"
      },
      "source": [
        "type(training_set)"
      ],
      "execution_count": 45,
      "outputs": [
        {
          "output_type": "execute_result",
          "data": {
            "text/plain": [
              "numpy.ndarray"
            ]
          },
          "metadata": {},
          "execution_count": 45
        }
      ]
    },
    {
      "cell_type": "code",
      "metadata": {
        "colab": {
          "base_uri": "https://localhost:8080/"
        },
        "id": "rTQ-PqoQPqqc",
        "outputId": "a8867146-10fb-4f6d-c2cf-c829cbce59b8"
      },
      "source": [
        "training_set.shape"
      ],
      "execution_count": 46,
      "outputs": [
        {
          "output_type": "execute_result",
          "data": {
            "text/plain": [
              "(13104,)"
            ]
          },
          "metadata": {},
          "execution_count": 46
        }
      ]
    },
    {
      "cell_type": "code",
      "metadata": {
        "id": "5eQ9gmuhPt7n"
      },
      "source": [
        "testing_set = dataset.iloc[num_train:,1].values"
      ],
      "execution_count": 47,
      "outputs": []
    },
    {
      "cell_type": "code",
      "metadata": {
        "colab": {
          "base_uri": "https://localhost:8080/"
        },
        "id": "P-rK47H0Pw8E",
        "outputId": "9c763bdf-d4f3-493f-f9d0-95d616fb2e6f"
      },
      "source": [
        "testing_set"
      ],
      "execution_count": 48,
      "outputs": [
        {
          "output_type": "execute_result",
          "data": {
            "text/plain": [
              "array([1827.088, 1827.148, 1827.193, ..., 1864.448, 1864.448, 1864.448])"
            ]
          },
          "metadata": {},
          "execution_count": 48
        }
      ]
    },
    {
      "cell_type": "code",
      "metadata": {
        "colab": {
          "base_uri": "https://localhost:8080/"
        },
        "id": "c3LaO3YCPzNb",
        "outputId": "50033c62-1fcc-43a1-8f84-4746381a3ec0"
      },
      "source": [
        "testing_set.shape"
      ],
      "execution_count": 49,
      "outputs": [
        {
          "output_type": "execute_result",
          "data": {
            "text/plain": [
              "(5616,)"
            ]
          },
          "metadata": {},
          "execution_count": 49
        }
      ]
    },
    {
      "cell_type": "code",
      "metadata": {
        "id": "CRkxEzx0P1SC"
      },
      "source": [
        "from sklearn.preprocessing import MinMaxScaler"
      ],
      "execution_count": 50,
      "outputs": []
    },
    {
      "cell_type": "code",
      "metadata": {
        "colab": {
          "base_uri": "https://localhost:8080/"
        },
        "id": "pbW667ExP3vg",
        "outputId": "2f807d9f-0367-4a7b-fdc5-bfb1e7460448"
      },
      "source": [
        "type(training_set)"
      ],
      "execution_count": 51,
      "outputs": [
        {
          "output_type": "execute_result",
          "data": {
            "text/plain": [
              "numpy.ndarray"
            ]
          },
          "metadata": {},
          "execution_count": 51
        }
      ]
    },
    {
      "cell_type": "code",
      "metadata": {
        "id": "q2uY78dfP7Z6"
      },
      "source": [
        "sc = MinMaxScaler(feature_range=(0,1))"
      ],
      "execution_count": 52,
      "outputs": []
    },
    {
      "cell_type": "code",
      "metadata": {
        "id": "WcMutwisspqm"
      },
      "source": [
        "training_set_scaled = sc.fit_transform(training_set.reshape(-1,1))"
      ],
      "execution_count": 53,
      "outputs": []
    },
    {
      "cell_type": "code",
      "metadata": {
        "id": "LDtsQmZaVuNC"
      },
      "source": [
        "testing_set_scaled = sc.fit_transform(testing_set.reshape(-1,1))"
      ],
      "execution_count": 54,
      "outputs": []
    },
    {
      "cell_type": "code",
      "metadata": {
        "colab": {
          "base_uri": "https://localhost:8080/"
        },
        "id": "-dUJp0zSWgY3",
        "outputId": "c59223b8-cce5-475b-f1b7-e683a23545a9"
      },
      "source": [
        "type(training_set_scaled)"
      ],
      "execution_count": 55,
      "outputs": [
        {
          "output_type": "execute_result",
          "data": {
            "text/plain": [
              "numpy.ndarray"
            ]
          },
          "metadata": {},
          "execution_count": 55
        }
      ]
    },
    {
      "cell_type": "code",
      "metadata": {
        "id": "ed1vHjP5Wh3L"
      },
      "source": [
        "timestep = 60\n",
        "X_train =[]\n",
        "Y_train =[]"
      ],
      "execution_count": 56,
      "outputs": []
    },
    {
      "cell_type": "code",
      "metadata": {
        "colab": {
          "base_uri": "https://localhost:8080/"
        },
        "id": "LclKIxDyWjih",
        "outputId": "ae86b3f4-e933-419c-b536-aa6917aefa7c"
      },
      "source": [
        "len(training_set)"
      ],
      "execution_count": 57,
      "outputs": [
        {
          "output_type": "execute_result",
          "data": {
            "text/plain": [
              "13104"
            ]
          },
          "metadata": {},
          "execution_count": 57
        }
      ]
    },
    {
      "cell_type": "code",
      "metadata": {
        "id": "RKWKH9HWWk1H"
      },
      "source": [
        "for i in range(timestep,len(training_set)):\n",
        "    X_train.append(training_set_scaled[i-timestep:i,0])\n",
        "    Y_train.append(training_set_scaled[i,0])"
      ],
      "execution_count": 58,
      "outputs": []
    },
    {
      "cell_type": "code",
      "metadata": {
        "id": "iYt__dlmWmMR"
      },
      "source": [
        "type(X_train)\n",
        "\n",
        "x_train = np.array(X_train)\n",
        "\n",
        "x_train = np.array(X_train)\n",
        "y_train = np.array(Y_train)"
      ],
      "execution_count": 59,
      "outputs": []
    },
    {
      "cell_type": "code",
      "metadata": {
        "colab": {
          "base_uri": "https://localhost:8080/"
        },
        "id": "EKHdtIjxWn8R",
        "outputId": "158f6222-c51a-4939-fe3f-5557b2c0e6f3"
      },
      "source": [
        "type(y_train)"
      ],
      "execution_count": 60,
      "outputs": [
        {
          "output_type": "execute_result",
          "data": {
            "text/plain": [
              "numpy.ndarray"
            ]
          },
          "metadata": {},
          "execution_count": 60
        }
      ]
    },
    {
      "cell_type": "code",
      "metadata": {
        "colab": {
          "base_uri": "https://localhost:8080/"
        },
        "id": "wgvywvItWuOI",
        "outputId": "c28ae37a-2a55-43f4-f1a5-f8642328236e"
      },
      "source": [
        "y_train.shape\n",
        "x_train.shape"
      ],
      "execution_count": 61,
      "outputs": [
        {
          "output_type": "execute_result",
          "data": {
            "text/plain": [
              "(13044, 60)"
            ]
          },
          "metadata": {},
          "execution_count": 61
        }
      ]
    },
    {
      "cell_type": "code",
      "metadata": {
        "id": "Bv1YgskIWxcy"
      },
      "source": [
        "X_train = np.reshape(x_train,(x_train.shape[0], x_train.shape[1],1))"
      ],
      "execution_count": 62,
      "outputs": []
    },
    {
      "cell_type": "code",
      "metadata": {
        "colab": {
          "base_uri": "https://localhost:8080/"
        },
        "id": "cuEZ1v0WW1Dn",
        "outputId": "b1782371-cd5b-4966-b072-c8337c908e9c"
      },
      "source": [
        "X_train.shape"
      ],
      "execution_count": 63,
      "outputs": [
        {
          "output_type": "execute_result",
          "data": {
            "text/plain": [
              "(13044, 60, 1)"
            ]
          },
          "metadata": {},
          "execution_count": 63
        }
      ]
    },
    {
      "cell_type": "code",
      "metadata": {
        "id": "ni4Jpr0RW23f"
      },
      "source": [
        "Y_train = np.reshape(y_train,(y_train.shape[0],1))"
      ],
      "execution_count": 64,
      "outputs": []
    },
    {
      "cell_type": "code",
      "metadata": {
        "colab": {
          "base_uri": "https://localhost:8080/"
        },
        "id": "ydn9TYB9W5WZ",
        "outputId": "78ec98f9-dbb8-451f-e47c-5a88eb0e3b35"
      },
      "source": [
        "Y_train.shape"
      ],
      "execution_count": 65,
      "outputs": [
        {
          "output_type": "execute_result",
          "data": {
            "text/plain": [
              "(13044, 1)"
            ]
          },
          "metadata": {},
          "execution_count": 65
        }
      ]
    },
    {
      "cell_type": "code",
      "metadata": {
        "id": "vXNf-5i-W61s"
      },
      "source": [
        "X_test = []\n",
        "Y_test =[]"
      ],
      "execution_count": 66,
      "outputs": []
    },
    {
      "cell_type": "code",
      "metadata": {
        "id": "_EYW0v5LW8XO"
      },
      "source": [
        "for i in range(timestep,len(testing_set)):\n",
        "    X_test.append(testing_set_scaled[i-timestep:i,0])\n",
        "    Y_test.append(testing_set_scaled[i,0])"
      ],
      "execution_count": 67,
      "outputs": []
    },
    {
      "cell_type": "code",
      "metadata": {
        "id": "OX8Tyun0W96r"
      },
      "source": [
        "x_test = np.array(X_test)\n",
        "y_test = np.array(Y_test)\n",
        "X_test = np.reshape(x_test,(x_test.shape[0], x_test.shape[1],1))\n",
        "Y_test = np.reshape(y_test,(y_test.shape[0],1))"
      ],
      "execution_count": 68,
      "outputs": []
    },
    {
      "cell_type": "code",
      "metadata": {
        "colab": {
          "base_uri": "https://localhost:8080/"
        },
        "id": "wFflm4fyXBru",
        "outputId": "2e7b29fa-f4fc-4106-c45c-6f8638dd9018"
      },
      "source": [
        "X_train"
      ],
      "execution_count": 70,
      "outputs": [
        {
          "output_type": "execute_result",
          "data": {
            "text/plain": [
              "array([[[0.2747071 ],\n",
              "        [0.29221227],\n",
              "        [0.29496899],\n",
              "        ...,\n",
              "        [0.30379049],\n",
              "        [0.29560303],\n",
              "        [0.29620951]],\n",
              "\n",
              "       [[0.29221227],\n",
              "        [0.29496899],\n",
              "        [0.29477602],\n",
              "        ...,\n",
              "        [0.29560303],\n",
              "        [0.29620951],\n",
              "        [0.29643005]],\n",
              "\n",
              "       [[0.29496899],\n",
              "        [0.29477602],\n",
              "        [0.30323915],\n",
              "        ...,\n",
              "        [0.29620951],\n",
              "        [0.29643005],\n",
              "        [0.29400414]],\n",
              "\n",
              "       ...,\n",
              "\n",
              "       [[0.94376292],\n",
              "        [0.94665748],\n",
              "        [0.94996554],\n",
              "        ...,\n",
              "        [0.92618884],\n",
              "        [0.92439697],\n",
              "        [0.92425913]],\n",
              "\n",
              "       [[0.94665748],\n",
              "        [0.94996554],\n",
              "        [0.95217092],\n",
              "        ...,\n",
              "        [0.92439697],\n",
              "        [0.92425913],\n",
              "        [0.92625775]],\n",
              "\n",
              "       [[0.94996554],\n",
              "        [0.95217092],\n",
              "        [0.95237767],\n",
              "        ...,\n",
              "        [0.92425913],\n",
              "        [0.92625775],\n",
              "        [0.92460372]]])"
            ]
          },
          "metadata": {},
          "execution_count": 70
        }
      ]
    },
    {
      "cell_type": "code",
      "metadata": {
        "id": "Jam0hThJXGBw"
      },
      "source": [
        "x_train = torch.from_numpy(X_train).type(torch.Tensor)"
      ],
      "execution_count": 71,
      "outputs": []
    },
    {
      "cell_type": "code",
      "metadata": {
        "colab": {
          "base_uri": "https://localhost:8080/"
        },
        "id": "7MG8-Mt5XI7l",
        "outputId": "967c6a0c-474e-401d-fddb-22daa953ef4a"
      },
      "source": [
        "type(x_train)"
      ],
      "execution_count": 72,
      "outputs": [
        {
          "output_type": "execute_result",
          "data": {
            "text/plain": [
              "torch.Tensor"
            ]
          },
          "metadata": {},
          "execution_count": 72
        }
      ]
    },
    {
      "cell_type": "code",
      "metadata": {
        "id": "2_LiXaOlXLKP"
      },
      "source": [
        "y_train = torch.from_numpy(Y_train).type(torch.Tensor)\n",
        "x_test = torch.from_numpy(X_test).type(torch.Tensor)\n",
        "y_test = torch.from_numpy(Y_test).type(torch.Tensor)"
      ],
      "execution_count": 74,
      "outputs": []
    },
    {
      "cell_type": "code",
      "metadata": {
        "colab": {
          "base_uri": "https://localhost:8080/"
        },
        "id": "Aw-644ACXPvV",
        "outputId": "55905df1-fa96-46cf-b8ba-427e8a3e7f4f"
      },
      "source": [
        "x_train"
      ],
      "execution_count": 75,
      "outputs": [
        {
          "output_type": "execute_result",
          "data": {
            "text/plain": [
              "tensor([[[0.2747],\n",
              "         [0.2922],\n",
              "         [0.2950],\n",
              "         ...,\n",
              "         [0.3038],\n",
              "         [0.2956],\n",
              "         [0.2962]],\n",
              "\n",
              "        [[0.2922],\n",
              "         [0.2950],\n",
              "         [0.2948],\n",
              "         ...,\n",
              "         [0.2956],\n",
              "         [0.2962],\n",
              "         [0.2964]],\n",
              "\n",
              "        [[0.2950],\n",
              "         [0.2948],\n",
              "         [0.3032],\n",
              "         ...,\n",
              "         [0.2962],\n",
              "         [0.2964],\n",
              "         [0.2940]],\n",
              "\n",
              "        ...,\n",
              "\n",
              "        [[0.9438],\n",
              "         [0.9467],\n",
              "         [0.9500],\n",
              "         ...,\n",
              "         [0.9262],\n",
              "         [0.9244],\n",
              "         [0.9243]],\n",
              "\n",
              "        [[0.9467],\n",
              "         [0.9500],\n",
              "         [0.9522],\n",
              "         ...,\n",
              "         [0.9244],\n",
              "         [0.9243],\n",
              "         [0.9263]],\n",
              "\n",
              "        [[0.9500],\n",
              "         [0.9522],\n",
              "         [0.9524],\n",
              "         ...,\n",
              "         [0.9243],\n",
              "         [0.9263],\n",
              "         [0.9246]]])"
            ]
          },
          "metadata": {},
          "execution_count": 75
        }
      ]
    },
    {
      "cell_type": "code",
      "metadata": {
        "colab": {
          "base_uri": "https://localhost:8080/"
        },
        "id": "76Q56QnKXSG6",
        "outputId": "2c5a9afb-8384-4ea8-a17a-0d9629848767"
      },
      "source": [
        "y_train"
      ],
      "execution_count": 76,
      "outputs": [
        {
          "output_type": "execute_result",
          "data": {
            "text/plain": [
              "tensor([[0.2964],\n",
              "        [0.2940],\n",
              "        [0.2801],\n",
              "        ...,\n",
              "        [0.9263],\n",
              "        [0.9246],\n",
              "        [0.9243]])"
            ]
          },
          "metadata": {},
          "execution_count": 76
        }
      ]
    },
    {
      "cell_type": "code",
      "metadata": {
        "id": "bkCmxV0IXUIl"
      },
      "source": [
        "input_dim = 1 # day\n",
        "hidden_dim = 32 #\n",
        "num_layers = 2\n",
        "output_dim = 1"
      ],
      "execution_count": 77,
      "outputs": []
    },
    {
      "cell_type": "code",
      "metadata": {
        "id": "yafkN_bWXWMM"
      },
      "source": [
        "class MyLSTM(torch.nn.Module):\n",
        "\n",
        "    def __init__(self, input_dim, hidden_dim, num_layers,output_dim):\n",
        "        super(MyLSTM,self).__init__()\n",
        "\n",
        "        self.hidden_dim = hidden_dim\n",
        "        self.num_layers = num_layers\n",
        "\n",
        "        self.lstm = torch.nn.LSTM(input_dim, hidden_dim,num_layers, batch_first = True) #1 -- 32\n",
        "\n",
        "        self.fc = torch.nn.Linear(hidden_dim, output_dim) #32 --- 1\n",
        "\n",
        "    def forward(self, x):\n",
        "        h0 = torch.zeros(self.num_layers, x.size(0), self.hidden_dim).requires_grad_()   \n",
        "        c0 = torch.zeros(self.num_layers, x.size(0), self.hidden_dim).requires_grad_()\n",
        "        out, (hn, cn) = self.lstm (x, (h0.detach(),c0.detach()))\n",
        "        out = self.fc(out[:,-1,:])\n",
        "\n",
        "        return out"
      ],
      "execution_count": 78,
      "outputs": []
    },
    {
      "cell_type": "code",
      "metadata": {
        "id": "--Ir58xvXZWu"
      },
      "source": [
        "model = MyLSTM(input_dim=input_dim, hidden_dim=hidden_dim, output_dim=output_dim, num_layers=num_layers)\n",
        "\n",
        "model\n",
        "\n",
        "loss_fn = torch.nn.MSELoss()\n",
        "\n",
        "params=model.parameters()\n",
        "optimizer = torch.optim.Adam(params, lr=0.01)\n",
        "\n",
        "#train model\n",
        "\n",
        "num_epoch = 100\n",
        "listLoss = np.zeros(num_epoch)"
      ],
      "execution_count": 79,
      "outputs": []
    },
    {
      "cell_type": "code",
      "metadata": {
        "id": "UaE4QGx6Xcxf"
      },
      "source": [
        "for t in range(num_epoch):\n",
        "\n",
        "    y_train_pred = model(x_train) # forward inputs\n",
        "    loss = loss_fn(y_train_pred , y_train) #loss\n",
        "    listLoss[t] = loss.item() #save loss in list\n",
        "    #print(\"epoch:\",t,  \"loss\", loss.item()) #print lossepoch\n",
        "    optimizer.zero_grad() #\n",
        "    loss.backward() #\n",
        "    optimizer.step() # update"
      ],
      "execution_count": 80,
      "outputs": []
    },
    {
      "cell_type": "code",
      "metadata": {
        "colab": {
          "base_uri": "https://localhost:8080/",
          "height": 265
        },
        "id": "xSmVhzX6Xe0N",
        "outputId": "48abf95f-ad5d-48d6-d6d2-d0e261fa406f"
      },
      "source": [
        "plt.plot(listLoss, label =\"Trainig loss\")\n",
        "plt.legend()\n",
        "plt.show()"
      ],
      "execution_count": 81,
      "outputs": [
        {
          "output_type": "display_data",
          "data": {
            "image/png": "[encoded data removed]",
            "text/plain": [
              "<Figure size 432x288 with 1 Axes>"
            ]
          },
          "metadata": {
            "needs_background": "light"
          }
        }
      ]
    },
    {
      "cell_type": "code",
      "metadata": {
        "colab": {
          "base_uri": "https://localhost:8080/",
          "height": 265
        },
        "id": "KPiebu8CZQtz",
        "outputId": "168baacb-302a-4f8a-a0d6-ff3c26c8fb8c"
      },
      "source": [
        "plt.plot(y_train_pred.detach().numpy(), label =\"y_train_pre\", color ='red')\n",
        "plt.plot(y_train.detach().numpy(), label =\"y_train\", color ='green')\n",
        "plt.legend()\n",
        "plt.show()"
      ],
      "execution_count": 82,
      "outputs": [
        {
          "output_type": "display_data",
          "data": {
            "image/png": "[encoded data removed]",
            "text/plain": [
              "<Figure size 432x288 with 1 Axes>"
            ]
          },
          "metadata": {
            "needs_background": "light"
          }
        }
      ]
    },
    {
      "cell_type": "code",
      "metadata": {
        "id": "sLp549bLZTCQ"
      },
      "source": [
        "from sklearn.metrics import accuracy_score, r2_score"
      ],
      "execution_count": 85,
      "outputs": []
    },
    {
      "cell_type": "code",
      "metadata": {
        "id": "PVsVzjw3ZhL1"
      },
      "source": [
        "r2_score = r2_score(y_train.detach().numpy(), y_train_pred.detach().numpy())"
      ],
      "execution_count": 86,
      "outputs": []
    },
    {
      "cell_type": "code",
      "metadata": {
        "colab": {
          "base_uri": "https://localhost:8080/"
        },
        "id": "2jYWXus3Zi_v",
        "outputId": "ae2df97c-ff87-4f3f-f8b9-61026163c5d9"
      },
      "source": [
        "r2_score"
      ],
      "execution_count": 87,
      "outputs": [
        {
          "output_type": "execute_result",
          "data": {
            "text/plain": [
              "0.9967608217111508"
            ]
          },
          "metadata": {},
          "execution_count": 87
        }
      ]
    },
    {
      "cell_type": "code",
      "metadata": {
        "id": "iJM4k-l2Zkk8"
      },
      "source": [
        "y_test_pred = model(x_test)"
      ],
      "execution_count": 88,
      "outputs": []
    },
    {
      "cell_type": "code",
      "metadata": {
        "colab": {
          "base_uri": "https://localhost:8080/",
          "height": 265
        },
        "id": "1DD4sP5MZl-O",
        "outputId": "2f6dff3b-9eec-4241-81ab-e43be3f8d9cc"
      },
      "source": [
        "plt.plot(y_test_pred.detach().numpy(), label =\"y_test_pre\", color ='red')\n",
        "plt.plot(y_test.detach().numpy(), label =\"y_test\", color ='green')\n",
        "plt.legend()\n",
        "plt.show()"
      ],
      "execution_count": 89,
      "outputs": [
        {
          "output_type": "display_data",
          "data": {
            "image/png": "[encoded data removed]",
            "text/plain": [
              "<Figure size 432x288 with 1 Axes>"
            ]
          },
          "metadata": {
            "needs_background": "light"
          }
        }
      ]
    },
    {
      "cell_type": "code",
      "metadata": {
        "colab": {
          "base_uri": "https://localhost:8080/"
        },
        "id": "XBdZNpYLZnXj",
        "outputId": "c72e4734-a5ad-4281-a4e7-40fe154a8385"
      },
      "source": [
        "y_test.shape"
      ],
      "execution_count": 90,
      "outputs": [
        {
          "output_type": "execute_result",
          "data": {
            "text/plain": [
              "torch.Size([5556, 1])"
            ]
          },
          "metadata": {},
          "execution_count": 90
        }
      ]
    },
    {
      "cell_type": "code",
      "metadata": {
        "colab": {
          "base_uri": "https://localhost:8080/"
        },
        "id": "F9eyR4YoZpOQ",
        "outputId": "22f7b717-98be-41f6-f1c3-240f6b444ea6"
      },
      "source": [
        "y_test_pred.shape"
      ],
      "execution_count": 91,
      "outputs": [
        {
          "output_type": "execute_result",
          "data": {
            "text/plain": [
              "torch.Size([5556, 1])"
            ]
          },
          "metadata": {},
          "execution_count": 91
        }
      ]
    },
    {
      "cell_type": "code",
      "metadata": {
        "colab": {
          "base_uri": "https://localhost:8080/"
        },
        "id": "3MB2KiH-ZqxG",
        "outputId": "5db80d69-88a8-4d46-b9d1-6095c25d30a3"
      },
      "source": [
        "r2_score"
      ],
      "execution_count": 92,
      "outputs": [
        {
          "output_type": "execute_result",
          "data": {
            "text/plain": [
              "0.9967608217111508"
            ]
          },
          "metadata": {},
          "execution_count": 92
        }
      ]
    },
    {
      "cell_type": "code",
      "metadata": {
        "colab": {
          "base_uri": "https://localhost:8080/"
        },
        "id": "0SSKXCZEZscA",
        "outputId": "4c5a1875-2f25-428e-808a-8551528a9400"
      },
      "source": [
        "y_test.shape"
      ],
      "execution_count": 93,
      "outputs": [
        {
          "output_type": "execute_result",
          "data": {
            "text/plain": [
              "torch.Size([5556, 1])"
            ]
          },
          "metadata": {},
          "execution_count": 93
        }
      ]
    },
    {
      "cell_type": "code",
      "metadata": {
        "colab": {
          "base_uri": "https://localhost:8080/"
        },
        "id": "xkn45pnbZtsH",
        "outputId": "ea7a19a7-7aaf-4adb-c479-f36923af7984"
      },
      "source": [
        "y_test.shape"
      ],
      "execution_count": 94,
      "outputs": [
        {
          "output_type": "execute_result",
          "data": {
            "text/plain": [
              "torch.Size([5556, 1])"
            ]
          },
          "metadata": {},
          "execution_count": 94
        }
      ]
    },
    {
      "cell_type": "code",
      "metadata": {
        "colab": {
          "base_uri": "https://localhost:8080/"
        },
        "id": "aLlIuXVSZvcc",
        "outputId": "d2f0c5f1-f6ff-4e73-bfc3-1ffc7db5e2ab"
      },
      "source": [
        "y_test_pred.shape"
      ],
      "execution_count": 95,
      "outputs": [
        {
          "output_type": "execute_result",
          "data": {
            "text/plain": [
              "torch.Size([5556, 1])"
            ]
          },
          "metadata": {},
          "execution_count": 95
        }
      ]
    },
    {
      "cell_type": "code",
      "metadata": {
        "id": "xq7bjgaNZwup"
      },
      "source": [
        ""
      ],
      "execution_count": null,
      "outputs": []
    },
    {
      "cell_type": "code",
      "metadata": {
        "id": "ss-K65FIZXvg"
      },
      "source": [
        ""
      ],
      "execution_count": null,
      "outputs": []
    },
    {
      "cell_type": "code",
      "metadata": {
        "id": "mLJFawb0XDZu"
      },
      "source": [
        ""
      ],
      "execution_count": null,
      "outputs": []
    },
    {
      "cell_type": "code",
      "metadata": {
        "id": "qpI6XnjdP_Ix"
      },
      "source": [
        ""
      ],
      "execution_count": 53,
      "outputs": []
    },
    {
      "cell_type": "code",
      "metadata": {
        "id": "5yGWEn04Pogm"
      },
      "source": [
        ""
      ],
      "execution_count": 53,
      "outputs": []
    }
  ]
}