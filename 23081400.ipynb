{
  "nbformat": 4,
  "nbformat_minor": 0,
  "metadata": {
    "colab": {
      "name": "Copy of Copy of Untitled18.ipynb",
      "provenance": [],
      "collapsed_sections": [],
      "mount_file_id": "1k3aN93SkH_RX8DSzpwXyprV7SPIFzbKL",
      "authorship_tag": "ABX9TyOMjFATkJGYeMXOTZ7AjZoO",
      "include_colab_link": true
    },
    "kernelspec": {
      "display_name": "Python 3",
      "name": "python3"
    },
    "language_info": {
      "name": "python"
    }
  },
  "cells": [
    {
      "cell_type": "markdown",
      "metadata": {
        "id": "view-in-github",
        "colab_type": "text"
      },
      "source": [
        "<a href=\"https://colab.research.google.com/github/MansourMhz/MansourMhz/blob/main/23081400.ipynb\" target=\"_parent\"><img src=\"https://colab.research.google.com/assets/colab-badge.svg\" alt=\"Open In Colab\"/></a>"
      ]
    },
    {
      "cell_type": "code",
      "metadata": {
        "colab": {
          "base_uri": "https://localhost:8080/",
          "height": 36
        },
        "id": "96XTtBzmZFng",
        "outputId": "3013e8f1-fe30-4172-d65d-28cfacf011c6"
      },
      "source": [
        "pwd"
      ],
      "execution_count": 1,
      "outputs": [
        {
          "output_type": "execute_result",
          "data": {
            "application/vnd.google.colaboratory.intrinsic+json": {
              "type": "string"
            },
            "text/plain": [
              "'/content'"
            ]
          },
          "metadata": {},
          "execution_count": 1
        }
      ]
    },
    {
      "cell_type": "code",
      "metadata": {
        "id": "66ysGMw1ZsVf"
      },
      "source": [
        "import pandas as pd\n",
        "import numpy as np\n",
        "import matplotlib.pyplot as plt\n",
        "\n",
        "import torch"
      ],
      "execution_count": 2,
      "outputs": []
    },
    {
      "cell_type": "code",
      "metadata": {
        "colab": {
          "base_uri": "https://localhost:8080/",
          "height": 36
        },
        "id": "iwngPe3AZ0E3",
        "outputId": "d500e719-4798-4ec5-ca9a-8c090086c64c"
      },
      "source": [
        "pwd"
      ],
      "execution_count": 3,
      "outputs": [
        {
          "output_type": "execute_result",
          "data": {
            "application/vnd.google.colaboratory.intrinsic+json": {
              "type": "string"
            },
            "text/plain": [
              "'/content'"
            ]
          },
          "metadata": {},
          "execution_count": 3
        }
      ]
    },
    {
      "cell_type": "code",
      "metadata": {
        "id": "EHQKgxxtaDf0"
      },
      "source": [
        "dataset = pd.read_csv('/content/drive/MyDrive/MasterThesis/xauusd.csv')"
      ],
      "execution_count": 4,
      "outputs": []
    },
    {
      "cell_type": "code",
      "metadata": {
        "colab": {
          "base_uri": "https://localhost:8080/"
        },
        "id": "y6lSo8w7apSh",
        "outputId": "60cb3e49-22c0-420d-f350-01a0f529c574"
      },
      "source": [
        "type(dataset)"
      ],
      "execution_count": 5,
      "outputs": [
        {
          "output_type": "execute_result",
          "data": {
            "text/plain": [
              "pandas.core.frame.DataFrame"
            ]
          },
          "metadata": {},
          "execution_count": 5
        }
      ]
    },
    {
      "cell_type": "code",
      "metadata": {
        "colab": {
          "base_uri": "https://localhost:8080/",
          "height": 206
        },
        "id": "lVDK-m5JavkY",
        "outputId": "dd4b9647-db77-413f-8927-894038a515c5"
      },
      "source": [
        "dataset.head(5)"
      ],
      "execution_count": 6,
      "outputs": [
        {
          "output_type": "execute_result",
          "data": {
            "text/html": [
              "<div>\n",
              "<style scoped>\n",
              "    .dataframe tbody tr th:only-of-type {\n",
              "        vertical-align: middle;\n",
              "    }\n",
              "\n",
              "    .dataframe tbody tr th {\n",
              "        vertical-align: top;\n",
              "    }\n",
              "\n",
              "    .dataframe thead th {\n",
              "        text-align: right;\n",
              "    }\n",
              "</style>\n",
              "<table border=\"1\" class=\"dataframe\">\n",
              "  <thead>\n",
              "    <tr style=\"text-align: right;\">\n",
              "      <th></th>\n",
              "      <th>Date</th>\n",
              "      <th>Open</th>\n",
              "      <th>High</th>\n",
              "      <th>Low</th>\n",
              "      <th>Close</th>\n",
              "    </tr>\n",
              "  </thead>\n",
              "  <tbody>\n",
              "    <tr>\n",
              "      <th>0</th>\n",
              "      <td>2016-03-01</td>\n",
              "      <td>1240.49</td>\n",
              "      <td>1248.77</td>\n",
              "      <td>1227.48</td>\n",
              "      <td>1232.66</td>\n",
              "    </tr>\n",
              "    <tr>\n",
              "      <th>1</th>\n",
              "      <td>2016-03-02</td>\n",
              "      <td>1231.44</td>\n",
              "      <td>1244.23</td>\n",
              "      <td>1225.02</td>\n",
              "      <td>1239.83</td>\n",
              "    </tr>\n",
              "    <tr>\n",
              "      <th>2</th>\n",
              "      <td>2016-03-03</td>\n",
              "      <td>1239.49</td>\n",
              "      <td>1268.55</td>\n",
              "      <td>1237.72</td>\n",
              "      <td>1264.87</td>\n",
              "    </tr>\n",
              "    <tr>\n",
              "      <th>3</th>\n",
              "      <td>2016-03-04</td>\n",
              "      <td>1260.20</td>\n",
              "      <td>1279.97</td>\n",
              "      <td>1250.78</td>\n",
              "      <td>1261.55</td>\n",
              "    </tr>\n",
              "    <tr>\n",
              "      <th>4</th>\n",
              "      <td>2016-03-07</td>\n",
              "      <td>1264.23</td>\n",
              "      <td>1273.43</td>\n",
              "      <td>1257.12</td>\n",
              "      <td>1267.54</td>\n",
              "    </tr>\n",
              "  </tbody>\n",
              "</table>\n",
              "</div>"
            ],
            "text/plain": [
              "         Date     Open     High      Low    Close\n",
              "0  2016-03-01  1240.49  1248.77  1227.48  1232.66\n",
              "1  2016-03-02  1231.44  1244.23  1225.02  1239.83\n",
              "2  2016-03-03  1239.49  1268.55  1237.72  1264.87\n",
              "3  2016-03-04  1260.20  1279.97  1250.78  1261.55\n",
              "4  2016-03-07  1264.23  1273.43  1257.12  1267.54"
            ]
          },
          "metadata": {},
          "execution_count": 6
        }
      ]
    },
    {
      "cell_type": "code",
      "metadata": {
        "colab": {
          "base_uri": "https://localhost:8080/"
        },
        "id": "R4Y89UXxazog",
        "outputId": "800ddbf2-c1bd-4c73-ff41-3de703c60858"
      },
      "source": [
        "dataset.shape"
      ],
      "execution_count": 7,
      "outputs": [
        {
          "output_type": "execute_result",
          "data": {
            "text/plain": [
              "(1451, 5)"
            ]
          },
          "metadata": {},
          "execution_count": 7
        }
      ]
    },
    {
      "cell_type": "code",
      "metadata": {
        "colab": {
          "base_uri": "https://localhost:8080/"
        },
        "id": "0hG6HHFMa1gp",
        "outputId": "7373282a-4bed-4a26-e1ef-200e2e6c80f4"
      },
      "source": [
        "dataset.shape[0]"
      ],
      "execution_count": 8,
      "outputs": [
        {
          "output_type": "execute_result",
          "data": {
            "text/plain": [
              "1451"
            ]
          },
          "metadata": {},
          "execution_count": 8
        }
      ]
    },
    {
      "cell_type": "code",
      "metadata": {
        "colab": {
          "base_uri": "https://localhost:8080/"
        },
        "id": "QhydkWEra319",
        "outputId": "840925c3-e52e-40d1-84b6-d0f257ee95da"
      },
      "source": [
        "dataset.shape[1]"
      ],
      "execution_count": 9,
      "outputs": [
        {
          "output_type": "execute_result",
          "data": {
            "text/plain": [
              "5"
            ]
          },
          "metadata": {},
          "execution_count": 9
        }
      ]
    },
    {
      "cell_type": "code",
      "metadata": {
        "id": "UhWXERB1ryrR"
      },
      "source": [
        "num_train = int(dataset.shape[0]*0.70)"
      ],
      "execution_count": 10,
      "outputs": []
    },
    {
      "cell_type": "code",
      "metadata": {
        "id": "Ql0I0C2PsVfs"
      },
      "source": [
        "training_set = dataset.iloc[0:num_train,1].values #open"
      ],
      "execution_count": 11,
      "outputs": []
    },
    {
      "cell_type": "code",
      "metadata": {
        "colab": {
          "base_uri": "https://localhost:8080/"
        },
        "id": "znslrYobsYun",
        "outputId": "5d1607b5-c48a-4c5e-eaa3-56cc80b05ddd"
      },
      "source": [
        "training_set.shape"
      ],
      "execution_count": 12,
      "outputs": [
        {
          "output_type": "execute_result",
          "data": {
            "text/plain": [
              "(1015,)"
            ]
          },
          "metadata": {},
          "execution_count": 12
        }
      ]
    },
    {
      "cell_type": "code",
      "metadata": {
        "id": "y5lTzVMCsbcy"
      },
      "source": [
        "testing_set = dataset.iloc[num_train:,1].values"
      ],
      "execution_count": 13,
      "outputs": []
    },
    {
      "cell_type": "code",
      "metadata": {
        "colab": {
          "base_uri": "https://localhost:8080/"
        },
        "id": "L9gPoDe8sdLz",
        "outputId": "178cdd99-b7e7-4638-a11d-0ac8d6ee8289"
      },
      "source": [
        "testing_set.shape"
      ],
      "execution_count": 14,
      "outputs": [
        {
          "output_type": "execute_result",
          "data": {
            "text/plain": [
              "(436,)"
            ]
          },
          "metadata": {},
          "execution_count": 14
        }
      ]
    },
    {
      "cell_type": "code",
      "metadata": {
        "id": "gq509gSMsjFC"
      },
      "source": [
        "from sklearn.preprocessing import MinMaxScaler"
      ],
      "execution_count": 15,
      "outputs": []
    },
    {
      "cell_type": "code",
      "metadata": {
        "colab": {
          "base_uri": "https://localhost:8080/"
        },
        "id": "ToJZSBK6slVE",
        "outputId": "cf219199-4583-4bb2-c7db-023aa47fda8c"
      },
      "source": [
        "type(training_set)"
      ],
      "execution_count": 16,
      "outputs": [
        {
          "output_type": "execute_result",
          "data": {
            "text/plain": [
              "numpy.ndarray"
            ]
          },
          "metadata": {},
          "execution_count": 16
        }
      ]
    },
    {
      "cell_type": "code",
      "metadata": {
        "id": "yHcwG3yvsn4J"
      },
      "source": [
        "sc = MinMaxScaler(feature_range=(0,1))"
      ],
      "execution_count": 17,
      "outputs": []
    },
    {
      "cell_type": "code",
      "metadata": {
        "id": "WcMutwisspqm"
      },
      "source": [
        "training_set_scaled = sc.fit_transform(training_set.reshape(-1,1))"
      ],
      "execution_count": 18,
      "outputs": []
    },
    {
      "cell_type": "code",
      "metadata": {
        "id": "z5Diiy0Osu-e"
      },
      "source": [
        "testing_set_scaled = sc.fit_transform(testing_set.reshape(-1,1))"
      ],
      "execution_count": 19,
      "outputs": []
    },
    {
      "cell_type": "code",
      "metadata": {
        "colab": {
          "base_uri": "https://localhost:8080/"
        },
        "id": "WitTLlc-swoJ",
        "outputId": "02cb6c96-0165-46c9-9e72-b8fdeabc8b31"
      },
      "source": [
        "type(training_set_scaled)"
      ],
      "execution_count": 20,
      "outputs": [
        {
          "output_type": "execute_result",
          "data": {
            "text/plain": [
              "numpy.ndarray"
            ]
          },
          "metadata": {},
          "execution_count": 20
        }
      ]
    },
    {
      "cell_type": "code",
      "metadata": {
        "id": "c0D73yw1sy-q"
      },
      "source": [
        "timestep = 60\n",
        "X_train =[]\n",
        "Y_train =[]"
      ],
      "execution_count": 21,
      "outputs": []
    },
    {
      "cell_type": "code",
      "metadata": {
        "colab": {
          "base_uri": "https://localhost:8080/"
        },
        "id": "Z_LqAPnrs1Lc",
        "outputId": "236cf2b2-813b-4d7a-8510-2423630c1173"
      },
      "source": [
        "len(training_set)"
      ],
      "execution_count": 22,
      "outputs": [
        {
          "output_type": "execute_result",
          "data": {
            "text/plain": [
              "1015"
            ]
          },
          "metadata": {},
          "execution_count": 22
        }
      ]
    },
    {
      "cell_type": "code",
      "metadata": {
        "id": "IMa2rB4As3MG"
      },
      "source": [
        "for i in range(timestep,len(training_set)):\n",
        "    X_train.append(training_set_scaled[i-timestep:i,0])\n",
        "    Y_train.append(training_set_scaled[i,0])"
      ],
      "execution_count": 23,
      "outputs": []
    },
    {
      "cell_type": "code",
      "metadata": {
        "id": "WcgZsCHis5F5"
      },
      "source": [
        "type(X_train)\n",
        "\n",
        "x_train = np.array(X_train)\n",
        "\n",
        "x_train = np.array(X_train)\n",
        "y_train = np.array(Y_train)"
      ],
      "execution_count": 24,
      "outputs": []
    },
    {
      "cell_type": "code",
      "metadata": {
        "id": "ya2tFujks7Az"
      },
      "source": [
        "type(y_train)\n",
        "\n",
        "y_train.shape\n",
        "\n",
        "x_train.shape\n",
        "\n",
        "X_train = np.reshape(x_train,(x_train.shape[0], x_train.shape[1],1))\n",
        "\n",
        "X_train.shape\n",
        "\n",
        "Y_train = np.reshape(y_train,(y_train.shape[0],1))\n",
        "\n",
        "Y_train.shape\n",
        "\n",
        "X_test = []\n",
        "Y_test =[]"
      ],
      "execution_count": 25,
      "outputs": []
    },
    {
      "cell_type": "code",
      "metadata": {
        "id": "UvDH0Huxs8-V"
      },
      "source": [
        "for i in range(timestep,len(testing_set)):\n",
        "    X_test.append(testing_set_scaled[i-timestep:i,0])\n",
        "    Y_test.append(testing_set_scaled[i,0])"
      ],
      "execution_count": 26,
      "outputs": []
    },
    {
      "cell_type": "code",
      "metadata": {
        "id": "S9XwnDGps_KF"
      },
      "source": [
        "x_test = np.array(X_test)\n",
        "y_test = np.array(Y_test)\n",
        "\n",
        "X_test = np.reshape(x_test,(x_test.shape[0], x_test.shape[1],1))\n",
        "\n",
        "Y_test = np.reshape(y_test,(y_test.shape[0],1))\n",
        "\n",
        "#modeling\n",
        "#X_train\n",
        "#Y_train\n",
        "#testing\n",
        "#X_test\n",
        "#Y_test"
      ],
      "execution_count": 27,
      "outputs": []
    },
    {
      "cell_type": "code",
      "metadata": {
        "id": "RVhnJLeGtLov"
      },
      "source": [
        "x_train = torch.from_numpy(X_train).type(torch.Tensor)"
      ],
      "execution_count": 28,
      "outputs": []
    },
    {
      "cell_type": "code",
      "metadata": {
        "id": "Md-bYO_qtOc3"
      },
      "source": [
        "type(x_train)\n",
        "\n",
        "y_train = torch.from_numpy(Y_train).type(torch.Tensor)\n",
        "\n",
        "x_test = torch.from_numpy(X_test).type(torch.Tensor)\n",
        "\n",
        "y_test = torch.from_numpy(Y_test).type(torch.Tensor)\n",
        "\n",
        "#x_train\n",
        "#y_train\n",
        "#x_test\n",
        "#y_test"
      ],
      "execution_count": 29,
      "outputs": []
    },
    {
      "cell_type": "code",
      "metadata": {
        "id": "R_QmQNMttQjI"
      },
      "source": [
        "input_dim = 1\n",
        "hidden_dim = 32\n",
        "num_layers = 2\n",
        "output_dim = 1"
      ],
      "execution_count": 30,
      "outputs": []
    },
    {
      "cell_type": "code",
      "metadata": {
        "id": "G9Q8-MketShg"
      },
      "source": [
        "class MyLSTM(torch.nn.Module):\n",
        "\n",
        "    def __init__(self, input_dim, hidden_dim, num_layers,output_dim):\n",
        "        super(MyLSTM,self).__init__()\n",
        "\n",
        "        self.hidden_dim = hidden_dim\n",
        "        self.num_layers = num_layers\n",
        "\n",
        "        self.lstm = torch.nn.LSTM(input_dim, hidden_dim,num_layers, batch_first = True) #1 -- 32\n",
        "\n",
        "        self.fc = torch.nn.Linear(hidden_dim, output_dim) #32 --- 1\n",
        "\n",
        "    def forward(self, x):\n",
        "        h0 = torch.zeros(self.num_layers, x.size(0), self.hidden_dim).requires_grad_()   \n",
        "        c0 = torch.zeros(self.num_layers, x.size(0), self.hidden_dim).requires_grad_()\n",
        "        out, (hn, cn) = self.lstm (x, (h0.detach(),c0.detach()))\n",
        "        out = self.fc(out[:,-1,:])\n",
        "\n",
        "        return out"
      ],
      "execution_count": 31,
      "outputs": []
    },
    {
      "cell_type": "code",
      "metadata": {
        "id": "KGjONh_wtUXW"
      },
      "source": [
        "model = MyLSTM(input_dim=input_dim, hidden_dim=hidden_dim, output_dim=output_dim, num_layers=num_layers)\n",
        "\n",
        "model\n",
        "\n",
        "loss_fn = torch.nn.MSELoss()\n",
        "\n",
        "params=model.parameters()\n",
        "optimizer = torch.optim.Adam(params, lr=0.01)\n",
        "\n",
        "#train model\n",
        "\n",
        "num_epoch = 100\n",
        "listLoss = np.zeros(num_epoch)"
      ],
      "execution_count": 32,
      "outputs": []
    },
    {
      "cell_type": "code",
      "metadata": {
        "id": "Sp8DuSTAtW6W"
      },
      "source": [
        "for t in range(num_epoch):\n",
        "\n",
        "    y_train_pred = model(x_train) # forward inputs\n",
        "    loss = loss_fn(y_train_pred , y_train) #loss\n",
        "    listLoss[t] = loss.item() #save loss in list\n",
        "    #print(\"epoch:\",t,  \"loss\", loss.item()) #print lossepoch\n",
        "    optimizer.zero_grad() #\n",
        "    loss.backward() #\n",
        "    optimizer.step() # update"
      ],
      "execution_count": 33,
      "outputs": []
    },
    {
      "cell_type": "code",
      "metadata": {
        "colab": {
          "base_uri": "https://localhost:8080/",
          "height": 265
        },
        "id": "Xzd_WsXytYqM",
        "outputId": "4a2305fc-7143-4303-aa0e-41778d868c50"
      },
      "source": [
        "plt.plot(listLoss, label =\"Trainig loss\")\n",
        "plt.legend()\n",
        "plt.show()"
      ],
      "execution_count": 34,
      "outputs": [
        {
          "output_type": "display_data",
          "data": {
            "image/png": "[encoded data removed]",
            "text/plain": [
              "<Figure size 432x288 with 1 Axes>"
            ]
          },
          "metadata": {
            "needs_background": "light"
          }
        }
      ]
    },
    {
      "cell_type": "code",
      "metadata": {
        "colab": {
          "base_uri": "https://localhost:8080/",
          "height": 265
        },
        "id": "pvkd5Al4tlTv",
        "outputId": "23a72579-34bd-458e-e782-1fb23b91b567"
      },
      "source": [
        "plt.plot(y_train_pred.detach().numpy(), label =\"y_train_pre\", color ='red')\n",
        "plt.plot(y_train.detach().numpy(), label =\"y_train\", color ='green')\n",
        "plt.legend()\n",
        "plt.show()"
      ],
      "execution_count": 35,
      "outputs": [
        {
          "output_type": "display_data",
          "data": {
            "image/png": "[encoded data removed]",
            "text/plain": [
              "<Figure size 432x288 with 1 Axes>"
            ]
          },
          "metadata": {
            "needs_background": "light"
          }
        }
      ]
    },
    {
      "cell_type": "code",
      "metadata": {
        "id": "GbTOk0NYtncL"
      },
      "source": [
        "from sklearn.metrics import accuracy_score, r2_score"
      ],
      "execution_count": 36,
      "outputs": []
    },
    {
      "cell_type": "code",
      "metadata": {
        "colab": {
          "base_uri": "https://localhost:8080/",
          "height": 284
        },
        "id": "uPdaWp_Ytpev",
        "outputId": "d241947f-55d4-4c92-c3f6-64545d2b71fc"
      },
      "source": [
        "# train evaluation\n",
        "r2_score = r2_score(y_train.detach().numpy(), y_train_pred.detach().numpy())\n",
        "\n",
        "r2_score\n",
        "\n",
        "y_test_pred = model(x_test)\n",
        "\n",
        "plt.plot(y_test_pred.detach().numpy(), label =\"y_test_pre\", color ='red')\n",
        "plt.plot(y_test.detach().numpy(), label =\"y_test\", color ='green')\n",
        "plt.legend()\n",
        "plt.show()\n",
        "\n",
        "y_test.shape\n",
        "\n",
        "y_test_pred.shape"
      ],
      "execution_count": 37,
      "outputs": [
        {
          "output_type": "display_data",
          "data": {
            "image/png": "[encoded data removed]",
            "text/plain": [
              "<Figure size 432x288 with 1 Axes>"
            ]
          },
          "metadata": {
            "needs_background": "light"
          }
        },
        {
          "output_type": "execute_result",
          "data": {
            "text/plain": [
              "torch.Size([376, 1])"
            ]
          },
          "metadata": {},
          "execution_count": 37
        }
      ]
    },
    {
      "cell_type": "code",
      "metadata": {
        "colab": {
          "base_uri": "https://localhost:8080/",
          "height": 192
        },
        "id": "znlKHZoxtr25",
        "outputId": "5b981fec-5993-4754-ede6-9fbd099780a9"
      },
      "source": [
        "#test evaluation\n",
        "r2_score = r2_score(y_test.detach().numpy(), y_test_pred.detach().numpy())"
      ],
      "execution_count": 38,
      "outputs": [
        {
          "output_type": "error",
          "ename": "TypeError",
          "evalue": "ignored",
          "traceback": [
            "\u001b[0;31m---------------------------------------------------------------------------\u001b[0m",
            "\u001b[0;31mTypeError\u001b[0m                                 Traceback (most recent call last)",
            "\u001b[0;32m<ipython-input-38-5872b3bb10b3>\u001b[0m in \u001b[0;36m<module>\u001b[0;34m()\u001b[0m\n\u001b[1;32m      1\u001b[0m \u001b[0;31m#test evaluation\u001b[0m\u001b[0;34m\u001b[0m\u001b[0;34m\u001b[0m\u001b[0;34m\u001b[0m\u001b[0m\n\u001b[0;32m----> 2\u001b[0;31m \u001b[0mr2_score\u001b[0m \u001b[0;34m=\u001b[0m \u001b[0mr2_score\u001b[0m\u001b[0;34m(\u001b[0m\u001b[0my_test\u001b[0m\u001b[0;34m.\u001b[0m\u001b[0mdetach\u001b[0m\u001b[0;34m(\u001b[0m\u001b[0;34m)\u001b[0m\u001b[0;34m.\u001b[0m\u001b[0mnumpy\u001b[0m\u001b[0;34m(\u001b[0m\u001b[0;34m)\u001b[0m\u001b[0;34m,\u001b[0m \u001b[0my_test_pred\u001b[0m\u001b[0;34m.\u001b[0m\u001b[0mdetach\u001b[0m\u001b[0;34m(\u001b[0m\u001b[0;34m)\u001b[0m\u001b[0;34m.\u001b[0m\u001b[0mnumpy\u001b[0m\u001b[0;34m(\u001b[0m\u001b[0;34m)\u001b[0m\u001b[0;34m)\u001b[0m\u001b[0;34m\u001b[0m\u001b[0;34m\u001b[0m\u001b[0m\n\u001b[0m",
            "\u001b[0;31mTypeError\u001b[0m: 'numpy.float64' object is not callable"
          ]
        }
      ]
    },
    {
      "cell_type": "code",
      "metadata": {
        "id": "UMpUKZAbtwZo"
      },
      "source": [
        ""
      ],
      "execution_count": null,
      "outputs": []
    },
    {
      "cell_type": "code",
      "metadata": {
        "id": "49jV6QurtizZ"
      },
      "source": [
        ""
      ],
      "execution_count": null,
      "outputs": []
    },
    {
      "cell_type": "code",
      "metadata": {
        "id": "HxSlJg_SarzF"
      },
      "source": [
        ""
      ],
      "execution_count": null,
      "outputs": []
    },
    {
      "cell_type": "markdown",
      "metadata": {
        "id": "Ihu3fKD_adBo"
      },
      "source": [
        ""
      ]
    }
  ]
}